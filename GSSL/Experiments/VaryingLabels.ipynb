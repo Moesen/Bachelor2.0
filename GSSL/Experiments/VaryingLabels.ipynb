{
 "cells": [
  {
   "cell_type": "code",
   "execution_count": 23,
   "metadata": {},
   "outputs": [],
   "source": [
    "import sys\r\n",
    "sys.path.append(\"..\")"
   ]
  },
  {
   "cell_type": "code",
   "execution_count": 24,
   "metadata": {},
   "outputs": [],
   "source": [
    "import Graph as G\r\n",
    "import Visualization as V\r\n",
    "import DistMatrix as DM\r\n",
    "import Skeletonize as S\r\n",
    "import numpy as np"
   ]
  },
  {
   "cell_type": "code",
   "execution_count": 25,
   "metadata": {},
   "outputs": [
    {
     "data": {
      "text/plain": "<module 'Skeletonize' from '..\\\\Skeletonize.py'>"
     },
     "execution_count": 25,
     "metadata": {},
     "output_type": "execute_result"
    }
   ],
   "source": [
    "import importlib\r\n",
    "importlib.reload(S)"
   ]
  },
  {
   "cell_type": "code",
   "execution_count": 26,
   "metadata": {},
   "outputs": [],
   "source": [
    "size = 10000\r\n",
    "neighbors = 2\r\n",
    "p = .5"
   ]
  },
  {
   "cell_type": "code",
   "execution_count": 27,
   "metadata": {},
   "outputs": [
    {
     "name": "stdout",
     "output_type": "stream",
     "text": [
      "Loading dist matrix and labels\n",
      "Loading dist matrix\n",
      "Constructing knn graph\n"
     ]
    },
    {
     "name": "stderr",
     "output_type": "stream",
     "text": [
      "100%|██████████| 10000/10000 [00:00<00:00, 11855.39it/s]\n"
     ]
    },
    {
     "name": "stdout",
     "output_type": "stream",
     "text": [
      "Loading dist matrix\n",
      "Encoding labels\n"
     ]
    }
   ],
   "source": [
    "g = G.load_knn_g(num=size, k=neighbors)\r\n",
    "dm = DM.load_dist_matrix(size)\r\n",
    "s_oht, lbls, forget = G.oht_labels(size, forget_percentage=p)"
   ]
  },
  {
   "cell_type": "code",
   "execution_count": 28,
   "metadata": {},
   "outputs": [
    {
     "name": "stdout",
     "output_type": "stream",
     "text": [
      "Converting matrix to pygel\n",
      "Creating nodes\n"
     ]
    },
    {
     "name": "stderr",
     "output_type": "stream",
     "text": [
      "10000it [00:00, 277766.64it/s]\n"
     ]
    },
    {
     "name": "stdout",
     "output_type": "stream",
     "text": [
      "Connecting nodes\n"
     ]
    },
    {
     "name": "stderr",
     "output_type": "stream",
     "text": [
      "100%|██████████| 30886/30886 [00:00<00:00, 980519.63it/s]\n"
     ]
    }
   ],
   "source": [
    "importlib.reload(S)\r\n",
    "clbls = np.copy(lbls)\r\n",
    "clbls[forget] = -1\r\n",
    "pg = S.from_matrix_to_pygel(g)"
   ]
  },
  {
   "cell_type": "code",
   "execution_count": 29,
   "metadata": {},
   "outputs": [
    {
     "name": "stdout",
     "output_type": "stream",
     "text": [
      "Converting matrix to pygel\n",
      "Adding nodes and edges\n",
      "Creating positions\n",
      "Adding nodes to pygel\n"
     ]
    },
    {
     "name": "stderr",
     "output_type": "stream",
     "text": [
      "100%|██████████| 10000/10000 [00:00<00:00, 289826.01it/s]\n"
     ]
    },
    {
     "name": "stdout",
     "output_type": "stream",
     "text": [
      "Adding edges to pygel\n"
     ]
    },
    {
     "name": "stderr",
     "output_type": "stream",
     "text": [
      "100%|██████████| 30886/30886 [00:00<00:00, 1065094.17it/s]\n"
     ]
    }
   ],
   "source": [
    "importlib.reload(S)\r\n",
    "ppg = S.pretty_from_matrix_to_pygel(g)"
   ]
  },
  {
   "cell_type": "code",
   "execution_count": 30,
   "metadata": {},
   "outputs": [],
   "source": [
    "from pygel3d import jupyter_display as jd"
   ]
  },
  {
   "cell_type": "code",
   "execution_count": 31,
   "metadata": {},
   "outputs": [
    {
     "data": {
      "application/vnd.jupyter.widget-view+json": {
       "model_id": "2de2f94399e749cfa372b43570467664",
       "version_major": 2,
       "version_minor": 0
      },
      "text/plain": "FigureWidget({\n    'data': [{'hoverinfo': 'none',\n              'line': {'color': 'rgb(0,0,0)', 'width': 1},\n …"
     },
     "metadata": {},
     "output_type": "display_data"
    }
   ],
   "source": [
    "jd.display(ppg)"
   ]
  },
  {
   "cell_type": "code",
   "execution_count": 32,
   "metadata": {},
   "outputs": [
    {
     "data": {
      "application/vnd.jupyter.widget-view+json": {
       "model_id": "b4aead7aa7a543a0834e73e42124e396",
       "version_major": 2,
       "version_minor": 0
      },
      "text/plain": "FigureWidget({\n    'data': [{'hoverinfo': 'none',\n              'line': {'color': 'rgb(0,0,0)', 'width': 1},\n …"
     },
     "metadata": {},
     "output_type": "display_data"
    }
   ],
   "source": [
    "importlib.reload(S)\r\n",
    "pretty_skel, smap = S.skeletonize_pg(ppg, dm, size)\r\n",
    "\r\n",
    "jd.display(pretty_skel)"
   ]
  },
  {
   "cell_type": "code",
   "execution_count": null,
   "metadata": {},
   "outputs": [],
   "source": [
    "jd.display(pretty_skel)"
   ]
  }
 ],
 "metadata": {
  "kernelspec": {
   "display_name": "Python 3.9.1  ('venv': venv)",
   "name": "pythonjvsc74a57bd058aa04b103fd36fc9df9a10149a01a97ade5c9d7d74c8ec61d42dda78da5f273"
  },
  "language_info": {
   "codemirror_mode": {
    "name": "ipython",
    "version": 3
   },
   "file_extension": ".py",
   "mimetype": "text/x-python",
   "name": "python",
   "nbconvert_exporter": "python",
   "pygments_lexer": "ipython3",
   "version": "3.9.1"
  },
  "metadata": {
   "interpreter": {
    "hash": "58aa04b103fd36fc9df9a10149a01a97ade5c9d7d74c8ec61d42dda78da5f273"
   }
  },
  "orig_nbformat": 2
 },
 "nbformat": 4,
 "nbformat_minor": 2
}