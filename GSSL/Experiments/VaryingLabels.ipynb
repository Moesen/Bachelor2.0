{
 "cells": [
  {
   "cell_type": "code",
   "execution_count": null,
   "metadata": {},
   "outputs": [],
   "source": [
    "import sys\r\n",
    "sys.path.append(\"..\")"
   ]
  },
  {
   "cell_type": "code",
   "execution_count": null,
   "metadata": {},
   "outputs": [],
   "source": [
    "import Graph\r\n",
    "import Skeletonize\r\n",
    "import MNIST\r\n",
    "from importlib import reload\r\n",
    "from scipy.sparse import csr_matrix\r\n",
    "import numpy as np\r\n",
    "import os\r\n",
    "import time\r\n",
    "from scipy.spatial.distance import cdist\r\n",
    "\r\n",
    "reload(Graph)\r\n",
    "reload(Skeletonize)\r\n",
    "reload(MNIST)"
   ]
  },
  {
   "cell_type": "code",
   "execution_count": null,
   "metadata": {},
   "outputs": [],
   "source": [
    "def cur_time():\r\n",
    "    t = time.localtime()\r\n",
    "    return f\"{t.tm_hour}:{t.tm_min}:{t.tm_sec}\""
   ]
  },
  {
   "cell_type": "code",
   "execution_count": null,
   "metadata": {},
   "outputs": [],
   "source": [
    "size = 60000\r\n",
    "forget_percentage=[.9, .99, .999]\r\n",
    "SAVE_PATH = r\"F:\\Git\\Bachelor2.0\\Data\\Experiments\\VaryingLabels\"\r\n",
    "Ks = [x for x in range(2, 41, 2)]"
   ]
  },
  {
   "cell_type": "code",
   "execution_count": null,
   "metadata": {},
   "outputs": [],
   "source": [
    "train_x, train_Y, embedding = Graph.load_embedding(size)\r\n",
    "test_x, test_Y = MNIST.load_pymde_testset()\r\n",
    "validation_x, validation_Y = test_x, test_Y\r\n",
    "lp_test_result = []\r\n",
    "\r\n",
    "dist = cdist(validation_x, train_x, metric=\"euclidean\")"
   ]
  },
  {
   "cell_type": "code",
   "execution_count": null,
   "metadata": {},
   "outputs": [],
   "source": [
    "\r\n",
    "for k in Ks:\r\n",
    "    g = Graph.construct_knn_graph_3(embedding, k=k)\r\n",
    "    for fp in forget_percentage:\r\n",
    "        oht = Graph.one_hot_encode_labels(train_Y)\r\n",
    "        oht, forg_indices = Graph.forget_oht_labels(oht, forget_percentage=fp)\r\n",
    "\r\n",
    "        forg_labels = np.copy(train_Y)\r\n",
    "        forg_labels[forg_indices] = -1\r\n",
    "\r\n",
    "        sparse_oht = csr_matrix(oht)\r\n",
    "        new_lbls = Graph.propagate_labels(g, sparse_oht, max_itter=30)\r\n",
    "\r\n",
    "        true_lbls = train_Y[forg_indices]\r\n",
    "        pred_lbls = new_lbls[forg_indices]\r\n",
    "\r\n",
    "        reconstruction_acc = Graph.test_accuracy(true_lbls=true_lbls, pred_labels=pred_lbls)\r\n",
    "\r\n",
    "        test_acc = Graph.test_nums_accuracy(train_x, validation_x, new_lbls, validation_Y, k=k, dist=dist)\r\n",
    "        print(f\"\\n####################\\n{k=} -- {cur_time()}\\n{fp=}\\n{reconstruction_acc=}\\n{test_acc=}\\n####################\\n\")\r\n",
    "\r\n",
    "        lp_test_result.append([k, fp, reconstruction_acc, test_acc])"
   ]
  },
  {
   "cell_type": "code",
   "execution_count": null,
   "metadata": {},
   "outputs": [],
   "source": [
    "num_of_tries = len([x for x in os.listdir(SAVE_PATH) if \"test_lp_\" in x])\r\n",
    "np.savetxt(os.path.join(SAVE_PATH, f\"test_lp_{num_of_tries}.csv\"), lp_test_result, delimiter=\",\", fmt=\"%f\", header=\"Num neighbors, forgot_percentage, reconstruction, test\")"
   ]
  },
  {
   "cell_type": "code",
   "execution_count": null,
   "metadata": {},
   "outputs": [],
   "source": [
    "# train_x, train_Y, embedding = Graph.load_embedding(size)\r\n",
    "# test_x, test_Y = MNIST.load_pymde_testset()\r\n",
    "# validation_x, validation_Y = test_x[:5000], test_Y[:5000]\r\n",
    "srg_test_result = []"
   ]
  },
  {
   "cell_type": "code",
   "execution_count": null,
   "metadata": {},
   "outputs": [],
   "source": [
    "for k in Ks:\r\n",
    "    g = Graph.construct_knn_graph_3(embedding, k=k)\r\n",
    "    pg = Skeletonize.from_matrix_embedding_to_pygel(g, embedding)\r\n",
    "    spg, smap = Skeletonize.load_skeleton_and_smap(k)\r\n",
    "    reduction = len(spg.nodes())\r\n",
    "    for p in forget_percentage:\r\n",
    "        oht = Graph.one_hot_encode_labels(train_Y)\r\n",
    "        oht, forg_indices = Graph.forget_oht_labels(oht, forget_percentage=p)\r\n",
    "\r\n",
    "        forg_labels = np.copy(train_Y)\r\n",
    "        forg_labels[forg_indices] = -1\r\n",
    "\r\n",
    "        sparse_oht = csr_matrix(oht)\r\n",
    "\r\n",
    "        smg, slbls = Skeletonize.from_pygel_to_matrix(spg, forg_labels, smap)\r\n",
    "        prop_labels = Graph.propagate_labels(smg, slbls)\r\n",
    "        relbls = Skeletonize.remap_labels(prop_labels, smap)\r\n",
    "\r\n",
    "        true_lbls = train_Y[forg_indices]\r\n",
    "        pred_lbls = relbls[forg_indices]\r\n",
    "\r\n",
    "        reconstruction_acc = Graph.test_accuracy(true_lbls, pred_lbls)\r\n",
    "\r\n",
    "        test_acc = Graph.test_nums_accuracy(train_x, validation_x, relbls, validation_Y, k=k, dist=dist)\r\n",
    "\r\n",
    "        srg_test_result.append([k, p, reconstruction_acc, test_acc, reduction])\r\n",
    "        print(f\"\\n####################\\n{k=} -- {cur_time()}\\n{p=}\\n{reconstruction_acc=}\\n{test_acc=}\\n{reduction=}\\n####################\\n\")"
   ]
  },
  {
   "cell_type": "code",
   "execution_count": null,
   "metadata": {},
   "outputs": [],
   "source": [
    "print(true_lbls.shape, pred_lbls.shape)\r\n",
    "print(forg_indices.shape)\r\n",
    "print(relbls[forg_indices].shape)"
   ]
  },
  {
   "cell_type": "code",
   "execution_count": null,
   "metadata": {},
   "outputs": [],
   "source": [
    "num_of_tries = len([x for x in os.listdir(SAVE_PATH) if \"test_srg_\" in x])\r\n",
    "np.savetxt(os.path.join(SAVE_PATH, f\"test_srg_{num_of_tries}.csv\"), srg_test_result, delimiter=\",\", fmt=\"%f\", header=\"Num neighbors, forgot_percentage, reconstruction, test, reduction\")"
   ]
  }
 ],
 "metadata": {
  "interpreter": {
   "hash": "27fe2b2542c299aa4a581cc94931f279d393b4ec0f58ed6d304ccf002828e2f8"
  },
  "kernelspec": {
   "display_name": "Python 3.9.1 64-bit ('venv': venv)",
   "name": "python3"
  },
  "language_info": {
   "name": "python",
   "version": ""
  },
  "metadata": {
   "interpreter": {
    "hash": "58aa04b103fd36fc9df9a10149a01a97ade5c9d7d74c8ec61d42dda78da5f273"
   }
  },
  "orig_nbformat": 2
 },
 "nbformat": 4,
 "nbformat_minor": 2
}