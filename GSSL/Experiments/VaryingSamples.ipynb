{
 "cells": [
  {
   "cell_type": "code",
   "execution_count": 80,
   "metadata": {},
   "outputs": [],
   "source": [
    "import sys\r\n",
    "sys.path.append(\"..\")"
   ]
  },
  {
   "cell_type": "code",
   "execution_count": 81,
   "metadata": {},
   "outputs": [
    {
     "data": {
      "text/plain": [
       "<module 'MNIST' from '..\\\\MNIST.py'>"
      ]
     },
     "execution_count": 81,
     "metadata": {},
     "output_type": "execute_result"
    }
   ],
   "source": [
    "import Graph\r\n",
    "import Skeletonize\r\n",
    "import MNIST\r\n",
    "from importlib import reload\r\n",
    "from scipy.sparse import csr_matrix\r\n",
    "import numpy as np\r\n",
    "import os\r\n",
    "import time\r\n",
    "from scipy.spatial.distance import cdist\r\n",
    "\r\n",
    "reload(Graph)\r\n",
    "reload(Skeletonize)\r\n",
    "reload(MNIST)"
   ]
  },
  {
   "cell_type": "code",
   "execution_count": 82,
   "metadata": {},
   "outputs": [],
   "source": [
    "def cur_time():\r\n",
    "    t = time.localtime()\r\n",
    "    return f\"{t.tm_hour}:{t.tm_min}:{t.tm_sec}\""
   ]
  },
  {
   "cell_type": "code",
   "execution_count": 83,
   "metadata": {},
   "outputs": [],
   "source": [
    "sizes = [10000, 20000, 30000, 40000, 50000, 60000]\r\n",
    "forget_percentage=[.9, .99, .999]\r\n",
    "Ks = [4, 16, 32]\r\n",
    "SAVE_PATH = r\"F:\\Git\\Bachelor2.0\\Data\\Experiments\\VaryingSamples\""
   ]
  },
  {
   "cell_type": "code",
   "execution_count": 84,
   "metadata": {},
   "outputs": [],
   "source": [
    "# for s in sizes:\r\n",
    "#     train_x, train_Y = MNIST.load_pymde_mnist(s)\r\n",
    "#     embedding = Graph.construct_embedding(train_x)\r\n",
    "#     Graph.save_embedding(train_x, train_Y, embedding)\r\n",
    "#     print(f\"{train_x.shape=}, {train_Y.shape=}, {embedding.shape=}\")"
   ]
  },
  {
   "cell_type": "code",
   "execution_count": 85,
   "metadata": {},
   "outputs": [
    {
     "name": "stdout",
     "output_type": "stream",
     "text": [
      "Aug 15 03:02:04 AM: Loading cached dataset.\n"
     ]
    }
   ],
   "source": [
    "test_x, test_Y = MNIST.load_pymde_testset()\r\n",
    "true_test_Y = np.copy(test_Y)\r\n",
    "lp_test_result = []"
   ]
  },
  {
   "cell_type": "code",
   "execution_count": 86,
   "metadata": {},
   "outputs": [
    {
     "name": "stdout",
     "output_type": "stream",
     "text": [
      "Calculating Distance\n",
      "Constructing knn graph\n"
     ]
    },
    {
     "name": "stderr",
     "output_type": "stream",
     "text": [
      "100%|██████████| 500/500 [00:00<00:00, 37028.60it/s]\n"
     ]
    },
    {
     "name": "stdout",
     "output_type": "stream",
     "text": [
      "Converting to csr\n",
      "Propagation labels\n"
     ]
    },
    {
     "name": "stderr",
     "output_type": "stream",
     "text": [
      "100%|██████████| 30/30 [00:00<00:00, 1304.47it/s]"
     ]
    },
    {
     "name": "stdout",
     "output_type": "stream",
     "text": [
      "Converting to csr\n",
      "Testing reconstruction accuracy\n",
      "Testing testing set accuracy\n"
     ]
    },
    {
     "name": "stderr",
     "output_type": "stream",
     "text": [
      "\n"
     ]
    },
    {
     "name": "stdout",
     "output_type": "stream",
     "text": [
      "Testing reconstruction accuracy\n",
      "\n",
      "####################\n",
      "cur_time()='3:2:6'\n",
      "k=4\n",
      "s=500\n",
      "p=0.9\n",
      "reconstruction_acc=66.66666666666666\n",
      "test_acc=58.34\n",
      "####################\n",
      "\n",
      "Propagation labels\n"
     ]
    },
    {
     "name": "stderr",
     "output_type": "stream",
     "text": [
      "100%|██████████| 30/30 [00:00<00:00, 1538.38it/s]"
     ]
    },
    {
     "name": "stdout",
     "output_type": "stream",
     "text": [
      "Converting to csr\n",
      "Testing reconstruction accuracy\n",
      "Testing testing set accuracy\n",
      "Testing reconstruction accuracy\n"
     ]
    },
    {
     "name": "stderr",
     "output_type": "stream",
     "text": [
      "\n"
     ]
    },
    {
     "name": "stdout",
     "output_type": "stream",
     "text": [
      "\n",
      "####################\n",
      "cur_time()='3:2:6'\n",
      "k=4\n",
      "s=500\n",
      "p=0.99\n",
      "reconstruction_acc=15.757575757575756\n",
      "test_acc=13.450000000000001\n",
      "####################\n",
      "\n",
      "Propagation labels\n"
     ]
    },
    {
     "name": "stderr",
     "output_type": "stream",
     "text": [
      "100%|██████████| 30/30 [00:00<00:00, 1578.84it/s]"
     ]
    },
    {
     "name": "stdout",
     "output_type": "stream",
     "text": [
      "Converting to csr\n",
      "Testing reconstruction accuracy\n",
      "Testing testing set accuracy\n",
      "Testing reconstruction accuracy\n"
     ]
    },
    {
     "name": "stderr",
     "output_type": "stream",
     "text": [
      "\n"
     ]
    },
    {
     "name": "stdout",
     "output_type": "stream",
     "text": [
      "\n",
      "####################\n",
      "cur_time()='3:2:6'\n",
      "k=4\n",
      "s=500\n",
      "p=0.999\n",
      "reconstruction_acc=10.420841683366733\n",
      "test_acc=9.83\n",
      "####################\n",
      "\n",
      "Propagation labels\n"
     ]
    },
    {
     "name": "stderr",
     "output_type": "stream",
     "text": [
      "100%|██████████| 30/30 [00:00<00:00, 1621.53it/s]\n"
     ]
    },
    {
     "name": "stdout",
     "output_type": "stream",
     "text": [
      "Converting to csr\n",
      "Testing reconstruction accuracy\n",
      "Testing testing set accuracy\n",
      "Testing reconstruction accuracy\n",
      "\n",
      "####################\n",
      "cur_time()='3:2:6'\n",
      "k=4\n",
      "s=500\n",
      "p=0.9999\n",
      "reconstruction_acc=10.420841683366733\n",
      "test_acc=9.83\n",
      "####################\n",
      "\n",
      "Constructing knn graph\n"
     ]
    },
    {
     "name": "stderr",
     "output_type": "stream",
     "text": [
      "100%|██████████| 500/500 [00:00<00:00, 35734.52it/s]\n"
     ]
    },
    {
     "name": "stdout",
     "output_type": "stream",
     "text": [
      "Converting to csr\n",
      "Propagation labels\n"
     ]
    },
    {
     "name": "stderr",
     "output_type": "stream",
     "text": [
      "100%|██████████| 30/30 [00:00<00:00, 1176.95it/s]"
     ]
    },
    {
     "name": "stdout",
     "output_type": "stream",
     "text": [
      "Converting to csr\n",
      "Testing reconstruction accuracy\n",
      "Testing testing set accuracy\n"
     ]
    },
    {
     "name": "stderr",
     "output_type": "stream",
     "text": [
      "\n"
     ]
    },
    {
     "name": "stdout",
     "output_type": "stream",
     "text": [
      "Testing reconstruction accuracy\n",
      "\n",
      "####################\n",
      "cur_time()='3:2:7'\n",
      "k=16\n",
      "s=500\n",
      "p=0.9\n",
      "reconstruction_acc=71.11111111111111\n",
      "test_acc=58.040000000000006\n",
      "####################\n",
      "\n",
      "Propagation labels\n"
     ]
    },
    {
     "name": "stderr",
     "output_type": "stream",
     "text": [
      "100%|██████████| 30/30 [00:00<00:00, 1363.51it/s]"
     ]
    },
    {
     "name": "stdout",
     "output_type": "stream",
     "text": [
      "Converting to csr\n",
      "Testing reconstruction accuracy\n",
      "Testing testing set accuracy\n",
      "Testing reconstruction accuracy\n"
     ]
    },
    {
     "name": "stderr",
     "output_type": "stream",
     "text": [
      "\n"
     ]
    },
    {
     "name": "stdout",
     "output_type": "stream",
     "text": [
      "\n",
      "####################\n",
      "cur_time()='3:2:7'\n",
      "k=16\n",
      "s=500\n",
      "p=0.99\n",
      "reconstruction_acc=30.50505050505051\n",
      "test_acc=27.21\n",
      "####################\n",
      "\n",
      "Propagation labels\n"
     ]
    },
    {
     "name": "stderr",
     "output_type": "stream",
     "text": [
      "100%|██████████| 30/30 [00:00<00:00, 499.99it/s]\n"
     ]
    },
    {
     "name": "stdout",
     "output_type": "stream",
     "text": [
      "Converting to csr\n",
      "Testing reconstruction accuracy\n",
      "Testing testing set accuracy\n",
      "Testing reconstruction accuracy\n",
      "\n",
      "####################\n",
      "cur_time()='3:2:7'\n",
      "k=16\n",
      "s=500\n",
      "p=0.999\n",
      "reconstruction_acc=20.440881763527056\n",
      "test_acc=19.27\n",
      "####################\n",
      "\n",
      "Propagation labels\n"
     ]
    },
    {
     "name": "stderr",
     "output_type": "stream",
     "text": [
      "100%|██████████| 30/30 [00:00<00:00, 1538.23it/s]"
     ]
    },
    {
     "name": "stdout",
     "output_type": "stream",
     "text": [
      "Converting to csr\n",
      "Testing reconstruction accuracy\n",
      "Testing testing set accuracy\n",
      "Testing reconstruction accuracy\n"
     ]
    },
    {
     "name": "stderr",
     "output_type": "stream",
     "text": [
      "\n"
     ]
    },
    {
     "name": "stdout",
     "output_type": "stream",
     "text": [
      "\n",
      "####################\n",
      "cur_time()='3:2:7'\n",
      "k=16\n",
      "s=500\n",
      "p=0.9999\n",
      "reconstruction_acc=20.440881763527056\n",
      "test_acc=19.27\n",
      "####################\n",
      "\n",
      "Constructing knn graph\n"
     ]
    },
    {
     "name": "stderr",
     "output_type": "stream",
     "text": [
      "100%|██████████| 500/500 [00:00<00:00, 33330.45it/s]\n"
     ]
    },
    {
     "name": "stdout",
     "output_type": "stream",
     "text": [
      "Converting to csr\n",
      "Propagation labels\n"
     ]
    },
    {
     "name": "stderr",
     "output_type": "stream",
     "text": [
      "100%|██████████| 30/30 [00:00<00:00, 999.89it/s]"
     ]
    },
    {
     "name": "stdout",
     "output_type": "stream",
     "text": [
      "Converting to csr\n",
      "Testing reconstruction accuracy\n",
      "Testing testing set accuracy\n"
     ]
    },
    {
     "name": "stderr",
     "output_type": "stream",
     "text": [
      "\n"
     ]
    },
    {
     "name": "stdout",
     "output_type": "stream",
     "text": [
      "Testing reconstruction accuracy\n",
      "\n",
      "####################\n",
      "cur_time()='3:2:7'\n",
      "k=32\n",
      "s=500\n",
      "p=0.9\n",
      "reconstruction_acc=58.88888888888889\n",
      "test_acc=47.92\n",
      "####################\n",
      "\n",
      "Propagation labels\n"
     ]
    },
    {
     "name": "stderr",
     "output_type": "stream",
     "text": [
      "100%|██████████| 30/30 [00:00<00:00, 1199.97it/s]"
     ]
    },
    {
     "name": "stdout",
     "output_type": "stream",
     "text": [
      "Converting to csr\n",
      "Testing reconstruction accuracy\n",
      "Testing testing set accuracy\n",
      "Testing reconstruction accuracy\n"
     ]
    },
    {
     "name": "stderr",
     "output_type": "stream",
     "text": [
      "\n"
     ]
    },
    {
     "name": "stdout",
     "output_type": "stream",
     "text": [
      "\n",
      "####################\n",
      "cur_time()='3:2:8'\n",
      "k=32\n",
      "s=500\n",
      "p=0.99\n",
      "reconstruction_acc=34.34343434343434\n",
      "test_acc=29.53\n",
      "####################\n",
      "\n",
      "Propagation labels\n"
     ]
    },
    {
     "name": "stderr",
     "output_type": "stream",
     "text": [
      "100%|██████████| 30/30 [00:00<00:00, 1500.50it/s]"
     ]
    },
    {
     "name": "stdout",
     "output_type": "stream",
     "text": [
      "Converting to csr\n",
      "Testing reconstruction accuracy\n",
      "Testing testing set accuracy\n",
      "Testing reconstruction accuracy\n"
     ]
    },
    {
     "name": "stderr",
     "output_type": "stream",
     "text": [
      "\n"
     ]
    },
    {
     "name": "stdout",
     "output_type": "stream",
     "text": [
      "\n",
      "####################\n",
      "cur_time()='3:2:8'\n",
      "k=32\n",
      "s=500\n",
      "p=0.999\n",
      "reconstruction_acc=20.440881763527056\n",
      "test_acc=19.27\n",
      "####################\n",
      "\n",
      "Propagation labels\n"
     ]
    },
    {
     "name": "stderr",
     "output_type": "stream",
     "text": [
      "100%|██████████| 30/30 [00:00<00:00, 1499.91it/s]"
     ]
    },
    {
     "name": "stdout",
     "output_type": "stream",
     "text": [
      "Converting to csr\n",
      "Testing reconstruction accuracy\n",
      "Testing testing set accuracy\n",
      "Testing reconstruction accuracy\n"
     ]
    },
    {
     "name": "stderr",
     "output_type": "stream",
     "text": [
      "\n"
     ]
    },
    {
     "name": "stdout",
     "output_type": "stream",
     "text": [
      "\n",
      "####################\n",
      "cur_time()='3:2:8'\n",
      "k=32\n",
      "s=500\n",
      "p=0.9999\n",
      "reconstruction_acc=20.440881763527056\n",
      "test_acc=19.27\n",
      "####################\n",
      "\n",
      "Calculating Distance\n",
      "Constructing knn graph\n"
     ]
    },
    {
     "name": "stderr",
     "output_type": "stream",
     "text": [
      "100%|██████████| 1000/1000 [00:00<00:00, 38458.68it/s]\n"
     ]
    },
    {
     "name": "stdout",
     "output_type": "stream",
     "text": [
      "Converting to csr\n",
      "Propagation labels\n"
     ]
    },
    {
     "name": "stderr",
     "output_type": "stream",
     "text": [
      "100%|██████████| 30/30 [00:00<00:00, 845.13it/s]"
     ]
    },
    {
     "name": "stdout",
     "output_type": "stream",
     "text": [
      "Converting to csr\n",
      "Testing reconstruction accuracy\n",
      "Testing testing set accuracy\n"
     ]
    },
    {
     "name": "stderr",
     "output_type": "stream",
     "text": [
      "\n"
     ]
    },
    {
     "name": "stdout",
     "output_type": "stream",
     "text": [
      "Testing reconstruction accuracy\n",
      "\n",
      "####################\n",
      "cur_time()='3:2:11'\n",
      "k=4\n",
      "s=1000\n",
      "p=0.9\n",
      "reconstruction_acc=65.44444444444444\n",
      "test_acc=63.59\n",
      "####################\n",
      "\n",
      "Propagation labels\n"
     ]
    },
    {
     "name": "stderr",
     "output_type": "stream",
     "text": [
      "100%|██████████| 30/30 [00:00<00:00, 999.95it/s]"
     ]
    },
    {
     "name": "stdout",
     "output_type": "stream",
     "text": [
      "Converting to csr\n",
      "Testing reconstruction accuracy\n",
      "Testing testing set accuracy\n"
     ]
    },
    {
     "name": "stderr",
     "output_type": "stream",
     "text": [
      "\n"
     ]
    },
    {
     "name": "stdout",
     "output_type": "stream",
     "text": [
      "Testing reconstruction accuracy\n",
      "\n",
      "####################\n",
      "cur_time()='3:2:11'\n",
      "k=4\n",
      "s=1000\n",
      "p=0.99\n",
      "reconstruction_acc=35.65656565656566\n",
      "test_acc=26.72\n",
      "####################\n",
      "\n",
      "Propagation labels\n"
     ]
    },
    {
     "name": "stderr",
     "output_type": "stream",
     "text": [
      "100%|██████████| 30/30 [00:00<00:00, 444.44it/s]"
     ]
    },
    {
     "name": "stdout",
     "output_type": "stream",
     "text": [
      "Converting to csr\n",
      "Testing reconstruction accuracy\n",
      "Testing testing set accuracy\n"
     ]
    },
    {
     "name": "stderr",
     "output_type": "stream",
     "text": [
      "\n"
     ]
    },
    {
     "name": "stdout",
     "output_type": "stream",
     "text": [
      "Testing reconstruction accuracy\n",
      "\n",
      "####################\n",
      "cur_time()='3:2:11'\n",
      "k=4\n",
      "s=1000\n",
      "p=0.999\n",
      "reconstruction_acc=13.913913913913914\n",
      "test_acc=12.45\n",
      "####################\n",
      "\n",
      "Propagation labels\n"
     ]
    },
    {
     "name": "stderr",
     "output_type": "stream",
     "text": [
      "100%|██████████| 30/30 [00:00<00:00, 1034.58it/s]"
     ]
    },
    {
     "name": "stdout",
     "output_type": "stream",
     "text": [
      "Converting to csr\n",
      "Testing reconstruction accuracy\n",
      "Testing testing set accuracy\n"
     ]
    },
    {
     "name": "stderr",
     "output_type": "stream",
     "text": [
      "\n"
     ]
    },
    {
     "name": "stdout",
     "output_type": "stream",
     "text": [
      "Testing reconstruction accuracy\n",
      "\n",
      "####################\n",
      "cur_time()='3:2:12'\n",
      "k=4\n",
      "s=1000\n",
      "p=0.9999\n",
      "reconstruction_acc=13.913913913913914\n",
      "test_acc=12.45\n",
      "####################\n",
      "\n",
      "Constructing knn graph\n"
     ]
    },
    {
     "name": "stderr",
     "output_type": "stream",
     "text": [
      "100%|██████████| 1000/1000 [00:00<00:00, 37034.82it/s]\n"
     ]
    },
    {
     "name": "stdout",
     "output_type": "stream",
     "text": [
      "Converting to csr\n",
      "Propagation labels\n"
     ]
    },
    {
     "name": "stderr",
     "output_type": "stream",
     "text": [
      "100%|██████████| 30/30 [00:00<00:00, 618.58it/s]"
     ]
    },
    {
     "name": "stdout",
     "output_type": "stream",
     "text": [
      "Converting to csr\n",
      "Testing reconstruction accuracy\n",
      "Testing testing set accuracy\n"
     ]
    },
    {
     "name": "stderr",
     "output_type": "stream",
     "text": [
      "\n"
     ]
    },
    {
     "name": "stdout",
     "output_type": "stream",
     "text": [
      "Testing reconstruction accuracy\n",
      "\n",
      "####################\n",
      "cur_time()='3:2:12'\n",
      "k=16\n",
      "s=1000\n",
      "p=0.9\n",
      "reconstruction_acc=74.33333333333333\n",
      "test_acc=69.16\n",
      "####################\n",
      "\n",
      "Propagation labels\n"
     ]
    },
    {
     "name": "stderr",
     "output_type": "stream",
     "text": [
      "100%|██████████| 30/30 [00:00<00:00, 375.01it/s]"
     ]
    },
    {
     "name": "stdout",
     "output_type": "stream",
     "text": [
      "Converting to csr\n",
      "Testing reconstruction accuracy\n",
      "Testing testing set accuracy\n"
     ]
    },
    {
     "name": "stderr",
     "output_type": "stream",
     "text": [
      "\n"
     ]
    },
    {
     "name": "stdout",
     "output_type": "stream",
     "text": [
      "Testing reconstruction accuracy\n",
      "\n",
      "####################\n",
      "cur_time()='3:2:12'\n",
      "k=16\n",
      "s=1000\n",
      "p=0.99\n",
      "reconstruction_acc=55.85858585858586\n",
      "test_acc=50.41\n",
      "####################\n",
      "\n",
      "Propagation labels\n"
     ]
    },
    {
     "name": "stderr",
     "output_type": "stream",
     "text": [
      "100%|██████████| 30/30 [00:00<00:00, 952.32it/s]"
     ]
    },
    {
     "name": "stdout",
     "output_type": "stream",
     "text": [
      "Converting to csr\n",
      "Testing reconstruction accuracy\n",
      "Testing testing set accuracy\n"
     ]
    },
    {
     "name": "stderr",
     "output_type": "stream",
     "text": [
      "\n"
     ]
    },
    {
     "name": "stdout",
     "output_type": "stream",
     "text": [
      "Testing reconstruction accuracy\n",
      "\n",
      "####################\n",
      "cur_time()='3:2:12'\n",
      "k=16\n",
      "s=1000\n",
      "p=0.999\n",
      "reconstruction_acc=19.11911911911912\n",
      "test_acc=19.28\n",
      "####################\n",
      "\n",
      "Propagation labels\n"
     ]
    },
    {
     "name": "stderr",
     "output_type": "stream",
     "text": [
      "100%|██████████| 30/30 [00:00<00:00, 909.03it/s]"
     ]
    },
    {
     "name": "stdout",
     "output_type": "stream",
     "text": [
      "Converting to csr\n",
      "Testing reconstruction accuracy\n",
      "Testing testing set accuracy\n"
     ]
    },
    {
     "name": "stderr",
     "output_type": "stream",
     "text": [
      "\n"
     ]
    },
    {
     "name": "stdout",
     "output_type": "stream",
     "text": [
      "Testing reconstruction accuracy\n",
      "\n",
      "####################\n",
      "cur_time()='3:2:13'\n",
      "k=16\n",
      "s=1000\n",
      "p=0.9999\n",
      "reconstruction_acc=19.11911911911912\n",
      "test_acc=19.28\n",
      "####################\n",
      "\n",
      "Constructing knn graph\n"
     ]
    },
    {
     "name": "stderr",
     "output_type": "stream",
     "text": [
      "100%|██████████| 1000/1000 [00:00<00:00, 36361.86it/s]\n"
     ]
    },
    {
     "name": "stdout",
     "output_type": "stream",
     "text": [
      "Converting to csr\n",
      "Propagation labels\n"
     ]
    },
    {
     "name": "stderr",
     "output_type": "stream",
     "text": [
      "100%|██████████| 30/30 [00:00<00:00, 317.48it/s]"
     ]
    },
    {
     "name": "stdout",
     "output_type": "stream",
     "text": [
      "Converting to csr\n",
      "Testing reconstruction accuracy\n",
      "Testing testing set accuracy\n"
     ]
    },
    {
     "name": "stderr",
     "output_type": "stream",
     "text": [
      "\n"
     ]
    },
    {
     "name": "stdout",
     "output_type": "stream",
     "text": [
      "Testing reconstruction accuracy\n",
      "\n",
      "####################\n",
      "cur_time()='3:2:13'\n",
      "k=32\n",
      "s=1000\n",
      "p=0.9\n",
      "reconstruction_acc=75.33333333333333\n",
      "test_acc=66.64999999999999\n",
      "####################\n",
      "\n",
      "Propagation labels\n"
     ]
    },
    {
     "name": "stderr",
     "output_type": "stream",
     "text": [
      "100%|██████████| 30/30 [00:00<00:00, 638.28it/s]"
     ]
    },
    {
     "name": "stdout",
     "output_type": "stream",
     "text": [
      "Converting to csr\n",
      "Testing reconstruction accuracy\n",
      "Testing testing set accuracy\n"
     ]
    },
    {
     "name": "stderr",
     "output_type": "stream",
     "text": [
      "\n"
     ]
    },
    {
     "name": "stdout",
     "output_type": "stream",
     "text": [
      "Testing reconstruction accuracy\n",
      "\n",
      "####################\n",
      "cur_time()='3:2:13'\n",
      "k=32\n",
      "s=1000\n",
      "p=0.99\n",
      "reconstruction_acc=58.484848484848484\n",
      "test_acc=50.91\n",
      "####################\n",
      "\n",
      "Propagation labels\n"
     ]
    },
    {
     "name": "stderr",
     "output_type": "stream",
     "text": [
      "100%|██████████| 30/30 [00:00<00:00, 869.52it/s]"
     ]
    },
    {
     "name": "stdout",
     "output_type": "stream",
     "text": [
      "Converting to csr\n",
      "Testing reconstruction accuracy\n",
      "Testing testing set accuracy\n"
     ]
    },
    {
     "name": "stderr",
     "output_type": "stream",
     "text": [
      "\n"
     ]
    },
    {
     "name": "stdout",
     "output_type": "stream",
     "text": [
      "Testing reconstruction accuracy\n",
      "\n",
      "####################\n",
      "cur_time()='3:2:14'\n",
      "k=32\n",
      "s=1000\n",
      "p=0.999\n",
      "reconstruction_acc=19.01901901901902\n",
      "test_acc=18.39\n",
      "####################\n",
      "\n",
      "Propagation labels\n"
     ]
    },
    {
     "name": "stderr",
     "output_type": "stream",
     "text": [
      "100%|██████████| 30/30 [00:00<00:00, 399.99it/s]"
     ]
    },
    {
     "name": "stdout",
     "output_type": "stream",
     "text": [
      "Converting to csr\n",
      "Testing reconstruction accuracy\n",
      "Testing testing set accuracy\n"
     ]
    },
    {
     "name": "stderr",
     "output_type": "stream",
     "text": [
      "\n"
     ]
    },
    {
     "name": "stdout",
     "output_type": "stream",
     "text": [
      "Testing reconstruction accuracy\n",
      "\n",
      "####################\n",
      "cur_time()='3:2:14'\n",
      "k=32\n",
      "s=1000\n",
      "p=0.9999\n",
      "reconstruction_acc=19.01901901901902\n",
      "test_acc=18.39\n",
      "####################\n",
      "\n",
      "Calculating Distance\n",
      "Constructing knn graph\n"
     ]
    },
    {
     "name": "stderr",
     "output_type": "stream",
     "text": [
      "100%|██████████| 2000/2000 [00:00<00:00, 38833.99it/s]\n"
     ]
    },
    {
     "name": "stdout",
     "output_type": "stream",
     "text": [
      "Converting to csr\n",
      "Propagation labels\n"
     ]
    },
    {
     "name": "stderr",
     "output_type": "stream",
     "text": [
      "100%|██████████| 30/30 [00:00<00:00, 291.27it/s]"
     ]
    },
    {
     "name": "stdout",
     "output_type": "stream",
     "text": [
      "Converting to csr\n",
      "Testing reconstruction accuracy\n",
      "Testing testing set accuracy\n"
     ]
    },
    {
     "name": "stderr",
     "output_type": "stream",
     "text": [
      "\n"
     ]
    },
    {
     "name": "stdout",
     "output_type": "stream",
     "text": [
      "Testing reconstruction accuracy\n",
      "\n",
      "####################\n",
      "cur_time()='3:2:20'\n",
      "k=4\n",
      "s=2000\n",
      "p=0.9\n",
      "reconstruction_acc=78.16666666666666\n",
      "test_acc=77.38000000000001\n",
      "####################\n",
      "\n",
      "Propagation labels\n"
     ]
    },
    {
     "name": "stderr",
     "output_type": "stream",
     "text": [
      "100%|██████████| 30/30 [00:00<00:00, 317.46it/s]"
     ]
    },
    {
     "name": "stdout",
     "output_type": "stream",
     "text": [
      "Converting to csr\n",
      "Testing reconstruction accuracy\n",
      "Testing testing set accuracy\n"
     ]
    },
    {
     "name": "stderr",
     "output_type": "stream",
     "text": [
      "\n"
     ]
    },
    {
     "name": "stdout",
     "output_type": "stream",
     "text": [
      "Testing reconstruction accuracy\n",
      "\n",
      "####################\n",
      "cur_time()='3:2:20'\n",
      "k=4\n",
      "s=2000\n",
      "p=0.99\n",
      "reconstruction_acc=72.07070707070707\n",
      "test_acc=69.48\n",
      "####################\n",
      "\n",
      "Propagation labels\n"
     ]
    },
    {
     "name": "stderr",
     "output_type": "stream",
     "text": [
      "100%|██████████| 30/30 [00:00<00:00, 350.87it/s]"
     ]
    },
    {
     "name": "stdout",
     "output_type": "stream",
     "text": [
      "Converting to csr\n",
      "Testing reconstruction accuracy\n",
      "Testing testing set accuracy\n"
     ]
    },
    {
     "name": "stderr",
     "output_type": "stream",
     "text": [
      "\n"
     ]
    },
    {
     "name": "stdout",
     "output_type": "stream",
     "text": [
      "Testing reconstruction accuracy\n",
      "\n",
      "####################\n",
      "cur_time()='3:2:20'\n",
      "k=4\n",
      "s=2000\n",
      "p=0.999\n",
      "reconstruction_acc=26.026026026026027\n",
      "test_acc=26.229999999999997\n",
      "####################\n",
      "\n",
      "Propagation labels\n"
     ]
    },
    {
     "name": "stderr",
     "output_type": "stream",
     "text": [
      "100%|██████████| 30/30 [00:00<00:00, 342.85it/s]"
     ]
    },
    {
     "name": "stdout",
     "output_type": "stream",
     "text": [
      "Converting to csr\n",
      "Testing reconstruction accuracy\n",
      "Testing testing set accuracy\n"
     ]
    },
    {
     "name": "stderr",
     "output_type": "stream",
     "text": [
      "\n"
     ]
    },
    {
     "name": "stdout",
     "output_type": "stream",
     "text": [
      "Testing reconstruction accuracy\n",
      "\n",
      "####################\n",
      "cur_time()='3:2:21'\n",
      "k=4\n",
      "s=2000\n",
      "p=0.9999\n",
      "reconstruction_acc=18.3591795897949\n",
      "test_acc=18.23\n",
      "####################\n",
      "\n",
      "Constructing knn graph\n"
     ]
    },
    {
     "name": "stderr",
     "output_type": "stream",
     "text": [
      "100%|██████████| 2000/2000 [00:00<00:00, 39602.34it/s]\n"
     ]
    },
    {
     "name": "stdout",
     "output_type": "stream",
     "text": [
      "Converting to csr\n",
      "Propagation labels\n"
     ]
    },
    {
     "name": "stderr",
     "output_type": "stream",
     "text": [
      "100%|██████████| 30/30 [00:00<00:00, 230.77it/s]\n"
     ]
    },
    {
     "name": "stdout",
     "output_type": "stream",
     "text": [
      "Converting to csr\n",
      "Testing reconstruction accuracy\n",
      "Testing testing set accuracy\n",
      "Testing reconstruction accuracy\n",
      "\n",
      "####################\n",
      "cur_time()='3:2:21'\n",
      "k=16\n",
      "s=2000\n",
      "p=0.9\n",
      "reconstruction_acc=83.11111111111111\n",
      "test_acc=80.28999999999999\n",
      "####################\n",
      "\n",
      "Propagation labels\n"
     ]
    },
    {
     "name": "stderr",
     "output_type": "stream",
     "text": [
      "100%|██████████| 30/30 [00:00<00:00, 196.72it/s]"
     ]
    },
    {
     "name": "stdout",
     "output_type": "stream",
     "text": [
      "Converting to csr\n",
      "Testing reconstruction accuracy\n",
      "Testing testing set accuracy\n"
     ]
    },
    {
     "name": "stderr",
     "output_type": "stream",
     "text": [
      "\n"
     ]
    },
    {
     "name": "stdout",
     "output_type": "stream",
     "text": [
      "Testing reconstruction accuracy\n",
      "\n",
      "####################\n",
      "cur_time()='3:2:22'\n",
      "k=16\n",
      "s=2000\n",
      "p=0.99\n",
      "reconstruction_acc=74.04040404040404\n",
      "test_acc=70.78\n",
      "####################\n",
      "\n",
      "Propagation labels\n"
     ]
    },
    {
     "name": "stderr",
     "output_type": "stream",
     "text": [
      "100%|██████████| 30/30 [00:00<00:00, 309.27it/s]"
     ]
    },
    {
     "name": "stdout",
     "output_type": "stream",
     "text": [
      "Converting to csr\n",
      "Testing reconstruction accuracy\n",
      "Testing testing set accuracy\n"
     ]
    },
    {
     "name": "stderr",
     "output_type": "stream",
     "text": [
      "\n"
     ]
    },
    {
     "name": "stdout",
     "output_type": "stream",
     "text": [
      "Testing reconstruction accuracy\n",
      "\n",
      "####################\n",
      "cur_time()='3:2:22'\n",
      "k=16\n",
      "s=2000\n",
      "p=0.999\n",
      "reconstruction_acc=17.417417417417415\n",
      "test_acc=17.71\n",
      "####################\n",
      "\n",
      "Propagation labels\n"
     ]
    },
    {
     "name": "stderr",
     "output_type": "stream",
     "text": [
      "100%|██████████| 30/30 [00:00<00:00, 326.09it/s]"
     ]
    },
    {
     "name": "stdout",
     "output_type": "stream",
     "text": [
      "Converting to csr\n",
      "Testing reconstruction accuracy\n",
      "Testing testing set accuracy\n"
     ]
    },
    {
     "name": "stderr",
     "output_type": "stream",
     "text": [
      "\n"
     ]
    },
    {
     "name": "stdout",
     "output_type": "stream",
     "text": [
      "Testing reconstruction accuracy\n",
      "\n",
      "####################\n",
      "cur_time()='3:2:22'\n",
      "k=16\n",
      "s=2000\n",
      "p=0.9999\n",
      "reconstruction_acc=9.854927463731865\n",
      "test_acc=10.32\n",
      "####################\n",
      "\n",
      "Constructing knn graph\n"
     ]
    },
    {
     "name": "stderr",
     "output_type": "stream",
     "text": [
      "100%|██████████| 2000/2000 [00:00<00:00, 37035.47it/s]\n"
     ]
    },
    {
     "name": "stdout",
     "output_type": "stream",
     "text": [
      "Converting to csr\n",
      "Propagation labels\n"
     ]
    },
    {
     "name": "stderr",
     "output_type": "stream",
     "text": [
      "100%|██████████| 30/30 [00:00<00:00, 192.93it/s]\n"
     ]
    },
    {
     "name": "stdout",
     "output_type": "stream",
     "text": [
      "Converting to csr\n",
      "Testing reconstruction accuracy\n",
      "Testing testing set accuracy\n",
      "Testing reconstruction accuracy\n",
      "\n",
      "####################\n",
      "cur_time()='3:2:23'\n",
      "k=32\n",
      "s=2000\n",
      "p=0.9\n",
      "reconstruction_acc=81.61111111111111\n",
      "test_acc=75.35\n",
      "####################\n",
      "\n",
      "Propagation labels\n"
     ]
    },
    {
     "name": "stderr",
     "output_type": "stream",
     "text": [
      "100%|██████████| 30/30 [00:00<00:00, 217.39it/s]"
     ]
    },
    {
     "name": "stdout",
     "output_type": "stream",
     "text": [
      "Converting to csr\n",
      "Testing reconstruction accuracy\n",
      "Testing testing set accuracy\n"
     ]
    },
    {
     "name": "stderr",
     "output_type": "stream",
     "text": [
      "\n"
     ]
    },
    {
     "name": "stdout",
     "output_type": "stream",
     "text": [
      "Testing reconstruction accuracy\n",
      "\n",
      "####################\n",
      "cur_time()='3:2:23'\n",
      "k=32\n",
      "s=2000\n",
      "p=0.99\n",
      "reconstruction_acc=75.95959595959596\n",
      "test_acc=69.38\n",
      "####################\n",
      "\n",
      "Propagation labels\n"
     ]
    },
    {
     "name": "stderr",
     "output_type": "stream",
     "text": [
      "100%|██████████| 30/30 [00:00<00:00, 287.08it/s]"
     ]
    },
    {
     "name": "stdout",
     "output_type": "stream",
     "text": [
      "Converting to csr\n",
      "Testing reconstruction accuracy\n",
      "Testing testing set accuracy\n"
     ]
    },
    {
     "name": "stderr",
     "output_type": "stream",
     "text": [
      "\n"
     ]
    },
    {
     "name": "stdout",
     "output_type": "stream",
     "text": [
      "Testing reconstruction accuracy\n",
      "\n",
      "####################\n",
      "cur_time()='3:2:24'\n",
      "k=32\n",
      "s=2000\n",
      "p=0.999\n",
      "reconstruction_acc=17.417417417417415\n",
      "test_acc=17.299999999999997\n",
      "####################\n",
      "\n",
      "Propagation labels\n"
     ]
    },
    {
     "name": "stderr",
     "output_type": "stream",
     "text": [
      "100%|██████████| 30/30 [00:00<00:00, 307.69it/s]"
     ]
    },
    {
     "name": "stdout",
     "output_type": "stream",
     "text": [
      "Converting to csr\n",
      "Testing reconstruction accuracy\n",
      "Testing testing set accuracy\n"
     ]
    },
    {
     "name": "stderr",
     "output_type": "stream",
     "text": [
      "\n"
     ]
    },
    {
     "name": "stdout",
     "output_type": "stream",
     "text": [
      "Testing reconstruction accuracy\n",
      "\n",
      "####################\n",
      "cur_time()='3:2:24'\n",
      "k=32\n",
      "s=2000\n",
      "p=0.9999\n",
      "reconstruction_acc=9.854927463731865\n",
      "test_acc=10.32\n",
      "####################\n",
      "\n",
      "Calculating Distance\n",
      "Constructing knn graph\n"
     ]
    },
    {
     "name": "stderr",
     "output_type": "stream",
     "text": [
      "100%|██████████| 4000/4000 [00:00<00:00, 37208.12it/s]\n"
     ]
    },
    {
     "name": "stdout",
     "output_type": "stream",
     "text": [
      "Converting to csr\n",
      "Propagation labels\n"
     ]
    },
    {
     "name": "stderr",
     "output_type": "stream",
     "text": [
      "100%|██████████| 30/30 [00:00<00:00, 131.87it/s]\n"
     ]
    },
    {
     "name": "stdout",
     "output_type": "stream",
     "text": [
      "Converting to csr\n",
      "Testing reconstruction accuracy\n",
      "Testing testing set accuracy\n",
      "Testing reconstruction accuracy\n",
      "\n",
      "####################\n",
      "cur_time()='3:2:36'\n",
      "k=4\n",
      "s=4000\n",
      "p=0.9\n",
      "reconstruction_acc=85.25\n",
      "test_acc=87.08\n",
      "####################\n",
      "\n",
      "Propagation labels\n"
     ]
    },
    {
     "name": "stderr",
     "output_type": "stream",
     "text": [
      "100%|██████████| 30/30 [00:00<00:00, 159.15it/s]\n"
     ]
    },
    {
     "name": "stdout",
     "output_type": "stream",
     "text": [
      "Converting to csr\n",
      "Testing reconstruction accuracy\n",
      "Testing testing set accuracy\n",
      "Testing reconstruction accuracy\n",
      "\n",
      "####################\n",
      "cur_time()='3:2:37'\n",
      "k=4\n",
      "s=4000\n",
      "p=0.99\n",
      "reconstruction_acc=75.12626262626263\n",
      "test_acc=76.24\n",
      "####################\n",
      "\n",
      "Propagation labels\n"
     ]
    },
    {
     "name": "stderr",
     "output_type": "stream",
     "text": [
      "100%|██████████| 30/30 [00:00<00:00, 145.28it/s]\n"
     ]
    },
    {
     "name": "stdout",
     "output_type": "stream",
     "text": [
      "Converting to csr\n",
      "Testing reconstruction accuracy\n",
      "Testing testing set accuracy\n",
      "Testing reconstruction accuracy\n",
      "\n",
      "####################\n",
      "cur_time()='3:2:38'\n",
      "k=4\n",
      "s=4000\n",
      "p=0.999\n",
      "reconstruction_acc=29.07907907907908\n",
      "test_acc=28.23\n",
      "####################\n",
      "\n",
      "Propagation labels\n"
     ]
    },
    {
     "name": "stderr",
     "output_type": "stream",
     "text": [
      "100%|██████████| 30/30 [00:00<00:00, 167.60it/s]\n"
     ]
    },
    {
     "name": "stdout",
     "output_type": "stream",
     "text": [
      "Converting to csr\n",
      "Testing reconstruction accuracy\n",
      "Testing testing set accuracy\n",
      "Testing reconstruction accuracy\n",
      "\n",
      "####################\n",
      "cur_time()='3:2:38'\n",
      "k=4\n",
      "s=4000\n",
      "p=0.9999\n",
      "reconstruction_acc=15.303825956489122\n",
      "test_acc=15.260000000000002\n",
      "####################\n",
      "\n",
      "Constructing knn graph\n"
     ]
    },
    {
     "name": "stderr",
     "output_type": "stream",
     "text": [
      "100%|██████████| 4000/4000 [00:00<00:00, 37735.53it/s]\n"
     ]
    },
    {
     "name": "stdout",
     "output_type": "stream",
     "text": [
      "Converting to csr\n",
      "Propagation labels\n"
     ]
    },
    {
     "name": "stderr",
     "output_type": "stream",
     "text": [
      "100%|██████████| 30/30 [00:00<00:00, 111.94it/s]\n"
     ]
    },
    {
     "name": "stdout",
     "output_type": "stream",
     "text": [
      "Converting to csr\n",
      "Testing reconstruction accuracy\n",
      "Testing testing set accuracy\n",
      "Testing reconstruction accuracy\n",
      "\n",
      "####################\n",
      "cur_time()='3:2:39'\n",
      "k=16\n",
      "s=4000\n",
      "p=0.9\n",
      "reconstruction_acc=88.44444444444444\n",
      "test_acc=88.21\n",
      "####################\n",
      "\n",
      "Propagation labels\n"
     ]
    },
    {
     "name": "stderr",
     "output_type": "stream",
     "text": [
      "100%|██████████| 30/30 [00:00<00:00, 129.31it/s]\n"
     ]
    },
    {
     "name": "stdout",
     "output_type": "stream",
     "text": [
      "Converting to csr\n",
      "Testing reconstruction accuracy\n",
      "Testing testing set accuracy\n",
      "Testing reconstruction accuracy\n",
      "\n",
      "####################\n",
      "cur_time()='3:2:40'\n",
      "k=16\n",
      "s=4000\n",
      "p=0.99\n",
      "reconstruction_acc=78.43434343434343\n",
      "test_acc=77.47\n",
      "####################\n",
      "\n",
      "Propagation labels\n"
     ]
    },
    {
     "name": "stderr",
     "output_type": "stream",
     "text": [
      "100%|██████████| 30/30 [00:00<00:00, 136.67it/s]\n"
     ]
    },
    {
     "name": "stdout",
     "output_type": "stream",
     "text": [
      "Converting to csr\n",
      "Testing reconstruction accuracy\n",
      "Testing testing set accuracy\n",
      "Testing reconstruction accuracy\n",
      "\n",
      "####################\n",
      "cur_time()='3:2:41'\n",
      "k=16\n",
      "s=4000\n",
      "p=0.999\n",
      "reconstruction_acc=38.46346346346346\n",
      "test_acc=37.84\n",
      "####################\n",
      "\n",
      "Propagation labels\n"
     ]
    },
    {
     "name": "stderr",
     "output_type": "stream",
     "text": [
      "100%|██████████| 30/30 [00:00<00:00, 165.29it/s]\n"
     ]
    },
    {
     "name": "stdout",
     "output_type": "stream",
     "text": [
      "Converting to csr\n",
      "Testing reconstruction accuracy\n",
      "Testing testing set accuracy\n",
      "Testing reconstruction accuracy\n",
      "\n",
      "####################\n",
      "cur_time()='3:2:42'\n",
      "k=16\n",
      "s=4000\n",
      "p=0.9999\n",
      "reconstruction_acc=19.829957489372344\n",
      "test_acc=19.34\n",
      "####################\n",
      "\n",
      "Constructing knn graph\n"
     ]
    },
    {
     "name": "stderr",
     "output_type": "stream",
     "text": [
      "100%|██████████| 4000/4000 [00:00<00:00, 33194.60it/s]"
     ]
    },
    {
     "name": "stdout",
     "output_type": "stream",
     "text": [
      "Converting to csr\n"
     ]
    },
    {
     "name": "stderr",
     "output_type": "stream",
     "text": [
      "\n"
     ]
    },
    {
     "name": "stdout",
     "output_type": "stream",
     "text": [
      "Propagation labels\n"
     ]
    },
    {
     "name": "stderr",
     "output_type": "stream",
     "text": [
      "100%|██████████| 30/30 [00:00<00:00, 89.69it/s]\n"
     ]
    },
    {
     "name": "stdout",
     "output_type": "stream",
     "text": [
      "Converting to csr\n",
      "Testing reconstruction accuracy\n",
      "Testing testing set accuracy\n",
      "Testing reconstruction accuracy\n",
      "\n",
      "####################\n",
      "cur_time()='3:2:43'\n",
      "k=32\n",
      "s=4000\n",
      "p=0.9\n",
      "reconstruction_acc=87.86111111111111\n",
      "test_acc=85.61\n",
      "####################\n",
      "\n",
      "Propagation labels\n"
     ]
    },
    {
     "name": "stderr",
     "output_type": "stream",
     "text": [
      "100%|██████████| 30/30 [00:00<00:00, 118.34it/s]\n"
     ]
    },
    {
     "name": "stdout",
     "output_type": "stream",
     "text": [
      "Converting to csr\n",
      "Testing reconstruction accuracy\n",
      "Testing testing set accuracy\n",
      "Testing reconstruction accuracy\n",
      "\n",
      "####################\n",
      "cur_time()='3:2:43'\n",
      "k=32\n",
      "s=4000\n",
      "p=0.99\n",
      "reconstruction_acc=80.15151515151516\n",
      "test_acc=78.02\n",
      "####################\n",
      "\n",
      "Propagation labels\n"
     ]
    },
    {
     "name": "stderr",
     "output_type": "stream",
     "text": [
      "100%|██████████| 30/30 [00:00<00:00, 128.48it/s]\n"
     ]
    },
    {
     "name": "stdout",
     "output_type": "stream",
     "text": [
      "Converting to csr\n",
      "Testing reconstruction accuracy\n",
      "Testing testing set accuracy\n",
      "Testing reconstruction accuracy\n",
      "\n",
      "####################\n",
      "cur_time()='3:2:44'\n",
      "k=32\n",
      "s=4000\n",
      "p=0.999\n",
      "reconstruction_acc=38.46346346346346\n",
      "test_acc=37.66\n",
      "####################\n",
      "\n",
      "Propagation labels\n"
     ]
    },
    {
     "name": "stderr",
     "output_type": "stream",
     "text": [
      "100%|██████████| 30/30 [00:00<00:00, 144.23it/s]\n"
     ]
    },
    {
     "name": "stdout",
     "output_type": "stream",
     "text": [
      "Converting to csr\n",
      "Testing reconstruction accuracy\n",
      "Testing testing set accuracy\n",
      "Testing reconstruction accuracy\n",
      "\n",
      "####################\n",
      "cur_time()='3:2:45'\n",
      "k=32\n",
      "s=4000\n",
      "p=0.9999\n",
      "reconstruction_acc=19.829957489372344\n",
      "test_acc=19.28\n",
      "####################\n",
      "\n",
      "Calculating Distance\n",
      "Constructing knn graph\n"
     ]
    },
    {
     "name": "stderr",
     "output_type": "stream",
     "text": [
      "100%|██████████| 8000/8000 [00:00<00:00, 36446.46it/s]\n"
     ]
    },
    {
     "name": "stdout",
     "output_type": "stream",
     "text": [
      "Converting to csr\n",
      "Propagation labels\n"
     ]
    },
    {
     "name": "stderr",
     "output_type": "stream",
     "text": [
      "100%|██████████| 30/30 [00:00<00:00, 70.34it/s]\n"
     ]
    },
    {
     "name": "stdout",
     "output_type": "stream",
     "text": [
      "Converting to csr\n",
      "Testing reconstruction accuracy\n",
      "Testing testing set accuracy\n",
      "Testing reconstruction accuracy\n",
      "\n",
      "####################\n",
      "cur_time()='3:3:14'\n",
      "k=4\n",
      "s=8000\n",
      "p=0.9\n",
      "reconstruction_acc=89.68055555555556\n",
      "test_acc=90.81\n",
      "####################\n",
      "\n",
      "Propagation labels\n"
     ]
    },
    {
     "name": "stderr",
     "output_type": "stream",
     "text": [
      "100%|██████████| 30/30 [00:00<00:00, 75.66it/s]\n"
     ]
    },
    {
     "name": "stdout",
     "output_type": "stream",
     "text": [
      "Converting to csr\n",
      "Testing reconstruction accuracy\n",
      "Testing testing set accuracy\n",
      "Testing reconstruction accuracy\n",
      "\n",
      "####################\n",
      "cur_time()='3:3:15'\n",
      "k=4\n",
      "s=8000\n",
      "p=0.99\n",
      "reconstruction_acc=77.02020202020202\n",
      "test_acc=77.91\n",
      "####################\n",
      "\n",
      "Propagation labels\n"
     ]
    },
    {
     "name": "stderr",
     "output_type": "stream",
     "text": [
      "100%|██████████| 30/30 [00:00<00:00, 80.86it/s]\n"
     ]
    },
    {
     "name": "stdout",
     "output_type": "stream",
     "text": [
      "Converting to csr\n",
      "Testing reconstruction accuracy\n",
      "Testing testing set accuracy\n",
      "Testing reconstruction accuracy\n",
      "\n",
      "####################\n",
      "cur_time()='3:3:17'\n",
      "k=4\n",
      "s=8000\n",
      "p=0.999\n",
      "reconstruction_acc=52.052052052052055\n",
      "test_acc=51.18000000000001\n",
      "####################\n",
      "\n",
      "Propagation labels\n"
     ]
    },
    {
     "name": "stderr",
     "output_type": "stream",
     "text": [
      "100%|██████████| 30/30 [00:00<00:00, 88.63it/s]\n"
     ]
    },
    {
     "name": "stdout",
     "output_type": "stream",
     "text": [
      "Converting to csr\n",
      "Testing reconstruction accuracy\n",
      "Testing testing set accuracy\n",
      "Testing reconstruction accuracy\n",
      "\n",
      "####################\n",
      "cur_time()='3:3:18'\n",
      "k=4\n",
      "s=8000\n",
      "p=0.9999\n",
      "reconstruction_acc=13.726715839479937\n",
      "test_acc=13.38\n",
      "####################\n",
      "\n",
      "Constructing knn graph\n"
     ]
    },
    {
     "name": "stderr",
     "output_type": "stream",
     "text": [
      "100%|██████████| 8000/8000 [00:00<00:00, 35320.08it/s]\n"
     ]
    },
    {
     "name": "stdout",
     "output_type": "stream",
     "text": [
      "Converting to csr\n",
      "Propagation labels\n"
     ]
    },
    {
     "name": "stderr",
     "output_type": "stream",
     "text": [
      "100%|██████████| 30/30 [00:00<00:00, 56.07it/s]\n"
     ]
    },
    {
     "name": "stdout",
     "output_type": "stream",
     "text": [
      "Converting to csr\n",
      "Testing reconstruction accuracy\n",
      "Testing testing set accuracy\n",
      "Testing reconstruction accuracy\n",
      "\n",
      "####################\n",
      "cur_time()='3:3:20'\n",
      "k=16\n",
      "s=8000\n",
      "p=0.9\n",
      "reconstruction_acc=92.5\n",
      "test_acc=90.93\n",
      "####################\n",
      "\n",
      "Propagation labels\n"
     ]
    },
    {
     "name": "stderr",
     "output_type": "stream",
     "text": [
      "100%|██████████| 30/30 [00:00<00:00, 59.64it/s]\n"
     ]
    },
    {
     "name": "stdout",
     "output_type": "stream",
     "text": [
      "Converting to csr\n",
      "Testing reconstruction accuracy\n",
      "Testing testing set accuracy\n",
      "Testing reconstruction accuracy\n",
      "\n",
      "####################\n",
      "cur_time()='3:3:21'\n",
      "k=16\n",
      "s=8000\n",
      "p=0.99\n",
      "reconstruction_acc=82.94191919191918\n",
      "test_acc=81.97\n",
      "####################\n",
      "\n",
      "Propagation labels\n"
     ]
    },
    {
     "name": "stderr",
     "output_type": "stream",
     "text": [
      "100%|██████████| 30/30 [00:00<00:00, 67.11it/s]\n"
     ]
    },
    {
     "name": "stdout",
     "output_type": "stream",
     "text": [
      "Converting to csr\n",
      "Testing reconstruction accuracy\n",
      "Testing testing set accuracy\n",
      "Testing reconstruction accuracy\n",
      "\n",
      "####################\n",
      "cur_time()='3:3:22'\n",
      "k=16\n",
      "s=8000\n",
      "p=0.999\n",
      "reconstruction_acc=55.88088088088088\n",
      "test_acc=54.03\n",
      "####################\n",
      "\n",
      "Propagation labels\n"
     ]
    },
    {
     "name": "stderr",
     "output_type": "stream",
     "text": [
      "100%|██████████| 30/30 [00:00<00:00, 77.82it/s]\n"
     ]
    },
    {
     "name": "stdout",
     "output_type": "stream",
     "text": [
      "Converting to csr\n",
      "Testing reconstruction accuracy\n",
      "Testing testing set accuracy\n",
      "Testing reconstruction accuracy\n",
      "\n",
      "####################\n",
      "cur_time()='3:3:24'\n",
      "k=16\n",
      "s=8000\n",
      "p=0.9999\n",
      "reconstruction_acc=19.73996749593699\n",
      "test_acc=19.39\n",
      "####################\n",
      "\n",
      "Constructing knn graph\n"
     ]
    },
    {
     "name": "stderr",
     "output_type": "stream",
     "text": [
      "100%|██████████| 8000/8000 [00:00<00:00, 32127.52it/s]\n"
     ]
    },
    {
     "name": "stdout",
     "output_type": "stream",
     "text": [
      "Converting to csr\n",
      "Propagation labels\n"
     ]
    },
    {
     "name": "stderr",
     "output_type": "stream",
     "text": [
      "100%|██████████| 30/30 [00:00<00:00, 44.35it/s]\n"
     ]
    },
    {
     "name": "stdout",
     "output_type": "stream",
     "text": [
      "Converting to csr\n",
      "Testing reconstruction accuracy\n",
      "Testing testing set accuracy\n",
      "Testing reconstruction accuracy\n",
      "\n",
      "####################\n",
      "cur_time()='3:3:26'\n",
      "k=32\n",
      "s=8000\n",
      "p=0.9\n",
      "reconstruction_acc=91.94444444444444\n",
      "test_acc=89.39\n",
      "####################\n",
      "\n",
      "Propagation labels\n"
     ]
    },
    {
     "name": "stderr",
     "output_type": "stream",
     "text": [
      "100%|██████████| 30/30 [00:00<00:00, 52.72it/s]\n"
     ]
    },
    {
     "name": "stdout",
     "output_type": "stream",
     "text": [
      "Converting to csr\n",
      "Testing reconstruction accuracy\n",
      "Testing testing set accuracy\n",
      "Testing reconstruction accuracy\n",
      "\n",
      "####################\n",
      "cur_time()='3:3:27'\n",
      "k=32\n",
      "s=8000\n",
      "p=0.99\n",
      "reconstruction_acc=85.11363636363637\n",
      "test_acc=82.22\n",
      "####################\n",
      "\n",
      "Propagation labels\n"
     ]
    },
    {
     "name": "stderr",
     "output_type": "stream",
     "text": [
      "100%|██████████| 30/30 [00:00<00:00, 61.98it/s]\n"
     ]
    },
    {
     "name": "stdout",
     "output_type": "stream",
     "text": [
      "Converting to csr\n",
      "Testing reconstruction accuracy\n",
      "Testing testing set accuracy\n",
      "Testing reconstruction accuracy\n",
      "\n",
      "####################\n",
      "cur_time()='3:3:29'\n",
      "k=32\n",
      "s=8000\n",
      "p=0.999\n",
      "reconstruction_acc=56.64414414414415\n",
      "test_acc=54.56999999999999\n",
      "####################\n",
      "\n",
      "Propagation labels\n"
     ]
    },
    {
     "name": "stderr",
     "output_type": "stream",
     "text": [
      "100%|██████████| 30/30 [00:00<00:00, 72.20it/s]\n"
     ]
    },
    {
     "name": "stdout",
     "output_type": "stream",
     "text": [
      "Converting to csr\n",
      "Testing reconstruction accuracy\n",
      "Testing testing set accuracy\n",
      "Testing reconstruction accuracy\n",
      "\n",
      "####################\n",
      "cur_time()='3:3:30'\n",
      "k=32\n",
      "s=8000\n",
      "p=0.9999\n",
      "reconstruction_acc=19.73996749593699\n",
      "test_acc=19.38\n",
      "####################\n",
      "\n",
      "Calculating Distance\n",
      "Constructing knn graph\n"
     ]
    },
    {
     "name": "stderr",
     "output_type": "stream",
     "text": [
      "100%|██████████| 16000/16000 [00:00<00:00, 36529.50it/s]\n"
     ]
    },
    {
     "name": "stdout",
     "output_type": "stream",
     "text": [
      "Converting to csr\n",
      "Propagation labels\n"
     ]
    },
    {
     "name": "stderr",
     "output_type": "stream",
     "text": [
      "100%|██████████| 30/30 [00:00<00:00, 34.29it/s]\n"
     ]
    },
    {
     "name": "stdout",
     "output_type": "stream",
     "text": [
      "Converting to csr\n",
      "Testing reconstruction accuracy\n",
      "Testing testing set accuracy\n",
      "Testing reconstruction accuracy\n",
      "\n",
      "####################\n",
      "cur_time()='3:4:33'\n",
      "k=4\n",
      "s=16000\n",
      "p=0.9\n",
      "reconstruction_acc=92.36805555555556\n",
      "test_acc=93.28\n",
      "####################\n",
      "\n",
      "Propagation labels\n"
     ]
    },
    {
     "name": "stderr",
     "output_type": "stream",
     "text": [
      "100%|██████████| 30/30 [00:00<00:00, 35.63it/s]\n"
     ]
    },
    {
     "name": "stdout",
     "output_type": "stream",
     "text": [
      "Converting to csr\n",
      "Testing reconstruction accuracy\n",
      "Testing testing set accuracy\n",
      "Testing reconstruction accuracy\n",
      "\n",
      "####################\n",
      "cur_time()='3:4:35'\n",
      "k=4\n",
      "s=16000\n",
      "p=0.99\n",
      "reconstruction_acc=81.63510101010101\n",
      "test_acc=82.57\n",
      "####################\n",
      "\n",
      "Propagation labels\n"
     ]
    },
    {
     "name": "stderr",
     "output_type": "stream",
     "text": [
      "100%|██████████| 30/30 [00:00<00:00, 39.32it/s]\n"
     ]
    },
    {
     "name": "stdout",
     "output_type": "stream",
     "text": [
      "Converting to csr\n",
      "Testing reconstruction accuracy\n",
      "Testing testing set accuracy\n",
      "Testing reconstruction accuracy\n",
      "\n",
      "####################\n",
      "cur_time()='3:4:38'\n",
      "k=4\n",
      "s=16000\n",
      "p=0.999\n",
      "reconstruction_acc=46.12737737737738\n",
      "test_acc=45.56\n",
      "####################\n",
      "\n",
      "Propagation labels\n"
     ]
    },
    {
     "name": "stderr",
     "output_type": "stream",
     "text": [
      "100%|██████████| 30/30 [00:00<00:00, 41.87it/s]\n"
     ]
    },
    {
     "name": "stdout",
     "output_type": "stream",
     "text": [
      "Converting to csr\n",
      "Testing reconstruction accuracy\n",
      "Testing testing set accuracy\n",
      "Testing reconstruction accuracy\n",
      "\n",
      "####################\n",
      "cur_time()='3:4:40'\n",
      "k=4\n",
      "s=16000\n",
      "p=0.9999\n",
      "reconstruction_acc=19.62745343167896\n",
      "test_acc=19.55\n",
      "####################\n",
      "\n",
      "Constructing knn graph\n"
     ]
    },
    {
     "name": "stderr",
     "output_type": "stream",
     "text": [
      "100%|██████████| 16000/16000 [00:00<00:00, 31372.59it/s]\n"
     ]
    },
    {
     "name": "stdout",
     "output_type": "stream",
     "text": [
      "Converting to csr\n",
      "Propagation labels\n"
     ]
    },
    {
     "name": "stderr",
     "output_type": "stream",
     "text": [
      "100%|██████████| 30/30 [00:01<00:00, 24.62it/s]\n"
     ]
    },
    {
     "name": "stdout",
     "output_type": "stream",
     "text": [
      "Converting to csr\n",
      "Testing reconstruction accuracy\n",
      "Testing testing set accuracy\n",
      "Testing reconstruction accuracy\n",
      "\n",
      "####################\n",
      "cur_time()='3:4:44'\n",
      "k=16\n",
      "s=16000\n",
      "p=0.9\n",
      "reconstruction_acc=94.10416666666667\n",
      "test_acc=93.42\n",
      "####################\n",
      "\n",
      "Propagation labels\n"
     ]
    },
    {
     "name": "stderr",
     "output_type": "stream",
     "text": [
      "100%|██████████| 30/30 [00:01<00:00, 28.41it/s]\n"
     ]
    },
    {
     "name": "stdout",
     "output_type": "stream",
     "text": [
      "Converting to csr\n",
      "Testing reconstruction accuracy\n",
      "Testing testing set accuracy\n",
      "Testing reconstruction accuracy\n",
      "\n",
      "####################\n",
      "cur_time()='3:4:47'\n",
      "k=16\n",
      "s=16000\n",
      "p=0.99\n",
      "reconstruction_acc=86.26893939393939\n",
      "test_acc=85.97\n",
      "####################\n",
      "\n",
      "Propagation labels\n"
     ]
    },
    {
     "name": "stderr",
     "output_type": "stream",
     "text": [
      "100%|██████████| 30/30 [00:00<00:00, 32.68it/s]\n"
     ]
    },
    {
     "name": "stdout",
     "output_type": "stream",
     "text": [
      "Converting to csr\n",
      "Testing reconstruction accuracy\n",
      "Testing testing set accuracy\n",
      "Testing reconstruction accuracy\n",
      "\n",
      "####################\n",
      "cur_time()='3:4:49'\n",
      "k=16\n",
      "s=16000\n",
      "p=0.999\n",
      "reconstruction_acc=48.88638638638639\n",
      "test_acc=47.68\n",
      "####################\n",
      "\n",
      "Propagation labels\n"
     ]
    },
    {
     "name": "stderr",
     "output_type": "stream",
     "text": [
      "100%|██████████| 30/30 [00:00<00:00, 36.19it/s]\n"
     ]
    },
    {
     "name": "stdout",
     "output_type": "stream",
     "text": [
      "Converting to csr\n",
      "Testing reconstruction accuracy\n",
      "Testing testing set accuracy\n",
      "Testing reconstruction accuracy\n",
      "\n",
      "####################\n",
      "cur_time()='3:4:52'\n",
      "k=16\n",
      "s=16000\n",
      "p=0.9999\n",
      "reconstruction_acc=20.75259407425928\n",
      "test_acc=20.61\n",
      "####################\n",
      "\n",
      "Constructing knn graph\n"
     ]
    },
    {
     "name": "stderr",
     "output_type": "stream",
     "text": [
      "100%|██████████| 16000/16000 [00:00<00:00, 29090.90it/s]\n"
     ]
    },
    {
     "name": "stdout",
     "output_type": "stream",
     "text": [
      "Converting to csr\n",
      "Propagation labels\n"
     ]
    },
    {
     "name": "stderr",
     "output_type": "stream",
     "text": [
      "100%|██████████| 30/30 [00:01<00:00, 20.60it/s]\n"
     ]
    },
    {
     "name": "stdout",
     "output_type": "stream",
     "text": [
      "Converting to csr\n",
      "Testing reconstruction accuracy\n",
      "Testing testing set accuracy\n",
      "Testing reconstruction accuracy\n",
      "\n",
      "####################\n",
      "cur_time()='3:4:56'\n",
      "k=32\n",
      "s=16000\n",
      "p=0.9\n",
      "reconstruction_acc=94.10416666666667\n",
      "test_acc=92.36\n",
      "####################\n",
      "\n",
      "Propagation labels\n"
     ]
    },
    {
     "name": "stderr",
     "output_type": "stream",
     "text": [
      "100%|██████████| 30/30 [00:01<00:00, 23.97it/s]\n"
     ]
    },
    {
     "name": "stdout",
     "output_type": "stream",
     "text": [
      "Converting to csr\n",
      "Testing reconstruction accuracy\n",
      "Testing testing set accuracy\n",
      "Testing reconstruction accuracy\n",
      "\n",
      "####################\n",
      "cur_time()='3:4:59'\n",
      "k=32\n",
      "s=16000\n",
      "p=0.99\n",
      "reconstruction_acc=86.94444444444444\n",
      "test_acc=85.99\n",
      "####################\n",
      "\n",
      "Propagation labels\n"
     ]
    },
    {
     "name": "stderr",
     "output_type": "stream",
     "text": [
      "100%|██████████| 30/30 [00:01<00:00, 28.80it/s]\n"
     ]
    },
    {
     "name": "stdout",
     "output_type": "stream",
     "text": [
      "Converting to csr\n",
      "Testing reconstruction accuracy\n",
      "Testing testing set accuracy\n",
      "Testing reconstruction accuracy\n",
      "\n",
      "####################\n",
      "cur_time()='3:5:2'\n",
      "k=32\n",
      "s=16000\n",
      "p=0.999\n",
      "reconstruction_acc=48.64864864864865\n",
      "test_acc=47.22\n",
      "####################\n",
      "\n",
      "Propagation labels\n"
     ]
    },
    {
     "name": "stderr",
     "output_type": "stream",
     "text": [
      "100%|██████████| 30/30 [00:00<00:00, 36.39it/s]\n"
     ]
    },
    {
     "name": "stdout",
     "output_type": "stream",
     "text": [
      "Converting to csr\n",
      "Testing reconstruction accuracy\n",
      "Testing testing set accuracy\n",
      "Testing reconstruction accuracy\n",
      "\n",
      "####################\n",
      "cur_time()='3:5:4'\n",
      "k=32\n",
      "s=16000\n",
      "p=0.9999\n",
      "reconstruction_acc=20.5900737592199\n",
      "test_acc=20.330000000000002\n",
      "####################\n",
      "\n",
      "Calculating Distance\n",
      "Constructing knn graph\n"
     ]
    },
    {
     "name": "stderr",
     "output_type": "stream",
     "text": [
      "100%|██████████| 32000/32000 [00:00<00:00, 33988.40it/s]\n"
     ]
    },
    {
     "name": "stdout",
     "output_type": "stream",
     "text": [
      "Converting to csr\n",
      "Propagation labels\n"
     ]
    },
    {
     "name": "stderr",
     "output_type": "stream",
     "text": [
      "100%|██████████| 30/30 [00:01<00:00, 15.36it/s]\n"
     ]
    },
    {
     "name": "stdout",
     "output_type": "stream",
     "text": [
      "Converting to csr\n",
      "Testing reconstruction accuracy\n",
      "Testing testing set accuracy\n",
      "Testing reconstruction accuracy\n",
      "\n",
      "####################\n",
      "cur_time()='3:7:18'\n",
      "k=4\n",
      "s=32000\n",
      "p=0.9\n",
      "reconstruction_acc=93.90277777777779\n",
      "test_acc=95.14\n",
      "####################\n",
      "\n",
      "Propagation labels\n"
     ]
    },
    {
     "name": "stderr",
     "output_type": "stream",
     "text": [
      "100%|██████████| 30/30 [00:01<00:00, 17.11it/s]\n"
     ]
    },
    {
     "name": "stdout",
     "output_type": "stream",
     "text": [
      "Converting to csr\n",
      "Testing reconstruction accuracy\n",
      "Testing testing set accuracy\n",
      "Testing reconstruction accuracy\n",
      "\n",
      "####################\n",
      "cur_time()='3:7:23'\n",
      "k=4\n",
      "s=32000\n",
      "p=0.99\n",
      "reconstruction_acc=90.15467171717172\n",
      "test_acc=91.62\n",
      "####################\n",
      "\n",
      "Propagation labels\n"
     ]
    },
    {
     "name": "stderr",
     "output_type": "stream",
     "text": [
      "100%|██████████| 30/30 [00:01<00:00, 19.44it/s]\n"
     ]
    },
    {
     "name": "stdout",
     "output_type": "stream",
     "text": [
      "Converting to csr\n",
      "Testing reconstruction accuracy\n",
      "Testing testing set accuracy\n",
      "Testing reconstruction accuracy\n",
      "\n",
      "####################\n",
      "cur_time()='3:7:28'\n",
      "k=4\n",
      "s=32000\n",
      "p=0.999\n",
      "reconstruction_acc=72.87287287287288\n",
      "test_acc=73.78\n",
      "####################\n",
      "\n",
      "Propagation labels\n"
     ]
    },
    {
     "name": "stderr",
     "output_type": "stream",
     "text": [
      "100%|██████████| 30/30 [00:01<00:00, 19.46it/s]\n"
     ]
    },
    {
     "name": "stdout",
     "output_type": "stream",
     "text": [
      "Converting to csr\n",
      "Testing reconstruction accuracy\n",
      "Testing testing set accuracy\n",
      "Testing reconstruction accuracy\n",
      "\n",
      "####################\n",
      "cur_time()='3:7:32'\n",
      "k=4\n",
      "s=32000\n",
      "p=0.9999\n",
      "reconstruction_acc=29.44118014751844\n",
      "test_acc=28.860000000000003\n",
      "####################\n",
      "\n",
      "Constructing knn graph\n"
     ]
    },
    {
     "name": "stderr",
     "output_type": "stream",
     "text": [
      "100%|██████████| 32000/32000 [00:01<00:00, 28789.98it/s]\n"
     ]
    },
    {
     "name": "stdout",
     "output_type": "stream",
     "text": [
      "Converting to csr\n",
      "Propagation labels\n"
     ]
    },
    {
     "name": "stderr",
     "output_type": "stream",
     "text": [
      "100%|██████████| 30/30 [00:02<00:00, 10.46it/s]\n"
     ]
    },
    {
     "name": "stdout",
     "output_type": "stream",
     "text": [
      "Converting to csr\n",
      "Testing reconstruction accuracy\n",
      "Testing testing set accuracy\n",
      "Testing reconstruction accuracy\n",
      "\n",
      "####################\n",
      "cur_time()='3:7:43'\n",
      "k=16\n",
      "s=32000\n",
      "p=0.9\n",
      "reconstruction_acc=95.57638888888889\n",
      "test_acc=95.16\n",
      "####################\n",
      "\n",
      "Propagation labels\n"
     ]
    },
    {
     "name": "stderr",
     "output_type": "stream",
     "text": [
      "100%|██████████| 30/30 [00:02<00:00, 12.95it/s]\n"
     ]
    },
    {
     "name": "stdout",
     "output_type": "stream",
     "text": [
      "Converting to csr\n",
      "Testing reconstruction accuracy\n",
      "Testing testing set accuracy\n",
      "Testing reconstruction accuracy\n",
      "\n",
      "####################\n",
      "cur_time()='3:7:48'\n",
      "k=16\n",
      "s=32000\n",
      "p=0.99\n",
      "reconstruction_acc=93.33333333333333\n",
      "test_acc=93.62\n",
      "####################\n",
      "\n",
      "Propagation labels\n"
     ]
    },
    {
     "name": "stderr",
     "output_type": "stream",
     "text": [
      "100%|██████████| 30/30 [00:02<00:00, 14.47it/s]\n"
     ]
    },
    {
     "name": "stdout",
     "output_type": "stream",
     "text": [
      "Converting to csr\n",
      "Testing reconstruction accuracy\n",
      "Testing testing set accuracy\n",
      "Testing reconstruction accuracy\n",
      "\n",
      "####################\n",
      "cur_time()='3:7:54'\n",
      "k=16\n",
      "s=32000\n",
      "p=0.999\n",
      "reconstruction_acc=75.34722222222221\n",
      "test_acc=75.94\n",
      "####################\n",
      "\n",
      "Propagation labels\n"
     ]
    },
    {
     "name": "stderr",
     "output_type": "stream",
     "text": [
      "100%|██████████| 30/30 [00:01<00:00, 16.19it/s]\n"
     ]
    },
    {
     "name": "stdout",
     "output_type": "stream",
     "text": [
      "Converting to csr\n",
      "Testing reconstruction accuracy\n",
      "Testing testing set accuracy\n",
      "Testing reconstruction accuracy\n",
      "\n",
      "####################\n",
      "cur_time()='3:7:59'\n",
      "k=16\n",
      "s=32000\n",
      "p=0.9999\n",
      "reconstruction_acc=36.63582947868483\n",
      "test_acc=37.37\n",
      "####################\n",
      "\n",
      "Constructing knn graph\n"
     ]
    },
    {
     "name": "stderr",
     "output_type": "stream",
     "text": [
      "100%|██████████| 32000/32000 [00:01<00:00, 27515.03it/s]\n"
     ]
    },
    {
     "name": "stdout",
     "output_type": "stream",
     "text": [
      "Converting to csr\n",
      "Propagation labels\n"
     ]
    },
    {
     "name": "stderr",
     "output_type": "stream",
     "text": [
      "100%|██████████| 30/30 [00:03<00:00,  8.38it/s]\n"
     ]
    },
    {
     "name": "stdout",
     "output_type": "stream",
     "text": [
      "Converting to csr\n",
      "Testing reconstruction accuracy\n",
      "Testing testing set accuracy\n",
      "Testing reconstruction accuracy\n",
      "\n",
      "####################\n",
      "cur_time()='3:8:10'\n",
      "k=32\n",
      "s=32000\n",
      "p=0.9\n",
      "reconstruction_acc=95.59027777777777\n",
      "test_acc=94.56\n",
      "####################\n",
      "\n",
      "Propagation labels\n"
     ]
    },
    {
     "name": "stderr",
     "output_type": "stream",
     "text": [
      "100%|██████████| 30/30 [00:02<00:00, 10.95it/s]\n"
     ]
    },
    {
     "name": "stdout",
     "output_type": "stream",
     "text": [
      "Converting to csr\n",
      "Testing reconstruction accuracy\n",
      "Testing testing set accuracy\n",
      "Testing reconstruction accuracy\n",
      "\n",
      "####################\n",
      "cur_time()='3:8:16'\n",
      "k=32\n",
      "s=32000\n",
      "p=0.99\n",
      "reconstruction_acc=94.04356060606061\n",
      "test_acc=93.5\n",
      "####################\n",
      "\n",
      "Propagation labels\n"
     ]
    },
    {
     "name": "stderr",
     "output_type": "stream",
     "text": [
      "100%|██████████| 30/30 [00:02<00:00, 12.93it/s]\n"
     ]
    },
    {
     "name": "stdout",
     "output_type": "stream",
     "text": [
      "Converting to csr\n",
      "Testing reconstruction accuracy\n",
      "Testing testing set accuracy\n",
      "Testing reconstruction accuracy\n",
      "\n",
      "####################\n",
      "cur_time()='3:8:22'\n",
      "k=32\n",
      "s=32000\n",
      "p=0.999\n",
      "reconstruction_acc=74.41191191191191\n",
      "test_acc=74.26\n",
      "####################\n",
      "\n",
      "Propagation labels\n"
     ]
    },
    {
     "name": "stderr",
     "output_type": "stream",
     "text": [
      "100%|██████████| 30/30 [00:01<00:00, 15.01it/s]\n"
     ]
    },
    {
     "name": "stdout",
     "output_type": "stream",
     "text": [
      "Converting to csr\n",
      "Testing reconstruction accuracy\n",
      "Testing testing set accuracy\n",
      "Testing reconstruction accuracy\n",
      "\n",
      "####################\n",
      "cur_time()='3:8:27'\n",
      "k=32\n",
      "s=32000\n",
      "p=0.9999\n",
      "reconstruction_acc=27.240905113139142\n",
      "test_acc=27.3\n",
      "####################\n",
      "\n",
      "Calculating Distance\n",
      "Constructing knn graph\n"
     ]
    },
    {
     "name": "stderr",
     "output_type": "stream",
     "text": [
      "100%|██████████| 60000/60000 [00:01<00:00, 32423.70it/s]\n"
     ]
    },
    {
     "name": "stdout",
     "output_type": "stream",
     "text": [
      "Converting to csr\n",
      "Propagation labels\n"
     ]
    },
    {
     "name": "stderr",
     "output_type": "stream",
     "text": [
      "100%|██████████| 30/30 [00:04<00:00,  7.06it/s]\n"
     ]
    },
    {
     "name": "stdout",
     "output_type": "stream",
     "text": [
      "Converting to csr\n",
      "Testing reconstruction accuracy\n",
      "Testing testing set accuracy\n",
      "Testing reconstruction accuracy\n",
      "\n",
      "####################\n",
      "cur_time()='3:12:44'\n",
      "k=4\n",
      "s=60000\n",
      "p=0.9\n",
      "reconstruction_acc=95.27962962962962\n",
      "test_acc=96.26\n",
      "####################\n",
      "\n",
      "Propagation labels\n"
     ]
    },
    {
     "name": "stderr",
     "output_type": "stream",
     "text": [
      "100%|██████████| 30/30 [00:03<00:00,  8.17it/s]\n"
     ]
    },
    {
     "name": "stdout",
     "output_type": "stream",
     "text": [
      "Converting to csr\n",
      "Testing reconstruction accuracy\n",
      "Testing testing set accuracy\n",
      "Testing reconstruction accuracy\n",
      "\n",
      "####################\n",
      "cur_time()='3:12:53'\n",
      "k=4\n",
      "s=60000\n",
      "p=0.99\n",
      "reconstruction_acc=93.35858585858587\n",
      "test_acc=94.62\n",
      "####################\n",
      "\n",
      "Propagation labels\n"
     ]
    },
    {
     "name": "stderr",
     "output_type": "stream",
     "text": [
      "100%|██████████| 30/30 [00:03<00:00,  8.85it/s]\n"
     ]
    },
    {
     "name": "stdout",
     "output_type": "stream",
     "text": [
      "Converting to csr\n",
      "Testing reconstruction accuracy\n",
      "Testing testing set accuracy\n",
      "Testing reconstruction accuracy\n",
      "\n",
      "####################\n",
      "cur_time()='3:13:2'\n",
      "k=4\n",
      "s=60000\n",
      "p=0.999\n",
      "reconstruction_acc=84.90156823490157\n",
      "test_acc=84.48\n",
      "####################\n",
      "\n",
      "Propagation labels\n"
     ]
    },
    {
     "name": "stderr",
     "output_type": "stream",
     "text": [
      "100%|██████████| 30/30 [00:03<00:00,  9.36it/s]\n"
     ]
    },
    {
     "name": "stdout",
     "output_type": "stream",
     "text": [
      "Converting to csr\n",
      "Testing reconstruction accuracy\n",
      "Testing testing set accuracy\n",
      "Testing reconstruction accuracy\n",
      "\n",
      "####################\n",
      "cur_time()='3:13:11'\n",
      "k=4\n",
      "s=60000\n",
      "p=0.9999\n",
      "reconstruction_acc=32.324899156582326\n",
      "test_acc=31.71\n",
      "####################\n",
      "\n",
      "Constructing knn graph\n"
     ]
    },
    {
     "name": "stderr",
     "output_type": "stream",
     "text": [
      "100%|██████████| 60000/60000 [00:02<00:00, 25613.63it/s]\n"
     ]
    },
    {
     "name": "stdout",
     "output_type": "stream",
     "text": [
      "Converting to csr\n",
      "Propagation labels\n"
     ]
    },
    {
     "name": "stderr",
     "output_type": "stream",
     "text": [
      "100%|██████████| 30/30 [00:06<00:00,  4.48it/s]\n"
     ]
    },
    {
     "name": "stdout",
     "output_type": "stream",
     "text": [
      "Converting to csr\n",
      "Testing reconstruction accuracy\n",
      "Testing testing set accuracy\n",
      "Testing reconstruction accuracy\n",
      "\n",
      "####################\n",
      "cur_time()='3:13:39'\n",
      "k=16\n",
      "s=60000\n",
      "p=0.9\n",
      "reconstruction_acc=96.46111111111111\n",
      "test_acc=95.88\n",
      "####################\n",
      "\n",
      "Propagation labels\n"
     ]
    },
    {
     "name": "stderr",
     "output_type": "stream",
     "text": [
      "100%|██████████| 30/30 [00:04<00:00,  6.10it/s]\n"
     ]
    },
    {
     "name": "stdout",
     "output_type": "stream",
     "text": [
      "Converting to csr\n",
      "Testing reconstruction accuracy\n",
      "Testing testing set accuracy\n",
      "Testing reconstruction accuracy\n",
      "\n",
      "####################\n",
      "cur_time()='3:13:50'\n",
      "k=16\n",
      "s=60000\n",
      "p=0.99\n",
      "reconstruction_acc=95.93602693602693\n",
      "test_acc=95.50999999999999\n",
      "####################\n",
      "\n",
      "Propagation labels\n"
     ]
    },
    {
     "name": "stderr",
     "output_type": "stream",
     "text": [
      "100%|██████████| 30/30 [00:04<00:00,  6.80it/s]\n"
     ]
    },
    {
     "name": "stdout",
     "output_type": "stream",
     "text": [
      "Converting to csr\n",
      "Testing reconstruction accuracy\n",
      "Testing testing set accuracy\n",
      "Testing reconstruction accuracy\n",
      "\n",
      "####################\n",
      "cur_time()='3:14:0'\n",
      "k=16\n",
      "s=60000\n",
      "p=0.999\n",
      "reconstruction_acc=86.55155155155155\n",
      "test_acc=85.67\n",
      "####################\n",
      "\n",
      "Propagation labels\n"
     ]
    },
    {
     "name": "stderr",
     "output_type": "stream",
     "text": [
      "100%|██████████| 30/30 [00:03<00:00,  8.20it/s]\n"
     ]
    },
    {
     "name": "stdout",
     "output_type": "stream",
     "text": [
      "Converting to csr\n",
      "Testing reconstruction accuracy\n",
      "Testing testing set accuracy\n",
      "Testing reconstruction accuracy\n",
      "\n",
      "####################\n",
      "cur_time()='3:14:10'\n",
      "k=16\n",
      "s=60000\n",
      "p=0.9999\n",
      "reconstruction_acc=46.44464446444644\n",
      "test_acc=46.63\n",
      "####################\n",
      "\n",
      "Constructing knn graph\n"
     ]
    },
    {
     "name": "stderr",
     "output_type": "stream",
     "text": [
      "100%|██████████| 60000/60000 [00:02<00:00, 22697.19it/s]\n"
     ]
    },
    {
     "name": "stdout",
     "output_type": "stream",
     "text": [
      "Converting to csr\n",
      "Propagation labels\n"
     ]
    },
    {
     "name": "stderr",
     "output_type": "stream",
     "text": [
      "100%|██████████| 30/30 [00:08<00:00,  3.69it/s]\n"
     ]
    },
    {
     "name": "stdout",
     "output_type": "stream",
     "text": [
      "Converting to csr\n",
      "Testing reconstruction accuracy\n",
      "Testing testing set accuracy\n",
      "Testing reconstruction accuracy\n",
      "\n",
      "####################\n",
      "cur_time()='3:14:40'\n",
      "k=32\n",
      "s=60000\n",
      "p=0.9\n",
      "reconstruction_acc=96.4962962962963\n",
      "test_acc=95.43\n",
      "####################\n",
      "\n",
      "Propagation labels\n"
     ]
    },
    {
     "name": "stderr",
     "output_type": "stream",
     "text": [
      "100%|██████████| 30/30 [00:05<00:00,  5.10it/s]\n"
     ]
    },
    {
     "name": "stdout",
     "output_type": "stream",
     "text": [
      "Converting to csr\n",
      "Testing reconstruction accuracy\n",
      "Testing testing set accuracy\n",
      "Testing reconstruction accuracy\n",
      "\n",
      "####################\n",
      "cur_time()='3:14:52'\n",
      "k=32\n",
      "s=60000\n",
      "p=0.99\n",
      "reconstruction_acc=96.43097643097643\n",
      "test_acc=95.30999999999999\n",
      "####################\n",
      "\n",
      "Propagation labels\n"
     ]
    },
    {
     "name": "stderr",
     "output_type": "stream",
     "text": [
      "100%|██████████| 30/30 [00:05<00:00,  5.55it/s]\n"
     ]
    },
    {
     "name": "stdout",
     "output_type": "stream",
     "text": [
      "Converting to csr\n",
      "Testing reconstruction accuracy\n",
      "Testing testing set accuracy\n",
      "Testing reconstruction accuracy\n",
      "\n",
      "####################\n",
      "cur_time()='3:15:3'\n",
      "k=32\n",
      "s=60000\n",
      "p=0.999\n",
      "reconstruction_acc=86.91358024691358\n",
      "test_acc=85.48\n",
      "####################\n",
      "\n",
      "Propagation labels\n"
     ]
    },
    {
     "name": "stderr",
     "output_type": "stream",
     "text": [
      "100%|██████████| 30/30 [00:04<00:00,  7.09it/s]\n"
     ]
    },
    {
     "name": "stdout",
     "output_type": "stream",
     "text": [
      "Converting to csr\n",
      "Testing reconstruction accuracy\n",
      "Testing testing set accuracy\n",
      "Testing reconstruction accuracy\n",
      "\n",
      "####################\n",
      "cur_time()='3:15:14'\n",
      "k=32\n",
      "s=60000\n",
      "p=0.9999\n",
      "reconstruction_acc=47.54142080874754\n",
      "test_acc=47.4\n",
      "####################\n",
      "\n"
     ]
    }
   ],
   "source": [
    "for s in sizes:\r\n",
    "    train_x, train_Y, embedding = Graph.load_embedding(s)\r\n",
    "    print(\"Calculating Distance\")\r\n",
    "    dist = cdist(test_x, train_x, metric=\"euclidean\")\r\n",
    "    for k in Ks:\r\n",
    "        g = Graph.construct_knn_graph_3(embedding, k=k)\r\n",
    "        for p in forget_percentage:\r\n",
    "            oht = Graph.one_hot_encode_labels(train_Y)\r\n",
    "            oht, forg_indices = Graph.forget_oht_labels(oht, forget_percentage=p)\r\n",
    "\r\n",
    "            forg_labels = np.copy(train_Y)\r\n",
    "            forg_labels[forg_indices] = -1\r\n",
    "\r\n",
    "            sparse_oht = csr_matrix(oht)\r\n",
    "            new_lbls = Graph.propagate_labels(g, sparse_oht, max_itter=30)\r\n",
    "\r\n",
    "            true_lbls = train_Y[forg_indices]\r\n",
    "            pred_lbls = new_lbls[forg_indices]\r\n",
    "\r\n",
    "            reconstruction_acc = Graph.test_accuracy(true_lbls=true_lbls, pred_labels=pred_lbls)\r\n",
    "\r\n",
    "            test_acc = Graph.test_nums_accuracy(train_x, test_x, new_lbls, test_Y, k=k, dist=dist)\r\n",
    "\r\n",
    "            print(f\"\\n####################\\n{cur_time()=}\\n{k=}\\n{s=}\\n{p=}\\n{reconstruction_acc=}\\n{test_acc=}\\n####################\\n\")\r\n",
    "            lp_test_result.append([s, k, p, reconstruction_acc, test_acc])"
   ]
  },
  {
   "cell_type": "code",
   "execution_count": 87,
   "metadata": {},
   "outputs": [],
   "source": [
    "num_of_tries = len([x for x in os.listdir(SAVE_PATH) if \"test_lp_\" in x])\r\n",
    "np.savetxt(os.path.join(SAVE_PATH, f\"test_lp_{num_of_tries}.csv\"), lp_test_result, delimiter=\",\", fmt=\"%f\", header=\"Size, Num neighbors, forgot_percentage, reconstruction, test\")"
   ]
  },
  {
   "cell_type": "code",
   "execution_count": 88,
   "metadata": {},
   "outputs": [
    {
     "name": "stdout",
     "output_type": "stream",
     "text": [
      "Aug 15 03:15:14 AM: Loading cached dataset.\n"
     ]
    }
   ],
   "source": [
    "test_x, test_Y = MNIST.load_pymde_testset()\r\n",
    "true_test_Y = np.copy(test_Y)\r\n",
    "srg_test_result = [ ]"
   ]
  },
  {
   "cell_type": "code",
   "execution_count": 89,
   "metadata": {},
   "outputs": [
    {
     "name": "stdout",
     "output_type": "stream",
     "text": [
      "Aug 15 03:15:14 AM: Loading cached dataset.\n",
      "\n",
      "#Calculating distances#\n",
      "\n",
      "Constructing knn graph\n"
     ]
    },
    {
     "name": "stderr",
     "output_type": "stream",
     "text": [
      "100%|██████████| 500/500 [00:00<00:00, 40001.37it/s]\n"
     ]
    },
    {
     "name": "stdout",
     "output_type": "stream",
     "text": [
      "Converting to csr\n",
      "Converting matrix to pygel using precomputed embedding\n",
      "Creating nodes\n"
     ]
    },
    {
     "name": "stderr",
     "output_type": "stream",
     "text": [
      "500it [00:00, 250077.75it/s]\n"
     ]
    },
    {
     "name": "stdout",
     "output_type": "stream",
     "text": [
      "Connecting Nodes\n"
     ]
    },
    {
     "name": "stderr",
     "output_type": "stream",
     "text": [
      "100%|██████████| 2064/2064 [00:00<00:00, 687776.55it/s]\n"
     ]
    },
    {
     "name": "stdout",
     "output_type": "stream",
     "text": [
      "Skeletonization has yielded 500 -> 230 nodes\n",
      "Creating matrix graph\n"
     ]
    },
    {
     "name": "stderr",
     "output_type": "stream",
     "text": [
      "100%|██████████| 230/230 [00:00<00:00, 65732.48it/s]\n"
     ]
    },
    {
     "name": "stdout",
     "output_type": "stream",
     "text": [
      "Creating oht label graph\n"
     ]
    },
    {
     "name": "stderr",
     "output_type": "stream",
     "text": [
      "100%|██████████| 500/500 [00:00<00:00, 1002942.13it/s]\n"
     ]
    },
    {
     "name": "stdout",
     "output_type": "stream",
     "text": [
      "Choosing the most present label\n",
      "Propagation labels\n"
     ]
    },
    {
     "name": "stderr",
     "output_type": "stream",
     "text": [
      "100%|██████████| 20/20 [00:00<00:00, 1739.36it/s]\n"
     ]
    },
    {
     "name": "stdout",
     "output_type": "stream",
     "text": [
      "Converting to csr\n",
      "Remaping labels\n"
     ]
    },
    {
     "name": "stderr",
     "output_type": "stream",
     "text": [
      "100%|██████████| 500/500 [00:00<00:00, 996745.25it/s]"
     ]
    },
    {
     "name": "stdout",
     "output_type": "stream",
     "text": [
      "Testing testing set accuracy\n"
     ]
    },
    {
     "name": "stderr",
     "output_type": "stream",
     "text": [
      "\n"
     ]
    },
    {
     "name": "stdout",
     "output_type": "stream",
     "text": [
      "Testing reconstruction accuracy\n",
      "\n",
      "####################\n",
      "cur_time()='3:15:16'\n",
      "k=4\n",
      "s=500\n",
      "p=0.9\n",
      "reduction=230\n",
      "reconstruction_acc=56.81\n",
      "test_acc=47.4\n",
      "####################\n",
      "\n",
      "Creating matrix graph\n"
     ]
    },
    {
     "name": "stderr",
     "output_type": "stream",
     "text": [
      "100%|██████████| 230/230 [00:00<00:00, 76714.90it/s]\n"
     ]
    },
    {
     "name": "stdout",
     "output_type": "stream",
     "text": [
      "Creating oht label graph\n"
     ]
    },
    {
     "name": "stderr",
     "output_type": "stream",
     "text": [
      "100%|██████████| 500/500 [00:00<00:00, 999595.81it/s]\n"
     ]
    },
    {
     "name": "stdout",
     "output_type": "stream",
     "text": [
      "Choosing the most present label\n",
      "Propagation labels\n"
     ]
    },
    {
     "name": "stderr",
     "output_type": "stream",
     "text": [
      "100%|██████████| 20/20 [00:00<00:00, 2104.83it/s]\n"
     ]
    },
    {
     "name": "stdout",
     "output_type": "stream",
     "text": [
      "Converting to csr\n",
      "Remaping labels\n"
     ]
    },
    {
     "name": "stderr",
     "output_type": "stream",
     "text": [
      "100%|██████████| 500/500 [00:00<?, ?it/s]"
     ]
    },
    {
     "name": "stdout",
     "output_type": "stream",
     "text": [
      "Testing testing set accuracy\n",
      "Testing reconstruction accuracy\n"
     ]
    },
    {
     "name": "stderr",
     "output_type": "stream",
     "text": [
      "\n"
     ]
    },
    {
     "name": "stdout",
     "output_type": "stream",
     "text": [
      "\n",
      "####################\n",
      "cur_time()='3:15:16'\n",
      "k=4\n",
      "s=500\n",
      "p=0.99\n",
      "reduction=230\n",
      "reconstruction_acc=13.450000000000001\n",
      "test_acc=47.4\n",
      "####################\n",
      "\n",
      "Creating matrix graph\n"
     ]
    },
    {
     "name": "stderr",
     "output_type": "stream",
     "text": [
      "100%|██████████| 230/230 [00:00<00:00, 65647.49it/s]\n"
     ]
    },
    {
     "name": "stdout",
     "output_type": "stream",
     "text": [
      "Creating oht label graph\n"
     ]
    },
    {
     "name": "stderr",
     "output_type": "stream",
     "text": [
      "100%|██████████| 500/500 [00:00<00:00, 499440.82it/s]\n"
     ]
    },
    {
     "name": "stdout",
     "output_type": "stream",
     "text": [
      "Choosing the most present label\n",
      "Propagation labels\n"
     ]
    },
    {
     "name": "stderr",
     "output_type": "stream",
     "text": [
      "100%|██████████| 20/20 [00:00<00:00, 2105.73it/s]\n"
     ]
    },
    {
     "name": "stdout",
     "output_type": "stream",
     "text": [
      "Converting to csr\n",
      "Remaping labels\n"
     ]
    },
    {
     "name": "stderr",
     "output_type": "stream",
     "text": [
      "100%|██████████| 500/500 [00:00<?, ?it/s]\n"
     ]
    },
    {
     "name": "stdout",
     "output_type": "stream",
     "text": [
      "Testing testing set accuracy\n",
      "Testing reconstruction accuracy\n",
      "\n",
      "####################\n",
      "cur_time()='3:15:16'\n",
      "k=4\n",
      "s=500\n",
      "p=0.999\n",
      "reduction=230\n",
      "reconstruction_acc=9.83\n",
      "test_acc=47.4\n",
      "####################\n",
      "\n",
      "Creating matrix graph\n"
     ]
    },
    {
     "name": "stderr",
     "output_type": "stream",
     "text": [
      "100%|██████████| 230/230 [00:00<00:00, 76635.68it/s]\n"
     ]
    },
    {
     "name": "stdout",
     "output_type": "stream",
     "text": [
      "Creating oht label graph\n"
     ]
    },
    {
     "name": "stderr",
     "output_type": "stream",
     "text": [
      "100%|██████████| 500/500 [00:00<?, ?it/s]\n"
     ]
    },
    {
     "name": "stdout",
     "output_type": "stream",
     "text": [
      "Choosing the most present label\n",
      "Propagation labels\n"
     ]
    },
    {
     "name": "stderr",
     "output_type": "stream",
     "text": [
      "100%|██████████| 20/20 [00:00<00:00, 2352.65it/s]\n"
     ]
    },
    {
     "name": "stdout",
     "output_type": "stream",
     "text": [
      "Converting to csr\n",
      "Remaping labels\n"
     ]
    },
    {
     "name": "stderr",
     "output_type": "stream",
     "text": [
      "100%|██████████| 500/500 [00:00<?, ?it/s]\n"
     ]
    },
    {
     "name": "stdout",
     "output_type": "stream",
     "text": [
      "Testing testing set accuracy\n",
      "Testing reconstruction accuracy\n",
      "\n",
      "####################\n",
      "cur_time()='3:15:16'\n",
      "k=4\n",
      "s=500\n",
      "p=0.9999\n",
      "reduction=230\n",
      "reconstruction_acc=9.83\n",
      "test_acc=47.4\n",
      "####################\n",
      "\n",
      "Constructing knn graph\n"
     ]
    },
    {
     "name": "stderr",
     "output_type": "stream",
     "text": [
      "100%|██████████| 500/500 [00:00<00:00, 37044.96it/s]\n"
     ]
    },
    {
     "name": "stdout",
     "output_type": "stream",
     "text": [
      "Converting to csr\n",
      "Converting matrix to pygel using precomputed embedding\n",
      "Creating nodes\n"
     ]
    },
    {
     "name": "stderr",
     "output_type": "stream",
     "text": [
      "500it [00:00, 200339.32it/s]\n"
     ]
    },
    {
     "name": "stdout",
     "output_type": "stream",
     "text": [
      "Connecting Nodes\n"
     ]
    },
    {
     "name": "stderr",
     "output_type": "stream",
     "text": [
      "100%|██████████| 9230/9230 [00:00<00:00, 1086113.40it/s]\n"
     ]
    },
    {
     "name": "stdout",
     "output_type": "stream",
     "text": [
      "Skeletonization has yielded 500 -> 35 nodes\n",
      "Creating matrix graph\n"
     ]
    },
    {
     "name": "stderr",
     "output_type": "stream",
     "text": [
      "100%|██████████| 35/35 [00:00<00:00, 35044.32it/s]\n"
     ]
    },
    {
     "name": "stdout",
     "output_type": "stream",
     "text": [
      "Creating oht label graph\n"
     ]
    },
    {
     "name": "stderr",
     "output_type": "stream",
     "text": [
      "100%|██████████| 500/500 [00:00<00:00, 997693.63it/s]\n"
     ]
    },
    {
     "name": "stdout",
     "output_type": "stream",
     "text": [
      "Choosing the most present label\n",
      "Propagation labels\n"
     ]
    },
    {
     "name": "stderr",
     "output_type": "stream",
     "text": [
      "100%|██████████| 20/20 [00:00<00:00, 2501.45it/s]\n"
     ]
    },
    {
     "name": "stdout",
     "output_type": "stream",
     "text": [
      "Converting to csr\n",
      "Remaping labels\n"
     ]
    },
    {
     "name": "stderr",
     "output_type": "stream",
     "text": [
      "100%|██████████| 500/500 [00:00<00:00, 1003422.01it/s]"
     ]
    },
    {
     "name": "stdout",
     "output_type": "stream",
     "text": [
      "Testing testing set accuracy\n"
     ]
    },
    {
     "name": "stderr",
     "output_type": "stream",
     "text": [
      "\n"
     ]
    },
    {
     "name": "stdout",
     "output_type": "stream",
     "text": [
      "Testing reconstruction accuracy\n",
      "\n",
      "####################\n",
      "cur_time()='3:15:17'\n",
      "k=16\n",
      "s=500\n",
      "p=0.9\n",
      "reduction=35\n",
      "reconstruction_acc=53.839999999999996\n",
      "test_acc=47.4\n",
      "####################\n",
      "\n",
      "Creating matrix graph\n"
     ]
    },
    {
     "name": "stderr",
     "output_type": "stream",
     "text": [
      "100%|██████████| 35/35 [00:00<00:00, 69705.91it/s]\n"
     ]
    },
    {
     "name": "stdout",
     "output_type": "stream",
     "text": [
      "Creating oht label graph\n"
     ]
    },
    {
     "name": "stderr",
     "output_type": "stream",
     "text": [
      "100%|██████████| 500/500 [00:00<?, ?it/s]\n"
     ]
    },
    {
     "name": "stdout",
     "output_type": "stream",
     "text": [
      "Choosing the most present label\n",
      "Propagation labels\n"
     ]
    },
    {
     "name": "stderr",
     "output_type": "stream",
     "text": [
      "100%|██████████| 20/20 [00:00<00:00, 3076.02it/s]\n"
     ]
    },
    {
     "name": "stdout",
     "output_type": "stream",
     "text": [
      "Converting to csr\n",
      "Remaping labels\n"
     ]
    },
    {
     "name": "stderr",
     "output_type": "stream",
     "text": [
      "100%|██████████| 500/500 [00:00<?, ?it/s]"
     ]
    },
    {
     "name": "stdout",
     "output_type": "stream",
     "text": [
      "Testing testing set accuracy\n"
     ]
    },
    {
     "name": "stderr",
     "output_type": "stream",
     "text": [
      "\n"
     ]
    },
    {
     "name": "stdout",
     "output_type": "stream",
     "text": [
      "Testing reconstruction accuracy\n",
      "\n",
      "####################\n",
      "cur_time()='3:15:17'\n",
      "k=16\n",
      "s=500\n",
      "p=0.99\n",
      "reduction=35\n",
      "reconstruction_acc=26.810000000000002\n",
      "test_acc=47.4\n",
      "####################\n",
      "\n",
      "Creating matrix graph\n"
     ]
    },
    {
     "name": "stderr",
     "output_type": "stream",
     "text": [
      "100%|██████████| 35/35 [00:00<00:00, 69838.55it/s]\n"
     ]
    },
    {
     "name": "stdout",
     "output_type": "stream",
     "text": [
      "Creating oht label graph\n"
     ]
    },
    {
     "name": "stderr",
     "output_type": "stream",
     "text": [
      "100%|██████████| 500/500 [00:00<00:00, 1001505.25it/s]\n"
     ]
    },
    {
     "name": "stdout",
     "output_type": "stream",
     "text": [
      "Choosing the most present label\n",
      "Propagation labels\n"
     ]
    },
    {
     "name": "stderr",
     "output_type": "stream",
     "text": [
      "100%|██████████| 20/20 [00:00<00:00, 2499.36it/s]\n"
     ]
    },
    {
     "name": "stdout",
     "output_type": "stream",
     "text": [
      "Converting to csr\n",
      "Remaping labels\n"
     ]
    },
    {
     "name": "stderr",
     "output_type": "stream",
     "text": [
      "100%|██████████| 500/500 [00:00<?, ?it/s]\n"
     ]
    },
    {
     "name": "stdout",
     "output_type": "stream",
     "text": [
      "Testing testing set accuracy\n",
      "Testing reconstruction accuracy\n",
      "\n",
      "####################\n",
      "cur_time()='3:15:17'\n",
      "k=16\n",
      "s=500\n",
      "p=0.999\n",
      "reduction=35\n",
      "reconstruction_acc=18.98\n",
      "test_acc=47.4\n",
      "####################\n",
      "\n",
      "Creating matrix graph\n"
     ]
    },
    {
     "name": "stderr",
     "output_type": "stream",
     "text": [
      "100%|██████████| 35/35 [00:00<00:00, 23335.02it/s]\n"
     ]
    },
    {
     "name": "stdout",
     "output_type": "stream",
     "text": [
      "Creating oht label graph\n"
     ]
    },
    {
     "name": "stderr",
     "output_type": "stream",
     "text": [
      "100%|██████████| 500/500 [00:00<00:00, 996745.25it/s]\n"
     ]
    },
    {
     "name": "stdout",
     "output_type": "stream",
     "text": [
      "Choosing the most present label\n",
      "Propagation labels\n"
     ]
    },
    {
     "name": "stderr",
     "output_type": "stream",
     "text": [
      "100%|██████████| 20/20 [00:00<00:00, 3335.56it/s]\n"
     ]
    },
    {
     "name": "stdout",
     "output_type": "stream",
     "text": [
      "Converting to csr\n",
      "Remaping labels\n"
     ]
    },
    {
     "name": "stderr",
     "output_type": "stream",
     "text": [
      "100%|██████████| 500/500 [00:00<00:00, 1000072.48it/s]\n"
     ]
    },
    {
     "name": "stdout",
     "output_type": "stream",
     "text": [
      "Testing testing set accuracy\n",
      "Testing reconstruction accuracy\n",
      "\n",
      "####################\n",
      "cur_time()='3:15:17'\n",
      "k=16\n",
      "s=500\n",
      "p=0.9999\n",
      "reduction=35\n",
      "reconstruction_acc=18.98\n",
      "test_acc=47.4\n",
      "####################\n",
      "\n",
      "Constructing knn graph\n"
     ]
    },
    {
     "name": "stderr",
     "output_type": "stream",
     "text": [
      "100%|██████████| 500/500 [00:00<00:00, 35711.40it/s]\n"
     ]
    },
    {
     "name": "stdout",
     "output_type": "stream",
     "text": [
      "Converting to csr\n",
      "Converting matrix to pygel using precomputed embedding\n",
      "Creating nodes\n"
     ]
    },
    {
     "name": "stderr",
     "output_type": "stream",
     "text": [
      "500it [00:00, 199938.22it/s]\n"
     ]
    },
    {
     "name": "stdout",
     "output_type": "stream",
     "text": [
      "Connecting Nodes\n"
     ]
    },
    {
     "name": "stderr",
     "output_type": "stream",
     "text": [
      "100%|██████████| 18228/18228 [00:00<00:00, 1215172.19it/s]\n"
     ]
    },
    {
     "name": "stdout",
     "output_type": "stream",
     "text": [
      "Skeletonization has yielded 500 -> 19 nodes\n",
      "Creating matrix graph\n"
     ]
    },
    {
     "name": "stderr",
     "output_type": "stream",
     "text": [
      "100%|██████████| 19/19 [00:00<00:00, 37966.54it/s]\n"
     ]
    },
    {
     "name": "stdout",
     "output_type": "stream",
     "text": [
      "Creating oht label graph\n"
     ]
    },
    {
     "name": "stderr",
     "output_type": "stream",
     "text": [
      "100%|██████████| 500/500 [00:00<00:00, 998168.49it/s]\n"
     ]
    },
    {
     "name": "stdout",
     "output_type": "stream",
     "text": [
      "Choosing the most present label\n",
      "Propagation labels\n"
     ]
    },
    {
     "name": "stderr",
     "output_type": "stream",
     "text": [
      "100%|██████████| 20/20 [00:00<00:00, 3334.24it/s]\n"
     ]
    },
    {
     "name": "stdout",
     "output_type": "stream",
     "text": [
      "Converting to csr\n",
      "Remaping labels\n"
     ]
    },
    {
     "name": "stderr",
     "output_type": "stream",
     "text": [
      "100%|██████████| 500/500 [00:00<00:00, 994382.17it/s]\n"
     ]
    },
    {
     "name": "stdout",
     "output_type": "stream",
     "text": [
      "Testing testing set accuracy\n",
      "Testing reconstruction accuracy\n",
      "\n",
      "####################\n",
      "cur_time()='3:15:18'\n",
      "k=32\n",
      "s=500\n",
      "p=0.9\n",
      "reduction=19\n",
      "reconstruction_acc=50.160000000000004\n",
      "test_acc=47.4\n",
      "####################\n",
      "\n",
      "Creating matrix graph\n"
     ]
    },
    {
     "name": "stderr",
     "output_type": "stream",
     "text": [
      "100%|██████████| 19/19 [00:00<00:00, 37966.54it/s]\n"
     ]
    },
    {
     "name": "stdout",
     "output_type": "stream",
     "text": [
      "Creating oht label graph\n"
     ]
    },
    {
     "name": "stderr",
     "output_type": "stream",
     "text": [
      "100%|██████████| 500/500 [00:00<?, ?it/s]\n"
     ]
    },
    {
     "name": "stdout",
     "output_type": "stream",
     "text": [
      "Choosing the most present label\n",
      "Propagation labels\n"
     ]
    },
    {
     "name": "stderr",
     "output_type": "stream",
     "text": [
      "100%|██████████| 20/20 [00:00<00:00, 2499.14it/s]\n"
     ]
    },
    {
     "name": "stdout",
     "output_type": "stream",
     "text": [
      "Converting to csr\n",
      "Remaping labels\n"
     ]
    },
    {
     "name": "stderr",
     "output_type": "stream",
     "text": [
      "100%|██████████| 500/500 [00:00<?, ?it/s]\n"
     ]
    },
    {
     "name": "stdout",
     "output_type": "stream",
     "text": [
      "Testing testing set accuracy\n",
      "Testing reconstruction accuracy\n",
      "\n",
      "####################\n",
      "cur_time()='3:15:18'\n",
      "k=32\n",
      "s=500\n",
      "p=0.99\n",
      "reduction=19\n",
      "reconstruction_acc=29.37\n",
      "test_acc=47.4\n",
      "####################\n",
      "\n",
      "Creating matrix graph\n"
     ]
    },
    {
     "name": "stderr",
     "output_type": "stream",
     "text": [
      "100%|██████████| 19/19 [00:00<00:00, 37750.72it/s]\n"
     ]
    },
    {
     "name": "stdout",
     "output_type": "stream",
     "text": [
      "Creating oht label graph\n"
     ]
    },
    {
     "name": "stderr",
     "output_type": "stream",
     "text": [
      "100%|██████████| 500/500 [00:00<00:00, 999595.81it/s]\n"
     ]
    },
    {
     "name": "stdout",
     "output_type": "stream",
     "text": [
      "Choosing the most present label\n",
      "Propagation labels\n"
     ]
    },
    {
     "name": "stderr",
     "output_type": "stream",
     "text": [
      "100%|██████████| 20/20 [00:00<00:00, 3339.28it/s]\n"
     ]
    },
    {
     "name": "stdout",
     "output_type": "stream",
     "text": [
      "Converting to csr\n",
      "Remaping labels\n"
     ]
    },
    {
     "name": "stderr",
     "output_type": "stream",
     "text": [
      "100%|██████████| 500/500 [00:00<00:00, 1004864.40it/s]\n"
     ]
    },
    {
     "name": "stdout",
     "output_type": "stream",
     "text": [
      "Testing testing set accuracy\n",
      "Testing reconstruction accuracy\n",
      "\n",
      "####################\n",
      "cur_time()='3:15:18'\n",
      "k=32\n",
      "s=500\n",
      "p=0.999\n",
      "reduction=19\n",
      "reconstruction_acc=19.27\n",
      "test_acc=47.4\n",
      "####################\n",
      "\n",
      "Creating matrix graph\n"
     ]
    },
    {
     "name": "stderr",
     "output_type": "stream",
     "text": [
      "100%|██████████| 19/19 [00:00<00:00, 37537.34it/s]\n"
     ]
    },
    {
     "name": "stdout",
     "output_type": "stream",
     "text": [
      "Creating oht label graph\n"
     ]
    },
    {
     "name": "stderr",
     "output_type": "stream",
     "text": [
      "100%|██████████| 500/500 [00:00<?, ?it/s]\n"
     ]
    },
    {
     "name": "stdout",
     "output_type": "stream",
     "text": [
      "Choosing the most present label\n",
      "Propagation labels\n"
     ]
    },
    {
     "name": "stderr",
     "output_type": "stream",
     "text": [
      "100%|██████████| 20/20 [00:00<00:00, 3332.25it/s]\n"
     ]
    },
    {
     "name": "stdout",
     "output_type": "stream",
     "text": [
      "Converting to csr\n",
      "Remaping labels\n"
     ]
    },
    {
     "name": "stderr",
     "output_type": "stream",
     "text": [
      "100%|██████████| 500/500 [00:00<00:00, 1000072.48it/s]\n"
     ]
    },
    {
     "name": "stdout",
     "output_type": "stream",
     "text": [
      "Testing testing set accuracy\n",
      "Testing reconstruction accuracy\n",
      "\n",
      "####################\n",
      "cur_time()='3:15:18'\n",
      "k=32\n",
      "s=500\n",
      "p=0.9999\n",
      "reduction=19\n",
      "reconstruction_acc=19.27\n",
      "test_acc=47.4\n",
      "####################\n",
      "\n",
      "\n",
      "#Calculating distances#\n",
      "\n",
      "Constructing knn graph\n"
     ]
    },
    {
     "name": "stderr",
     "output_type": "stream",
     "text": [
      "100%|██████████| 1000/1000 [00:00<00:00, 40001.37it/s]\n"
     ]
    },
    {
     "name": "stdout",
     "output_type": "stream",
     "text": [
      "Converting to csr\n",
      "Converting matrix to pygel using precomputed embedding\n",
      "Creating nodes\n"
     ]
    },
    {
     "name": "stderr",
     "output_type": "stream",
     "text": [
      "1000it [00:00, 222297.22it/s]\n"
     ]
    },
    {
     "name": "stdout",
     "output_type": "stream",
     "text": [
      "Connecting Nodes\n"
     ]
    },
    {
     "name": "stderr",
     "output_type": "stream",
     "text": [
      "100%|██████████| 4118/4118 [00:00<00:00, 1176817.05it/s]\n"
     ]
    },
    {
     "name": "stdout",
     "output_type": "stream",
     "text": [
      "Skeletonization has yielded 1000 -> 469 nodes\n",
      "Creating matrix graph\n"
     ]
    },
    {
     "name": "stderr",
     "output_type": "stream",
     "text": [
      "100%|██████████| 469/469 [00:00<00:00, 72167.02it/s]\n"
     ]
    },
    {
     "name": "stdout",
     "output_type": "stream",
     "text": [
      "Creating oht label graph\n"
     ]
    },
    {
     "name": "stderr",
     "output_type": "stream",
     "text": [
      "100%|██████████| 1000/1000 [00:00<00:00, 1000549.62it/s]\n"
     ]
    },
    {
     "name": "stdout",
     "output_type": "stream",
     "text": [
      "Choosing the most present label\n",
      "Propagation labels\n"
     ]
    },
    {
     "name": "stderr",
     "output_type": "stream",
     "text": [
      "100%|██████████| 20/20 [00:00<00:00, 1379.48it/s]\n"
     ]
    },
    {
     "name": "stdout",
     "output_type": "stream",
     "text": [
      "Converting to csr\n",
      "Remaping labels\n"
     ]
    },
    {
     "name": "stderr",
     "output_type": "stream",
     "text": [
      "100%|██████████| 1000/1000 [00:00<00:00, 2008766.28it/s]"
     ]
    },
    {
     "name": "stdout",
     "output_type": "stream",
     "text": [
      "Testing testing set accuracy\n"
     ]
    },
    {
     "name": "stderr",
     "output_type": "stream",
     "text": [
      "\n"
     ]
    },
    {
     "name": "stdout",
     "output_type": "stream",
     "text": [
      "Testing reconstruction accuracy\n",
      "\n",
      "####################\n",
      "cur_time()='3:15:21'\n",
      "k=4\n",
      "s=1000\n",
      "p=0.9\n",
      "reduction=469\n",
      "reconstruction_acc=62.13999999999999\n",
      "test_acc=47.4\n",
      "####################\n",
      "\n",
      "Creating matrix graph\n"
     ]
    },
    {
     "name": "stderr",
     "output_type": "stream",
     "text": [
      "100%|██████████| 469/469 [00:00<00:00, 85319.59it/s]\n"
     ]
    },
    {
     "name": "stdout",
     "output_type": "stream",
     "text": [
      "Creating oht label graph\n"
     ]
    },
    {
     "name": "stderr",
     "output_type": "stream",
     "text": [
      "100%|██████████| 1000/1000 [00:00<00:00, 2001099.24it/s]\n"
     ]
    },
    {
     "name": "stdout",
     "output_type": "stream",
     "text": [
      "Choosing the most present label\n",
      "Propagation labels\n"
     ]
    },
    {
     "name": "stderr",
     "output_type": "stream",
     "text": [
      "100%|██████████| 20/20 [00:00<00:00, 1428.63it/s]\n"
     ]
    },
    {
     "name": "stdout",
     "output_type": "stream",
     "text": [
      "Converting to csr\n",
      "Remaping labels\n"
     ]
    },
    {
     "name": "stderr",
     "output_type": "stream",
     "text": [
      "100%|██████████| 1000/1000 [00:00<00:00, 1000072.48it/s]"
     ]
    },
    {
     "name": "stdout",
     "output_type": "stream",
     "text": [
      "Testing testing set accuracy\n"
     ]
    },
    {
     "name": "stderr",
     "output_type": "stream",
     "text": [
      "\n"
     ]
    },
    {
     "name": "stdout",
     "output_type": "stream",
     "text": [
      "Testing reconstruction accuracy\n",
      "\n",
      "####################\n",
      "cur_time()='3:15:21'\n",
      "k=4\n",
      "s=1000\n",
      "p=0.99\n",
      "reduction=469\n",
      "reconstruction_acc=25.36\n",
      "test_acc=47.4\n",
      "####################\n",
      "\n",
      "Creating matrix graph\n"
     ]
    },
    {
     "name": "stderr",
     "output_type": "stream",
     "text": [
      "100%|██████████| 469/469 [00:00<00:00, 78197.19it/s]\n"
     ]
    },
    {
     "name": "stdout",
     "output_type": "stream",
     "text": [
      "Creating oht label graph\n"
     ]
    },
    {
     "name": "stderr",
     "output_type": "stream",
     "text": [
      "100%|██████████| 1000/1000 [00:00<00:00, 2006844.02it/s]\n"
     ]
    },
    {
     "name": "stdout",
     "output_type": "stream",
     "text": [
      "Choosing the most present label\n",
      "Propagation labels\n"
     ]
    },
    {
     "name": "stderr",
     "output_type": "stream",
     "text": [
      "100%|██████████| 20/20 [00:00<00:00, 1599.99it/s]\n"
     ]
    },
    {
     "name": "stdout",
     "output_type": "stream",
     "text": [
      "Converting to csr\n",
      "Remaping labels\n"
     ]
    },
    {
     "name": "stderr",
     "output_type": "stream",
     "text": [
      "100%|██████████| 1000/1000 [00:00<00:00, 1001983.76it/s]"
     ]
    },
    {
     "name": "stdout",
     "output_type": "stream",
     "text": [
      "Testing testing set accuracy\n"
     ]
    },
    {
     "name": "stderr",
     "output_type": "stream",
     "text": [
      "\n"
     ]
    },
    {
     "name": "stdout",
     "output_type": "stream",
     "text": [
      "Testing reconstruction accuracy\n",
      "\n",
      "####################\n",
      "cur_time()='3:15:21'\n",
      "k=4\n",
      "s=1000\n",
      "p=0.999\n",
      "reduction=469\n",
      "reconstruction_acc=12.45\n",
      "test_acc=47.4\n",
      "####################\n",
      "\n",
      "Creating matrix graph\n"
     ]
    },
    {
     "name": "stderr",
     "output_type": "stream",
     "text": [
      "100%|██████████| 469/469 [00:00<00:00, 67004.86it/s]\n"
     ]
    },
    {
     "name": "stdout",
     "output_type": "stream",
     "text": [
      "Creating oht label graph\n"
     ]
    },
    {
     "name": "stderr",
     "output_type": "stream",
     "text": [
      "100%|██████████| 1000/1000 [00:00<00:00, 2007804.69it/s]\n"
     ]
    },
    {
     "name": "stdout",
     "output_type": "stream",
     "text": [
      "Choosing the most present label\n",
      "Propagation labels\n"
     ]
    },
    {
     "name": "stderr",
     "output_type": "stream",
     "text": [
      "100%|██████████| 20/20 [00:00<00:00, 1538.52it/s]\n"
     ]
    },
    {
     "name": "stdout",
     "output_type": "stream",
     "text": [
      "Converting to csr\n",
      "Remaping labels\n"
     ]
    },
    {
     "name": "stderr",
     "output_type": "stream",
     "text": [
      "100%|██████████| 1000/1000 [00:00<00:00, 1003182.01it/s]"
     ]
    },
    {
     "name": "stdout",
     "output_type": "stream",
     "text": [
      "Testing testing set accuracy\n"
     ]
    },
    {
     "name": "stderr",
     "output_type": "stream",
     "text": [
      "\n"
     ]
    },
    {
     "name": "stdout",
     "output_type": "stream",
     "text": [
      "Testing reconstruction accuracy\n",
      "\n",
      "####################\n",
      "cur_time()='3:15:22'\n",
      "k=4\n",
      "s=1000\n",
      "p=0.9999\n",
      "reduction=469\n",
      "reconstruction_acc=12.45\n",
      "test_acc=47.4\n",
      "####################\n",
      "\n",
      "Constructing knn graph\n"
     ]
    },
    {
     "name": "stderr",
     "output_type": "stream",
     "text": [
      "100%|██████████| 1000/1000 [00:00<00:00, 38459.39it/s]\n"
     ]
    },
    {
     "name": "stdout",
     "output_type": "stream",
     "text": [
      "Converting to csr\n",
      "Converting matrix to pygel using precomputed embedding\n",
      "Creating nodes\n"
     ]
    },
    {
     "name": "stderr",
     "output_type": "stream",
     "text": [
      "1000it [00:00, 200014.50it/s]\n"
     ]
    },
    {
     "name": "stdout",
     "output_type": "stream",
     "text": [
      "Connecting Nodes\n"
     ]
    },
    {
     "name": "stderr",
     "output_type": "stream",
     "text": [
      "100%|██████████| 19298/19298 [00:00<00:00, 1072245.64it/s]\n"
     ]
    },
    {
     "name": "stdout",
     "output_type": "stream",
     "text": [
      "Skeletonization has yielded 1000 -> 93 nodes\n",
      "Creating matrix graph\n"
     ]
    },
    {
     "name": "stderr",
     "output_type": "stream",
     "text": [
      "100%|██████████| 93/93 [00:00<00:00, 62034.08it/s]\n"
     ]
    },
    {
     "name": "stdout",
     "output_type": "stream",
     "text": [
      "Creating oht label graph\n"
     ]
    },
    {
     "name": "stderr",
     "output_type": "stream",
     "text": [
      "100%|██████████| 1000/1000 [00:00<00:00, 2033109.06it/s]\n"
     ]
    },
    {
     "name": "stdout",
     "output_type": "stream",
     "text": [
      "Choosing the most present label\n",
      "Propagation labels\n"
     ]
    },
    {
     "name": "stderr",
     "output_type": "stream",
     "text": [
      "100%|██████████| 20/20 [00:00<00:00, 2222.91it/s]\n"
     ]
    },
    {
     "name": "stdout",
     "output_type": "stream",
     "text": [
      "Converting to csr\n",
      "Remaping labels\n"
     ]
    },
    {
     "name": "stderr",
     "output_type": "stream",
     "text": [
      "100%|██████████| 1000/1000 [00:00<00:00, 2003010.51it/s]"
     ]
    },
    {
     "name": "stdout",
     "output_type": "stream",
     "text": [
      "Testing testing set accuracy\n"
     ]
    },
    {
     "name": "stderr",
     "output_type": "stream",
     "text": [
      "\n"
     ]
    },
    {
     "name": "stdout",
     "output_type": "stream",
     "text": [
      "Testing reconstruction accuracy\n",
      "\n",
      "####################\n",
      "cur_time()='3:15:22'\n",
      "k=16\n",
      "s=1000\n",
      "p=0.9\n",
      "reduction=93\n",
      "reconstruction_acc=65.41\n",
      "test_acc=47.4\n",
      "####################\n",
      "\n",
      "Creating matrix graph\n"
     ]
    },
    {
     "name": "stderr",
     "output_type": "stream",
     "text": [
      "100%|██████████| 93/93 [00:00<00:00, 62014.35it/s]\n"
     ]
    },
    {
     "name": "stdout",
     "output_type": "stream",
     "text": [
      "Creating oht label graph\n"
     ]
    },
    {
     "name": "stderr",
     "output_type": "stream",
     "text": [
      "100%|██████████| 1000/1000 [00:00<00:00, 1998239.16it/s]\n"
     ]
    },
    {
     "name": "stdout",
     "output_type": "stream",
     "text": [
      "Choosing the most present label\n",
      "Propagation labels\n"
     ]
    },
    {
     "name": "stderr",
     "output_type": "stream",
     "text": [
      "100%|██████████| 20/20 [00:00<00:00, 2221.91it/s]\n"
     ]
    },
    {
     "name": "stdout",
     "output_type": "stream",
     "text": [
      "Converting to csr\n",
      "Remaping labels\n"
     ]
    },
    {
     "name": "stderr",
     "output_type": "stream",
     "text": [
      "100%|██████████| 1000/1000 [00:00<00:00, 2014555.24it/s]"
     ]
    },
    {
     "name": "stdout",
     "output_type": "stream",
     "text": [
      "Testing testing set accuracy\n"
     ]
    },
    {
     "name": "stderr",
     "output_type": "stream",
     "text": [
      "\n"
     ]
    },
    {
     "name": "stdout",
     "output_type": "stream",
     "text": [
      "Testing reconstruction accuracy\n",
      "\n",
      "####################\n",
      "cur_time()='3:15:22'\n",
      "k=16\n",
      "s=1000\n",
      "p=0.99\n",
      "reduction=93\n",
      "reconstruction_acc=50.24999999999999\n",
      "test_acc=47.4\n",
      "####################\n",
      "\n",
      "Creating matrix graph\n"
     ]
    },
    {
     "name": "stderr",
     "output_type": "stream",
     "text": [
      "100%|██████████| 93/93 [00:00<00:00, 62182.41it/s]\n"
     ]
    },
    {
     "name": "stdout",
     "output_type": "stream",
     "text": [
      "Creating oht label graph\n"
     ]
    },
    {
     "name": "stderr",
     "output_type": "stream",
     "text": [
      "100%|██████████| 1000/1000 [00:00<00:00, 2006844.02it/s]\n"
     ]
    },
    {
     "name": "stdout",
     "output_type": "stream",
     "text": [
      "Choosing the most present label\n",
      "Propagation labels\n"
     ]
    },
    {
     "name": "stderr",
     "output_type": "stream",
     "text": [
      "100%|██████████| 20/20 [00:00<00:00, 2351.92it/s]\n"
     ]
    },
    {
     "name": "stdout",
     "output_type": "stream",
     "text": [
      "Converting to csr\n",
      "Remaping labels\n"
     ]
    },
    {
     "name": "stderr",
     "output_type": "stream",
     "text": [
      "100%|██████████| 1000/1000 [00:00<00:00, 2003967.51it/s]"
     ]
    },
    {
     "name": "stdout",
     "output_type": "stream",
     "text": [
      "Testing testing set accuracy\n"
     ]
    },
    {
     "name": "stderr",
     "output_type": "stream",
     "text": [
      "\n"
     ]
    },
    {
     "name": "stdout",
     "output_type": "stream",
     "text": [
      "Testing reconstruction accuracy\n",
      "\n",
      "####################\n",
      "cur_time()='3:15:22'\n",
      "k=16\n",
      "s=1000\n",
      "p=0.999\n",
      "reduction=93\n",
      "reconstruction_acc=19.28\n",
      "test_acc=47.4\n",
      "####################\n",
      "\n",
      "Creating matrix graph\n"
     ]
    },
    {
     "name": "stderr",
     "output_type": "stream",
     "text": [
      "100%|██████████| 93/93 [00:00<00:00, 62093.33it/s]\n"
     ]
    },
    {
     "name": "stdout",
     "output_type": "stream",
     "text": [
      "Creating oht label graph\n"
     ]
    },
    {
     "name": "stderr",
     "output_type": "stream",
     "text": [
      "100%|██████████| 1000/1000 [00:00<00:00, 2000144.97it/s]\n"
     ]
    },
    {
     "name": "stdout",
     "output_type": "stream",
     "text": [
      "Choosing the most present label\n",
      "Propagation labels\n"
     ]
    },
    {
     "name": "stderr",
     "output_type": "stream",
     "text": [
      "100%|██████████| 20/20 [00:00<00:00, 2666.44it/s]\n"
     ]
    },
    {
     "name": "stdout",
     "output_type": "stream",
     "text": [
      "Converting to csr\n",
      "Remaping labels\n"
     ]
    },
    {
     "name": "stderr",
     "output_type": "stream",
     "text": [
      "100%|██████████| 1000/1000 [00:00<00:00, 2003967.51it/s]"
     ]
    },
    {
     "name": "stdout",
     "output_type": "stream",
     "text": [
      "Testing testing set accuracy\n"
     ]
    },
    {
     "name": "stderr",
     "output_type": "stream",
     "text": [
      "\n"
     ]
    },
    {
     "name": "stdout",
     "output_type": "stream",
     "text": [
      "Testing reconstruction accuracy\n",
      "\n",
      "####################\n",
      "cur_time()='3:15:23'\n",
      "k=16\n",
      "s=1000\n",
      "p=0.9999\n",
      "reduction=93\n",
      "reconstruction_acc=19.28\n",
      "test_acc=47.4\n",
      "####################\n",
      "\n",
      "Constructing knn graph\n"
     ]
    },
    {
     "name": "stderr",
     "output_type": "stream",
     "text": [
      "100%|██████████| 1000/1000 [00:00<00:00, 34476.47it/s]\n"
     ]
    },
    {
     "name": "stdout",
     "output_type": "stream",
     "text": [
      "Converting to csr\n",
      "Converting matrix to pygel using precomputed embedding\n",
      "Creating nodes\n"
     ]
    },
    {
     "name": "stderr",
     "output_type": "stream",
     "text": [
      "1000it [00:00, 249898.95it/s]\n"
     ]
    },
    {
     "name": "stdout",
     "output_type": "stream",
     "text": [
      "Connecting Nodes\n"
     ]
    },
    {
     "name": "stderr",
     "output_type": "stream",
     "text": [
      "100%|██████████| 37848/37848 [00:00<00:00, 1097206.41it/s]\n"
     ]
    },
    {
     "name": "stdout",
     "output_type": "stream",
     "text": [
      "Skeletonization has yielded 1000 -> 39 nodes\n",
      "Creating matrix graph\n"
     ]
    },
    {
     "name": "stderr",
     "output_type": "stream",
     "text": [
      "100%|██████████| 39/39 [00:00<00:00, 78080.12it/s]\n"
     ]
    },
    {
     "name": "stdout",
     "output_type": "stream",
     "text": [
      "Creating oht label graph\n"
     ]
    },
    {
     "name": "stderr",
     "output_type": "stream",
     "text": [
      "100%|██████████| 1000/1000 [00:00<00:00, 1990652.11it/s]\n"
     ]
    },
    {
     "name": "stdout",
     "output_type": "stream",
     "text": [
      "Choosing the most present label\n",
      "Propagation labels\n"
     ]
    },
    {
     "name": "stderr",
     "output_type": "stream",
     "text": [
      "100%|██████████| 20/20 [00:00<00:00, 2500.26it/s]\n"
     ]
    },
    {
     "name": "stdout",
     "output_type": "stream",
     "text": [
      "Converting to csr\n",
      "Remaping labels\n"
     ]
    },
    {
     "name": "stderr",
     "output_type": "stream",
     "text": [
      "100%|██████████| 1000/1000 [00:00<00:00, 1000549.62it/s]"
     ]
    },
    {
     "name": "stdout",
     "output_type": "stream",
     "text": [
      "Testing testing set accuracy\n"
     ]
    },
    {
     "name": "stderr",
     "output_type": "stream",
     "text": [
      "\n"
     ]
    },
    {
     "name": "stdout",
     "output_type": "stream",
     "text": [
      "Testing reconstruction accuracy\n",
      "\n",
      "####################\n",
      "cur_time()='3:15:23'\n",
      "k=32\n",
      "s=1000\n",
      "p=0.9\n",
      "reduction=39\n",
      "reconstruction_acc=66.28\n",
      "test_acc=47.4\n",
      "####################\n",
      "\n",
      "Creating matrix graph\n"
     ]
    },
    {
     "name": "stderr",
     "output_type": "stream",
     "text": [
      "100%|██████████| 39/39 [00:00<00:00, 78042.87it/s]\n"
     ]
    },
    {
     "name": "stdout",
     "output_type": "stream",
     "text": [
      "Creating oht label graph\n"
     ]
    },
    {
     "name": "stderr",
     "output_type": "stream",
     "text": [
      "100%|██████████| 1000/1000 [00:00<00:00, 2004925.43it/s]\n"
     ]
    },
    {
     "name": "stdout",
     "output_type": "stream",
     "text": [
      "Choosing the most present label\n",
      "Propagation labels\n"
     ]
    },
    {
     "name": "stderr",
     "output_type": "stream",
     "text": [
      "100%|██████████| 20/20 [00:00<00:00, 2857.45it/s]\n"
     ]
    },
    {
     "name": "stdout",
     "output_type": "stream",
     "text": [
      "Converting to csr\n",
      "Remaping labels\n"
     ]
    },
    {
     "name": "stderr",
     "output_type": "stream",
     "text": [
      "100%|██████████| 1000/1000 [00:00<00:00, 998168.49it/s]"
     ]
    },
    {
     "name": "stdout",
     "output_type": "stream",
     "text": [
      "Testing testing set accuracy\n"
     ]
    },
    {
     "name": "stderr",
     "output_type": "stream",
     "text": [
      "\n"
     ]
    },
    {
     "name": "stdout",
     "output_type": "stream",
     "text": [
      "Testing reconstruction accuracy\n",
      "\n",
      "####################\n",
      "cur_time()='3:15:23'\n",
      "k=32\n",
      "s=1000\n",
      "p=0.99\n",
      "reduction=39\n",
      "reconstruction_acc=50.349999999999994\n",
      "test_acc=47.4\n",
      "####################\n",
      "\n",
      "Creating matrix graph\n"
     ]
    },
    {
     "name": "stderr",
     "output_type": "stream",
     "text": [
      "100%|██████████| 39/39 [00:00<00:00, 39077.37it/s]\n"
     ]
    },
    {
     "name": "stdout",
     "output_type": "stream",
     "text": [
      "Creating oht label graph\n"
     ]
    },
    {
     "name": "stderr",
     "output_type": "stream",
     "text": [
      "100%|██████████| 1000/1000 [00:00<00:00, 2000144.97it/s]\n"
     ]
    },
    {
     "name": "stdout",
     "output_type": "stream",
     "text": [
      "Choosing the most present label\n",
      "Propagation labels\n"
     ]
    },
    {
     "name": "stderr",
     "output_type": "stream",
     "text": [
      "100%|██████████| 20/20 [00:00<00:00, 2667.28it/s]\n"
     ]
    },
    {
     "name": "stdout",
     "output_type": "stream",
     "text": [
      "Converting to csr\n",
      "Remaping labels\n"
     ]
    },
    {
     "name": "stderr",
     "output_type": "stream",
     "text": [
      "100%|██████████| 1000/1000 [00:00<00:00, 997219.21it/s]"
     ]
    },
    {
     "name": "stdout",
     "output_type": "stream",
     "text": [
      "Testing testing set accuracy\n"
     ]
    },
    {
     "name": "stderr",
     "output_type": "stream",
     "text": [
      "\n"
     ]
    },
    {
     "name": "stdout",
     "output_type": "stream",
     "text": [
      "Testing reconstruction accuracy\n",
      "\n",
      "####################\n",
      "cur_time()='3:15:24'\n",
      "k=32\n",
      "s=1000\n",
      "p=0.999\n",
      "reduction=39\n",
      "reconstruction_acc=18.39\n",
      "test_acc=47.4\n",
      "####################\n",
      "\n",
      "Creating matrix graph\n"
     ]
    },
    {
     "name": "stderr",
     "output_type": "stream",
     "text": [
      "100%|██████████| 39/39 [00:00<00:00, 38845.37it/s]\n"
     ]
    },
    {
     "name": "stdout",
     "output_type": "stream",
     "text": [
      "Creating oht label graph\n"
     ]
    },
    {
     "name": "stderr",
     "output_type": "stream",
     "text": [
      "100%|██████████| 1000/1000 [00:00<00:00, 2002054.42it/s]\n"
     ]
    },
    {
     "name": "stdout",
     "output_type": "stream",
     "text": [
      "Choosing the most present label\n",
      "Propagation labels\n"
     ]
    },
    {
     "name": "stderr",
     "output_type": "stream",
     "text": [
      "100%|██████████| 20/20 [00:00<00:00, 2856.18it/s]\n"
     ]
    },
    {
     "name": "stdout",
     "output_type": "stream",
     "text": [
      "Converting to csr\n",
      "Remaping labels\n"
     ]
    },
    {
     "name": "stderr",
     "output_type": "stream",
     "text": [
      "100%|██████████| 1000/1000 [00:00<00:00, 2005884.27it/s]"
     ]
    },
    {
     "name": "stdout",
     "output_type": "stream",
     "text": [
      "Testing testing set accuracy\n"
     ]
    },
    {
     "name": "stderr",
     "output_type": "stream",
     "text": [
      "\n"
     ]
    },
    {
     "name": "stdout",
     "output_type": "stream",
     "text": [
      "Testing reconstruction accuracy\n",
      "\n",
      "####################\n",
      "cur_time()='3:15:24'\n",
      "k=32\n",
      "s=1000\n",
      "p=0.9999\n",
      "reduction=39\n",
      "reconstruction_acc=18.39\n",
      "test_acc=47.4\n",
      "####################\n",
      "\n",
      "\n",
      "#Calculating distances#\n",
      "\n",
      "Constructing knn graph\n"
     ]
    },
    {
     "name": "stderr",
     "output_type": "stream",
     "text": [
      "100%|██████████| 2000/2000 [00:00<00:00, 38097.48it/s]\n"
     ]
    },
    {
     "name": "stdout",
     "output_type": "stream",
     "text": [
      "Converting to csr\n",
      "Converting matrix to pygel using precomputed embedding\n",
      "Creating nodes\n"
     ]
    },
    {
     "name": "stderr",
     "output_type": "stream",
     "text": [
      "2000it [00:00, 235251.78it/s]\n"
     ]
    },
    {
     "name": "stdout",
     "output_type": "stream",
     "text": [
      "Connecting Nodes\n"
     ]
    },
    {
     "name": "stderr",
     "output_type": "stream",
     "text": [
      "100%|██████████| 8242/8242 [00:00<00:00, 1099257.62it/s]\n"
     ]
    },
    {
     "name": "stdout",
     "output_type": "stream",
     "text": [
      "Skeletonization has yielded 2000 -> 1230 nodes\n",
      "Creating matrix graph\n"
     ]
    },
    {
     "name": "stderr",
     "output_type": "stream",
     "text": [
      "100%|██████████| 1230/1230 [00:00<00:00, 82015.07it/s]\n"
     ]
    },
    {
     "name": "stdout",
     "output_type": "stream",
     "text": [
      "Creating oht label graph\n"
     ]
    },
    {
     "name": "stderr",
     "output_type": "stream",
     "text": [
      "100%|██████████| 2000/2000 [00:00<00:00, 1329204.25it/s]\n"
     ]
    },
    {
     "name": "stdout",
     "output_type": "stream",
     "text": [
      "Choosing the most present label\n",
      "Propagation labels\n"
     ]
    },
    {
     "name": "stderr",
     "output_type": "stream",
     "text": [
      "100%|██████████| 20/20 [00:00<00:00, 689.65it/s]\n"
     ]
    },
    {
     "name": "stdout",
     "output_type": "stream",
     "text": [
      "Converting to csr\n",
      "Remaping labels\n"
     ]
    },
    {
     "name": "stderr",
     "output_type": "stream",
     "text": [
      "100%|██████████| 2000/2000 [00:00<00:00, 1989707.78it/s]\n"
     ]
    },
    {
     "name": "stdout",
     "output_type": "stream",
     "text": [
      "Testing testing set accuracy\n",
      "Testing reconstruction accuracy\n",
      "\n",
      "####################\n",
      "cur_time()='3:15:30'\n",
      "k=4\n",
      "s=2000\n",
      "p=0.9\n",
      "reduction=1230\n",
      "reconstruction_acc=77.38000000000001\n",
      "test_acc=47.4\n",
      "####################\n",
      "\n",
      "Creating matrix graph\n"
     ]
    },
    {
     "name": "stderr",
     "output_type": "stream",
     "text": [
      "100%|██████████| 1230/1230 [00:00<00:00, 82000.73it/s]\n"
     ]
    },
    {
     "name": "stdout",
     "output_type": "stream",
     "text": [
      "Creating oht label graph\n"
     ]
    },
    {
     "name": "stderr",
     "output_type": "stream",
     "text": [
      "100%|██████████| 2000/2000 [00:00<00:00, 1993490.49it/s]\n"
     ]
    },
    {
     "name": "stdout",
     "output_type": "stream",
     "text": [
      "Choosing the most present label\n",
      "Propagation labels\n"
     ]
    },
    {
     "name": "stderr",
     "output_type": "stream",
     "text": [
      "100%|██████████| 20/20 [00:00<00:00, 769.29it/s]\n"
     ]
    },
    {
     "name": "stdout",
     "output_type": "stream",
     "text": [
      "Converting to csr\n",
      "Remaping labels\n"
     ]
    },
    {
     "name": "stderr",
     "output_type": "stream",
     "text": [
      "100%|██████████| 2000/2000 [00:00<00:00, 3998383.22it/s]"
     ]
    },
    {
     "name": "stdout",
     "output_type": "stream",
     "text": [
      "Testing testing set accuracy\n"
     ]
    },
    {
     "name": "stderr",
     "output_type": "stream",
     "text": [
      "\n"
     ]
    },
    {
     "name": "stdout",
     "output_type": "stream",
     "text": [
      "Testing reconstruction accuracy\n",
      "\n",
      "####################\n",
      "cur_time()='3:15:30'\n",
      "k=4\n",
      "s=2000\n",
      "p=0.99\n",
      "reduction=1230\n",
      "reconstruction_acc=68.89\n",
      "test_acc=47.4\n",
      "####################\n",
      "\n",
      "Creating matrix graph\n"
     ]
    },
    {
     "name": "stderr",
     "output_type": "stream",
     "text": [
      "100%|██████████| 1230/1230 [00:00<00:00, 79358.15it/s]\n"
     ]
    },
    {
     "name": "stdout",
     "output_type": "stream",
     "text": [
      "Creating oht label graph\n"
     ]
    },
    {
     "name": "stderr",
     "output_type": "stream",
     "text": [
      "100%|██████████| 2000/2000 [00:00<00:00, 2001099.24it/s]\n"
     ]
    },
    {
     "name": "stdout",
     "output_type": "stream",
     "text": [
      "Choosing the most present label\n",
      "Propagation labels\n"
     ]
    },
    {
     "name": "stderr",
     "output_type": "stream",
     "text": [
      "100%|██████████| 20/20 [00:00<00:00, 816.32it/s]\n"
     ]
    },
    {
     "name": "stdout",
     "output_type": "stream",
     "text": [
      "Converting to csr\n",
      "Remaping labels\n"
     ]
    },
    {
     "name": "stderr",
     "output_type": "stream",
     "text": [
      "100%|██████████| 2000/2000 [00:00<00:00, 3986980.99it/s]"
     ]
    },
    {
     "name": "stdout",
     "output_type": "stream",
     "text": [
      "Testing testing set accuracy\n"
     ]
    },
    {
     "name": "stderr",
     "output_type": "stream",
     "text": [
      "\n"
     ]
    },
    {
     "name": "stdout",
     "output_type": "stream",
     "text": [
      "Testing reconstruction accuracy\n",
      "\n",
      "####################\n",
      "cur_time()='3:15:30'\n",
      "k=4\n",
      "s=2000\n",
      "p=0.999\n",
      "reduction=1230\n",
      "reconstruction_acc=23.91\n",
      "test_acc=47.4\n",
      "####################\n",
      "\n",
      "Creating matrix graph\n"
     ]
    },
    {
     "name": "stderr",
     "output_type": "stream",
     "text": [
      "100%|██████████| 1230/1230 [00:00<00:00, 74562.71it/s]\n"
     ]
    },
    {
     "name": "stdout",
     "output_type": "stream",
     "text": [
      "Creating oht label graph\n"
     ]
    },
    {
     "name": "stderr",
     "output_type": "stream",
     "text": [
      "100%|██████████| 2000/2000 [00:00<00:00, 2001099.24it/s]\n"
     ]
    },
    {
     "name": "stdout",
     "output_type": "stream",
     "text": [
      "Choosing the most present label\n",
      "Propagation labels\n"
     ]
    },
    {
     "name": "stderr",
     "output_type": "stream",
     "text": [
      "100%|██████████| 20/20 [00:00<00:00, 283.69it/s]\n"
     ]
    },
    {
     "name": "stdout",
     "output_type": "stream",
     "text": [
      "Converting to csr\n",
      "Remaping labels\n"
     ]
    },
    {
     "name": "stderr",
     "output_type": "stream",
     "text": [
      "100%|██████████| 2000/2000 [00:00<00:00, 3986980.99it/s]"
     ]
    },
    {
     "name": "stdout",
     "output_type": "stream",
     "text": [
      "Testing testing set accuracy\n"
     ]
    },
    {
     "name": "stderr",
     "output_type": "stream",
     "text": [
      "\n"
     ]
    },
    {
     "name": "stdout",
     "output_type": "stream",
     "text": [
      "Testing reconstruction accuracy\n",
      "\n",
      "####################\n",
      "cur_time()='3:15:31'\n",
      "k=4\n",
      "s=2000\n",
      "p=0.9999\n",
      "reduction=1230\n",
      "reconstruction_acc=17.299999999999997\n",
      "test_acc=47.4\n",
      "####################\n",
      "\n",
      "Constructing knn graph\n"
     ]
    },
    {
     "name": "stderr",
     "output_type": "stream",
     "text": [
      "100%|██████████| 2000/2000 [00:00<00:00, 36035.86it/s]\n"
     ]
    },
    {
     "name": "stdout",
     "output_type": "stream",
     "text": [
      "Converting to csr\n",
      "Converting matrix to pygel using precomputed embedding\n",
      "Creating nodes\n"
     ]
    },
    {
     "name": "stderr",
     "output_type": "stream",
     "text": [
      "2000it [00:00, 250033.03it/s]\n"
     ]
    },
    {
     "name": "stdout",
     "output_type": "stream",
     "text": [
      "Connecting Nodes\n"
     ]
    },
    {
     "name": "stderr",
     "output_type": "stream",
     "text": [
      "100%|██████████| 38294/38294 [00:00<00:00, 1143244.29it/s]\n"
     ]
    },
    {
     "name": "stdout",
     "output_type": "stream",
     "text": [
      "Skeletonization has yielded 2000 -> 134 nodes\n",
      "Creating matrix graph\n"
     ]
    },
    {
     "name": "stderr",
     "output_type": "stream",
     "text": [
      "100%|██████████| 134/134 [00:00<00:00, 67060.82it/s]\n"
     ]
    },
    {
     "name": "stdout",
     "output_type": "stream",
     "text": [
      "Creating oht label graph\n"
     ]
    },
    {
     "name": "stderr",
     "output_type": "stream",
     "text": [
      "100%|██████████| 2000/2000 [00:00<00:00, 1332582.68it/s]\n"
     ]
    },
    {
     "name": "stdout",
     "output_type": "stream",
     "text": [
      "Choosing the most present label\n",
      "Propagation labels\n"
     ]
    },
    {
     "name": "stderr",
     "output_type": "stream",
     "text": [
      "100%|██████████| 20/20 [00:00<00:00, 2000.10it/s]\n"
     ]
    },
    {
     "name": "stdout",
     "output_type": "stream",
     "text": [
      "Converting to csr\n",
      "Remaping labels\n"
     ]
    },
    {
     "name": "stderr",
     "output_type": "stream",
     "text": [
      "100%|██████████| 2000/2000 [00:00<00:00, 2001099.24it/s]"
     ]
    },
    {
     "name": "stdout",
     "output_type": "stream",
     "text": [
      "Testing testing set accuracy\n"
     ]
    },
    {
     "name": "stderr",
     "output_type": "stream",
     "text": [
      "\n"
     ]
    },
    {
     "name": "stdout",
     "output_type": "stream",
     "text": [
      "Testing reconstruction accuracy\n",
      "\n",
      "####################\n",
      "cur_time()='3:15:31'\n",
      "k=16\n",
      "s=2000\n",
      "p=0.9\n",
      "reduction=134\n",
      "reconstruction_acc=76.77000000000001\n",
      "test_acc=47.4\n",
      "####################\n",
      "\n",
      "Creating matrix graph\n"
     ]
    },
    {
     "name": "stderr",
     "output_type": "stream",
     "text": [
      "100%|██████████| 134/134 [00:00<00:00, 67004.86it/s]\n"
     ]
    },
    {
     "name": "stdout",
     "output_type": "stream",
     "text": [
      "Creating oht label graph\n"
     ]
    },
    {
     "name": "stderr",
     "output_type": "stream",
     "text": [
      "100%|██████████| 2000/2000 [00:00<00:00, 2001576.71it/s]\n"
     ]
    },
    {
     "name": "stdout",
     "output_type": "stream",
     "text": [
      "Choosing the most present label\n",
      "Propagation labels\n"
     ]
    },
    {
     "name": "stderr",
     "output_type": "stream",
     "text": [
      "100%|██████████| 20/20 [00:00<00:00, 2216.16it/s]\n"
     ]
    },
    {
     "name": "stdout",
     "output_type": "stream",
     "text": [
      "Converting to csr\n",
      "Remaping labels\n"
     ]
    },
    {
     "name": "stderr",
     "output_type": "stream",
     "text": [
      "100%|██████████| 2000/2000 [00:00<00:00, 4006021.01it/s]"
     ]
    },
    {
     "name": "stdout",
     "output_type": "stream",
     "text": [
      "Testing testing set accuracy\n"
     ]
    },
    {
     "name": "stderr",
     "output_type": "stream",
     "text": [
      "\n"
     ]
    },
    {
     "name": "stdout",
     "output_type": "stream",
     "text": [
      "Testing reconstruction accuracy\n",
      "\n",
      "####################\n",
      "cur_time()='3:15:32'\n",
      "k=16\n",
      "s=2000\n",
      "p=0.99\n",
      "reduction=134\n",
      "reconstruction_acc=67.13\n",
      "test_acc=47.4\n",
      "####################\n",
      "\n",
      "Creating matrix graph\n"
     ]
    },
    {
     "name": "stderr",
     "output_type": "stream",
     "text": [
      "100%|██████████| 134/134 [00:00<00:00, 67036.82it/s]\n"
     ]
    },
    {
     "name": "stdout",
     "output_type": "stream",
     "text": [
      "Creating oht label graph\n"
     ]
    },
    {
     "name": "stderr",
     "output_type": "stream",
     "text": [
      "100%|██████████| 2000/2000 [00:00<00:00, 1992543.47it/s]\n"
     ]
    },
    {
     "name": "stdout",
     "output_type": "stream",
     "text": [
      "Choosing the most present label\n",
      "Propagation labels\n"
     ]
    },
    {
     "name": "stderr",
     "output_type": "stream",
     "text": [
      "100%|██████████| 20/20 [00:00<00:00, 2666.61it/s]\n"
     ]
    },
    {
     "name": "stdout",
     "output_type": "stream",
     "text": [
      "Converting to csr\n",
      "Remaping labels\n"
     ]
    },
    {
     "name": "stderr",
     "output_type": "stream",
     "text": [
      "100%|██████████| 2000/2000 [00:00<00:00, 4002198.47it/s]"
     ]
    },
    {
     "name": "stdout",
     "output_type": "stream",
     "text": [
      "Testing testing set accuracy\n"
     ]
    },
    {
     "name": "stderr",
     "output_type": "stream",
     "text": [
      "\n"
     ]
    },
    {
     "name": "stdout",
     "output_type": "stream",
     "text": [
      "Testing reconstruction accuracy\n",
      "\n",
      "####################\n",
      "cur_time()='3:15:32'\n",
      "k=16\n",
      "s=2000\n",
      "p=0.999\n",
      "reduction=134\n",
      "reconstruction_acc=17.71\n",
      "test_acc=47.4\n",
      "####################\n",
      "\n",
      "Creating matrix graph\n"
     ]
    },
    {
     "name": "stderr",
     "output_type": "stream",
     "text": [
      "100%|██████████| 134/134 [00:00<00:00, 67004.86it/s]\n"
     ]
    },
    {
     "name": "stdout",
     "output_type": "stream",
     "text": [
      "Creating oht label graph\n"
     ]
    },
    {
     "name": "stderr",
     "output_type": "stream",
     "text": [
      "100%|██████████| 2000/2000 [00:00<00:00, 1999668.18it/s]\n"
     ]
    },
    {
     "name": "stdout",
     "output_type": "stream",
     "text": [
      "Choosing the most present label\n",
      "Propagation labels\n"
     ]
    },
    {
     "name": "stderr",
     "output_type": "stream",
     "text": [
      "100%|██████████| 20/20 [00:00<00:00, 2222.21it/s]\n"
     ]
    },
    {
     "name": "stdout",
     "output_type": "stream",
     "text": [
      "Converting to csr\n",
      "Remaping labels\n"
     ]
    },
    {
     "name": "stderr",
     "output_type": "stream",
     "text": [
      "100%|██████████| 2000/2000 [00:00<00:00, 3996478.32it/s]"
     ]
    },
    {
     "name": "stdout",
     "output_type": "stream",
     "text": [
      "Testing testing set accuracy\n"
     ]
    },
    {
     "name": "stderr",
     "output_type": "stream",
     "text": [
      "\n"
     ]
    },
    {
     "name": "stdout",
     "output_type": "stream",
     "text": [
      "Testing reconstruction accuracy\n",
      "\n",
      "####################\n",
      "cur_time()='3:15:32'\n",
      "k=16\n",
      "s=2000\n",
      "p=0.9999\n",
      "reduction=134\n",
      "reconstruction_acc=12.540000000000001\n",
      "test_acc=47.4\n",
      "####################\n",
      "\n",
      "Constructing knn graph\n"
     ]
    },
    {
     "name": "stderr",
     "output_type": "stream",
     "text": [
      "100%|██████████| 2000/2000 [00:00<00:00, 34187.73it/s]\n"
     ]
    },
    {
     "name": "stdout",
     "output_type": "stream",
     "text": [
      "Converting to csr\n",
      "Converting matrix to pygel using precomputed embedding\n",
      "Creating nodes\n"
     ]
    },
    {
     "name": "stderr",
     "output_type": "stream",
     "text": [
      "2000it [00:00, 235304.57it/s]\n"
     ]
    },
    {
     "name": "stdout",
     "output_type": "stream",
     "text": [
      "Connecting Nodes\n"
     ]
    },
    {
     "name": "stderr",
     "output_type": "stream",
     "text": [
      "100%|██████████| 77012/77012 [00:00<00:00, 1124281.65it/s]\n"
     ]
    },
    {
     "name": "stdout",
     "output_type": "stream",
     "text": [
      "Skeletonization has yielded 2000 -> 43 nodes\n",
      "Creating matrix graph\n"
     ]
    },
    {
     "name": "stderr",
     "output_type": "stream",
     "text": [
      "100%|██████████| 43/43 [00:00<00:00, 86006.23it/s]\n"
     ]
    },
    {
     "name": "stdout",
     "output_type": "stream",
     "text": [
      "Creating oht label graph\n"
     ]
    },
    {
     "name": "stderr",
     "output_type": "stream",
     "text": [
      "100%|██████████| 2000/2000 [00:00<00:00, 2005404.73it/s]\n"
     ]
    },
    {
     "name": "stdout",
     "output_type": "stream",
     "text": [
      "Choosing the most present label\n",
      "Propagation labels\n"
     ]
    },
    {
     "name": "stderr",
     "output_type": "stream",
     "text": [
      "100%|██████████| 20/20 [00:00<00:00, 3079.07it/s]\n"
     ]
    },
    {
     "name": "stdout",
     "output_type": "stream",
     "text": [
      "Converting to csr\n",
      "Remaping labels\n"
     ]
    },
    {
     "name": "stderr",
     "output_type": "stream",
     "text": [
      "100%|██████████| 2000/2000 [00:00<00:00, 4013688.04it/s]"
     ]
    },
    {
     "name": "stdout",
     "output_type": "stream",
     "text": [
      "Testing testing set accuracy\n"
     ]
    },
    {
     "name": "stderr",
     "output_type": "stream",
     "text": [
      "\n"
     ]
    },
    {
     "name": "stdout",
     "output_type": "stream",
     "text": [
      "Testing reconstruction accuracy\n",
      "\n",
      "####################\n",
      "cur_time()='3:15:34'\n",
      "k=32\n",
      "s=2000\n",
      "p=0.9\n",
      "reduction=43\n",
      "reconstruction_acc=73.24000000000001\n",
      "test_acc=47.4\n",
      "####################\n",
      "\n",
      "Creating matrix graph\n"
     ]
    },
    {
     "name": "stderr",
     "output_type": "stream",
     "text": [
      "100%|██████████| 43/43 [00:00<00:00, 42921.25it/s]\n"
     ]
    },
    {
     "name": "stdout",
     "output_type": "stream",
     "text": [
      "Creating oht label graph\n"
     ]
    },
    {
     "name": "stderr",
     "output_type": "stream",
     "text": [
      "100%|██████████| 2000/2000 [00:00<00:00, 2001576.71it/s]\n"
     ]
    },
    {
     "name": "stdout",
     "output_type": "stream",
     "text": [
      "Choosing the most present label\n",
      "Propagation labels\n"
     ]
    },
    {
     "name": "stderr",
     "output_type": "stream",
     "text": [
      "100%|██████████| 20/20 [00:00<00:00, 1904.90it/s]\n"
     ]
    },
    {
     "name": "stdout",
     "output_type": "stream",
     "text": [
      "Converting to csr\n",
      "Remaping labels\n"
     ]
    },
    {
     "name": "stderr",
     "output_type": "stream",
     "text": [
      "100%|██████████| 2000/2000 [00:00<00:00, 2002532.35it/s]"
     ]
    },
    {
     "name": "stdout",
     "output_type": "stream",
     "text": [
      "Testing testing set accuracy\n"
     ]
    },
    {
     "name": "stderr",
     "output_type": "stream",
     "text": [
      "\n"
     ]
    },
    {
     "name": "stdout",
     "output_type": "stream",
     "text": [
      "Testing reconstruction accuracy\n",
      "\n",
      "####################\n",
      "cur_time()='3:15:34'\n",
      "k=32\n",
      "s=2000\n",
      "p=0.99\n",
      "reduction=43\n",
      "reconstruction_acc=64.8\n",
      "test_acc=47.4\n",
      "####################\n",
      "\n",
      "Creating matrix graph\n"
     ]
    },
    {
     "name": "stderr",
     "output_type": "stream",
     "text": [
      "100%|██████████| 43/43 [00:00<00:00, 85883.37it/s]\n"
     ]
    },
    {
     "name": "stdout",
     "output_type": "stream",
     "text": [
      "Creating oht label graph\n"
     ]
    },
    {
     "name": "stderr",
     "output_type": "stream",
     "text": [
      "100%|██████████| 2000/2000 [00:00<00:00, 2000144.97it/s]\n"
     ]
    },
    {
     "name": "stdout",
     "output_type": "stream",
     "text": [
      "Choosing the most present label\n",
      "Propagation labels\n"
     ]
    },
    {
     "name": "stderr",
     "output_type": "stream",
     "text": [
      "100%|██████████| 20/20 [00:00<00:00, 2857.35it/s]\n"
     ]
    },
    {
     "name": "stdout",
     "output_type": "stream",
     "text": [
      "Converting to csr\n",
      "Remaping labels\n"
     ]
    },
    {
     "name": "stderr",
     "output_type": "stream",
     "text": [
      "100%|██████████| 2000/2000 [00:00<00:00, 2001099.24it/s]"
     ]
    },
    {
     "name": "stdout",
     "output_type": "stream",
     "text": [
      "Testing testing set accuracy\n"
     ]
    },
    {
     "name": "stderr",
     "output_type": "stream",
     "text": [
      "\n"
     ]
    },
    {
     "name": "stdout",
     "output_type": "stream",
     "text": [
      "Testing reconstruction accuracy\n",
      "\n",
      "####################\n",
      "cur_time()='3:15:35'\n",
      "k=32\n",
      "s=2000\n",
      "p=0.999\n",
      "reduction=43\n",
      "reconstruction_acc=17.22\n",
      "test_acc=47.4\n",
      "####################\n",
      "\n",
      "Creating matrix graph\n"
     ]
    },
    {
     "name": "stderr",
     "output_type": "stream",
     "text": [
      "100%|██████████| 43/43 [00:00<00:00, 43044.17it/s]\n"
     ]
    },
    {
     "name": "stdout",
     "output_type": "stream",
     "text": [
      "Creating oht label graph\n"
     ]
    },
    {
     "name": "stderr",
     "output_type": "stream",
     "text": [
      "100%|██████████| 2000/2000 [00:00<00:00, 2001576.71it/s]\n"
     ]
    },
    {
     "name": "stdout",
     "output_type": "stream",
     "text": [
      "Choosing the most present label\n",
      "Propagation labels\n"
     ]
    },
    {
     "name": "stderr",
     "output_type": "stream",
     "text": [
      "100%|██████████| 20/20 [00:00<00:00, 2669.58it/s]\n"
     ]
    },
    {
     "name": "stdout",
     "output_type": "stream",
     "text": [
      "Converting to csr\n",
      "Remaping labels\n"
     ]
    },
    {
     "name": "stderr",
     "output_type": "stream",
     "text": [
      "100%|██████████| 2000/2000 [00:00<00:00, 2002532.35it/s]"
     ]
    },
    {
     "name": "stdout",
     "output_type": "stream",
     "text": [
      "Testing testing set accuracy\n"
     ]
    },
    {
     "name": "stderr",
     "output_type": "stream",
     "text": [
      "\n"
     ]
    },
    {
     "name": "stdout",
     "output_type": "stream",
     "text": [
      "Testing reconstruction accuracy\n",
      "\n",
      "####################\n",
      "cur_time()='3:15:35'\n",
      "k=32\n",
      "s=2000\n",
      "p=0.9999\n",
      "reduction=43\n",
      "reconstruction_acc=10.32\n",
      "test_acc=47.4\n",
      "####################\n",
      "\n",
      "\n",
      "#Calculating distances#\n",
      "\n",
      "Constructing knn graph\n"
     ]
    },
    {
     "name": "stderr",
     "output_type": "stream",
     "text": [
      "100%|██████████| 4000/4000 [00:00<00:00, 37558.55it/s]\n"
     ]
    },
    {
     "name": "stdout",
     "output_type": "stream",
     "text": [
      "Converting to csr\n",
      "Converting matrix to pygel using precomputed embedding\n",
      "Creating nodes\n"
     ]
    },
    {
     "name": "stderr",
     "output_type": "stream",
     "text": [
      "4000it [00:00, 235284.77it/s]\n"
     ]
    },
    {
     "name": "stdout",
     "output_type": "stream",
     "text": [
      "Connecting Nodes\n"
     ]
    },
    {
     "name": "stderr",
     "output_type": "stream",
     "text": [
      "100%|██████████| 16376/16376 [00:00<00:00, 1023452.17it/s]\n"
     ]
    },
    {
     "name": "stdout",
     "output_type": "stream",
     "text": [
      "Skeletonization has yielded 4000 -> 2839 nodes\n",
      "Creating matrix graph\n"
     ]
    },
    {
     "name": "stderr",
     "output_type": "stream",
     "text": [
      "100%|██████████| 2839/2839 [00:00<00:00, 78859.52it/s]\n"
     ]
    },
    {
     "name": "stdout",
     "output_type": "stream",
     "text": [
      "Creating oht label graph\n"
     ]
    },
    {
     "name": "stderr",
     "output_type": "stream",
     "text": [
      "100%|██████████| 4000/4000 [00:00<00:00, 1599048.42it/s]\n"
     ]
    },
    {
     "name": "stdout",
     "output_type": "stream",
     "text": [
      "Choosing the most present label\n",
      "Propagation labels\n"
     ]
    },
    {
     "name": "stderr",
     "output_type": "stream",
     "text": [
      "100%|██████████| 20/20 [00:00<00:00, 192.30it/s]\n"
     ]
    },
    {
     "name": "stdout",
     "output_type": "stream",
     "text": [
      "Converting to csr\n",
      "Remaping labels\n"
     ]
    },
    {
     "name": "stderr",
     "output_type": "stream",
     "text": [
      "100%|██████████| 4000/4000 [00:00<00:00, 2667283.94it/s]\n"
     ]
    },
    {
     "name": "stdout",
     "output_type": "stream",
     "text": [
      "Testing testing set accuracy\n",
      "Testing reconstruction accuracy\n",
      "\n",
      "####################\n",
      "cur_time()='3:15:48'\n",
      "k=4\n",
      "s=4000\n",
      "p=0.9\n",
      "reduction=2839\n",
      "reconstruction_acc=86.22999999999999\n",
      "test_acc=47.4\n",
      "####################\n",
      "\n",
      "Creating matrix graph\n"
     ]
    },
    {
     "name": "stderr",
     "output_type": "stream",
     "text": [
      "100%|██████████| 2839/2839 [00:00<00:00, 78854.29it/s]\n"
     ]
    },
    {
     "name": "stdout",
     "output_type": "stream",
     "text": [
      "Creating oht label graph\n"
     ]
    },
    {
     "name": "stderr",
     "output_type": "stream",
     "text": [
      "100%|██████████| 4000/4000 [00:00<00:00, 2664742.06it/s]\n"
     ]
    },
    {
     "name": "stdout",
     "output_type": "stream",
     "text": [
      "Choosing the most present label\n",
      "Propagation labels\n"
     ]
    },
    {
     "name": "stderr",
     "output_type": "stream",
     "text": [
      "100%|██████████| 20/20 [00:00<00:00, 206.19it/s]\n"
     ]
    },
    {
     "name": "stdout",
     "output_type": "stream",
     "text": [
      "Converting to csr\n",
      "Remaping labels\n"
     ]
    },
    {
     "name": "stderr",
     "output_type": "stream",
     "text": [
      "100%|██████████| 4000/4000 [00:00<00:00, 2663472.93it/s]\n"
     ]
    },
    {
     "name": "stdout",
     "output_type": "stream",
     "text": [
      "Testing testing set accuracy\n",
      "Testing reconstruction accuracy\n",
      "\n",
      "####################\n",
      "cur_time()='3:15:48'\n",
      "k=4\n",
      "s=4000\n",
      "p=0.99\n",
      "reduction=2839\n",
      "reconstruction_acc=73.95\n",
      "test_acc=47.4\n",
      "####################\n",
      "\n",
      "Creating matrix graph\n"
     ]
    },
    {
     "name": "stderr",
     "output_type": "stream",
     "text": [
      "100%|██████████| 2839/2839 [00:00<00:00, 78866.30it/s]\n"
     ]
    },
    {
     "name": "stdout",
     "output_type": "stream",
     "text": [
      "Creating oht label graph\n"
     ]
    },
    {
     "name": "stderr",
     "output_type": "stream",
     "text": [
      "100%|██████████| 4000/4000 [00:00<00:00, 1997763.28it/s]\n"
     ]
    },
    {
     "name": "stdout",
     "output_type": "stream",
     "text": [
      "Choosing the most present label\n",
      "Propagation labels\n"
     ]
    },
    {
     "name": "stderr",
     "output_type": "stream",
     "text": [
      "100%|██████████| 20/20 [00:00<00:00, 144.40it/s]\n"
     ]
    },
    {
     "name": "stdout",
     "output_type": "stream",
     "text": [
      "Converting to csr\n",
      "Remaping labels\n"
     ]
    },
    {
     "name": "stderr",
     "output_type": "stream",
     "text": [
      "100%|██████████| 4000/4000 [00:00<00:00, 2667708.06it/s]\n"
     ]
    },
    {
     "name": "stdout",
     "output_type": "stream",
     "text": [
      "Testing testing set accuracy\n",
      "Testing reconstruction accuracy\n",
      "\n",
      "####################\n",
      "cur_time()='3:15:49'\n",
      "k=4\n",
      "s=4000\n",
      "p=0.999\n",
      "reduction=2839\n",
      "reconstruction_acc=24.169999999999998\n",
      "test_acc=47.4\n",
      "####################\n",
      "\n",
      "Creating matrix graph\n"
     ]
    },
    {
     "name": "stderr",
     "output_type": "stream",
     "text": [
      "100%|██████████| 2839/2839 [00:00<00:00, 78872.05it/s]\n"
     ]
    },
    {
     "name": "stdout",
     "output_type": "stream",
     "text": [
      "Creating oht label graph\n"
     ]
    },
    {
     "name": "stderr",
     "output_type": "stream",
     "text": [
      "100%|██████████| 4000/4000 [00:00<00:00, 1998953.41it/s]\n"
     ]
    },
    {
     "name": "stdout",
     "output_type": "stream",
     "text": [
      "Choosing the most present label\n",
      "Propagation labels\n"
     ]
    },
    {
     "name": "stderr",
     "output_type": "stream",
     "text": [
      "100%|██████████| 20/20 [00:00<00:00, 215.06it/s]\n"
     ]
    },
    {
     "name": "stdout",
     "output_type": "stream",
     "text": [
      "Converting to csr\n",
      "Remaping labels\n"
     ]
    },
    {
     "name": "stderr",
     "output_type": "stream",
     "text": [
      "100%|██████████| 4000/4000 [00:00<00:00, 2667283.94it/s]\n"
     ]
    },
    {
     "name": "stdout",
     "output_type": "stream",
     "text": [
      "Testing testing set accuracy\n",
      "Testing reconstruction accuracy\n",
      "\n",
      "####################\n",
      "cur_time()='3:15:50'\n",
      "k=4\n",
      "s=4000\n",
      "p=0.9999\n",
      "reduction=2839\n",
      "reconstruction_acc=12.139999999999999\n",
      "test_acc=47.4\n",
      "####################\n",
      "\n",
      "Constructing knn graph\n"
     ]
    },
    {
     "name": "stderr",
     "output_type": "stream",
     "text": [
      "100%|██████████| 4000/4000 [00:00<00:00, 34632.90it/s]"
     ]
    },
    {
     "name": "stdout",
     "output_type": "stream",
     "text": [
      "Converting to csr\n",
      "Converting matrix to pygel using precomputed embedding\n"
     ]
    },
    {
     "name": "stderr",
     "output_type": "stream",
     "text": [
      "\n"
     ]
    },
    {
     "name": "stdout",
     "output_type": "stream",
     "text": [
      "Creating nodes\n"
     ]
    },
    {
     "name": "stderr",
     "output_type": "stream",
     "text": [
      "4000it [00:00, 235311.17it/s]\n"
     ]
    },
    {
     "name": "stdout",
     "output_type": "stream",
     "text": [
      "Connecting Nodes\n"
     ]
    },
    {
     "name": "stderr",
     "output_type": "stream",
     "text": [
      "100%|██████████| 77156/77156 [00:00<00:00, 1118225.99it/s]\n"
     ]
    },
    {
     "name": "stdout",
     "output_type": "stream",
     "text": [
      "Skeletonization has yielded 4000 -> 144 nodes\n",
      "Creating matrix graph\n"
     ]
    },
    {
     "name": "stderr",
     "output_type": "stream",
     "text": [
      "100%|██████████| 144/144 [00:00<00:00, 72065.36it/s]\n"
     ]
    },
    {
     "name": "stdout",
     "output_type": "stream",
     "text": [
      "Creating oht label graph\n"
     ]
    },
    {
     "name": "stderr",
     "output_type": "stream",
     "text": [
      "100%|██████████| 4000/4000 [00:00<00:00, 1334702.94it/s]\n"
     ]
    },
    {
     "name": "stdout",
     "output_type": "stream",
     "text": [
      "Choosing the most present label\n",
      "Propagation labels\n"
     ]
    },
    {
     "name": "stderr",
     "output_type": "stream",
     "text": [
      "100%|██████████| 20/20 [00:00<00:00, 1666.95it/s]\n"
     ]
    },
    {
     "name": "stdout",
     "output_type": "stream",
     "text": [
      "Converting to csr\n",
      "Remaping labels\n"
     ]
    },
    {
     "name": "stderr",
     "output_type": "stream",
     "text": [
      "100%|██████████| 4000/4000 [00:00<00:00, 2676645.82it/s]"
     ]
    },
    {
     "name": "stdout",
     "output_type": "stream",
     "text": [
      "Testing testing set accuracy\n"
     ]
    },
    {
     "name": "stderr",
     "output_type": "stream",
     "text": [
      "\n"
     ]
    },
    {
     "name": "stdout",
     "output_type": "stream",
     "text": [
      "Testing reconstruction accuracy\n",
      "\n",
      "####################\n",
      "cur_time()='3:15:51'\n",
      "k=16\n",
      "s=4000\n",
      "p=0.9\n",
      "reduction=144\n",
      "reconstruction_acc=84.75\n",
      "test_acc=47.4\n",
      "####################\n",
      "\n",
      "Creating matrix graph\n"
     ]
    },
    {
     "name": "stderr",
     "output_type": "stream",
     "text": [
      "100%|██████████| 144/144 [00:00<00:00, 96022.22it/s]\n"
     ]
    },
    {
     "name": "stdout",
     "output_type": "stream",
     "text": [
      "Creating oht label graph\n"
     ]
    },
    {
     "name": "stderr",
     "output_type": "stream",
     "text": [
      "100%|██████████| 4000/4000 [00:00<00:00, 2001337.95it/s]\n"
     ]
    },
    {
     "name": "stdout",
     "output_type": "stream",
     "text": [
      "Choosing the most present label\n",
      "Propagation labels\n"
     ]
    },
    {
     "name": "stderr",
     "output_type": "stream",
     "text": [
      "100%|██████████| 20/20 [00:00<00:00, 1999.95it/s]\n"
     ]
    },
    {
     "name": "stdout",
     "output_type": "stream",
     "text": [
      "Converting to csr\n",
      "Remaping labels\n"
     ]
    },
    {
     "name": "stderr",
     "output_type": "stream",
     "text": [
      "100%|██████████| 4000/4000 [00:00<00:00, 2668556.70it/s]"
     ]
    },
    {
     "name": "stdout",
     "output_type": "stream",
     "text": [
      "Testing testing set accuracy\n"
     ]
    },
    {
     "name": "stderr",
     "output_type": "stream",
     "text": [
      "\n"
     ]
    },
    {
     "name": "stdout",
     "output_type": "stream",
     "text": [
      "Testing reconstruction accuracy\n",
      "\n",
      "####################\n",
      "cur_time()='3:15:52'\n",
      "k=16\n",
      "s=4000\n",
      "p=0.99\n",
      "reduction=144\n",
      "reconstruction_acc=76.77000000000001\n",
      "test_acc=47.4\n",
      "####################\n",
      "\n",
      "Creating matrix graph\n"
     ]
    },
    {
     "name": "stderr",
     "output_type": "stream",
     "text": [
      "100%|██████████| 144/144 [00:00<00:00, 71988.05it/s]\n"
     ]
    },
    {
     "name": "stdout",
     "output_type": "stream",
     "text": [
      "Creating oht label graph\n"
     ]
    },
    {
     "name": "stderr",
     "output_type": "stream",
     "text": [
      "100%|██████████| 4000/4000 [00:00<00:00, 2666012.39it/s]\n"
     ]
    },
    {
     "name": "stdout",
     "output_type": "stream",
     "text": [
      "Choosing the most present label\n",
      "Propagation labels\n"
     ]
    },
    {
     "name": "stderr",
     "output_type": "stream",
     "text": [
      "100%|██████████| 20/20 [00:00<00:00, 2353.18it/s]\n"
     ]
    },
    {
     "name": "stdout",
     "output_type": "stream",
     "text": [
      "Converting to csr\n",
      "Remaping labels\n"
     ]
    },
    {
     "name": "stderr",
     "output_type": "stream",
     "text": [
      "100%|██████████| 4000/4000 [00:00<00:00, 2668556.70it/s]"
     ]
    },
    {
     "name": "stdout",
     "output_type": "stream",
     "text": [
      "Testing testing set accuracy\n"
     ]
    },
    {
     "name": "stderr",
     "output_type": "stream",
     "text": [
      "\n"
     ]
    },
    {
     "name": "stdout",
     "output_type": "stream",
     "text": [
      "Testing reconstruction accuracy\n",
      "\n",
      "####################\n",
      "cur_time()='3:15:52'\n",
      "k=16\n",
      "s=4000\n",
      "p=0.999\n",
      "reduction=144\n",
      "reconstruction_acc=37.87\n",
      "test_acc=47.4\n",
      "####################\n",
      "\n",
      "Creating matrix graph\n"
     ]
    },
    {
     "name": "stderr",
     "output_type": "stream",
     "text": [
      "100%|██████████| 144/144 [00:00<00:00, 57598.68it/s]\n"
     ]
    },
    {
     "name": "stdout",
     "output_type": "stream",
     "text": [
      "Creating oht label graph\n"
     ]
    },
    {
     "name": "stderr",
     "output_type": "stream",
     "text": [
      "100%|██████████| 4000/4000 [00:00<00:00, 2677927.53it/s]\n"
     ]
    },
    {
     "name": "stdout",
     "output_type": "stream",
     "text": [
      "Choosing the most present label\n",
      "Propagation labels\n"
     ]
    },
    {
     "name": "stderr",
     "output_type": "stream",
     "text": [
      "100%|██████████| 20/20 [00:00<00:00, 2500.55it/s]\n"
     ]
    },
    {
     "name": "stdout",
     "output_type": "stream",
     "text": [
      "Converting to csr\n",
      "Remaping labels\n"
     ]
    },
    {
     "name": "stderr",
     "output_type": "stream",
     "text": [
      "100%|██████████| 4000/4000 [00:00<00:00, 2667283.94it/s]"
     ]
    },
    {
     "name": "stdout",
     "output_type": "stream",
     "text": [
      "Testing testing set accuracy\n"
     ]
    },
    {
     "name": "stderr",
     "output_type": "stream",
     "text": [
      "\n"
     ]
    },
    {
     "name": "stdout",
     "output_type": "stream",
     "text": [
      "Testing reconstruction accuracy\n",
      "\n",
      "####################\n",
      "cur_time()='3:15:53'\n",
      "k=16\n",
      "s=4000\n",
      "p=0.9999\n",
      "reduction=144\n",
      "reconstruction_acc=19.34\n",
      "test_acc=47.4\n",
      "####################\n",
      "\n",
      "Constructing knn graph\n"
     ]
    },
    {
     "name": "stderr",
     "output_type": "stream",
     "text": [
      "100%|██████████| 4000/4000 [00:00<00:00, 33472.16it/s]"
     ]
    },
    {
     "name": "stdout",
     "output_type": "stream",
     "text": [
      "Converting to csr\n"
     ]
    },
    {
     "name": "stderr",
     "output_type": "stream",
     "text": [
      "\n"
     ]
    },
    {
     "name": "stdout",
     "output_type": "stream",
     "text": [
      "Converting matrix to pygel using precomputed embedding\n",
      "Creating nodes\n"
     ]
    },
    {
     "name": "stderr",
     "output_type": "stream",
     "text": [
      "4000it [00:00, 235264.98it/s]\n"
     ]
    },
    {
     "name": "stdout",
     "output_type": "stream",
     "text": [
      "Connecting Nodes\n"
     ]
    },
    {
     "name": "stderr",
     "output_type": "stream",
     "text": [
      "100%|██████████| 155280/155280 [00:00<00:00, 1129357.66it/s]\n"
     ]
    },
    {
     "name": "stdout",
     "output_type": "stream",
     "text": [
      "Skeletonization has yielded 4000 -> 41 nodes\n",
      "Creating matrix graph\n"
     ]
    },
    {
     "name": "stderr",
     "output_type": "stream",
     "text": [
      "100%|██████████| 41/41 [00:00<00:00, 82084.23it/s]\n"
     ]
    },
    {
     "name": "stdout",
     "output_type": "stream",
     "text": [
      "Creating oht label graph\n"
     ]
    },
    {
     "name": "stderr",
     "output_type": "stream",
     "text": [
      "100%|██████████| 4000/4000 [00:00<00:00, 1601032.16it/s]\n"
     ]
    },
    {
     "name": "stdout",
     "output_type": "stream",
     "text": [
      "Choosing the most present label\n",
      "Propagation labels\n"
     ]
    },
    {
     "name": "stderr",
     "output_type": "stream",
     "text": [
      "100%|██████████| 20/20 [00:00<00:00, 2855.50it/s]\n"
     ]
    },
    {
     "name": "stdout",
     "output_type": "stream",
     "text": [
      "Converting to csr\n",
      "Remaping labels\n"
     ]
    },
    {
     "name": "stderr",
     "output_type": "stream",
     "text": [
      "100%|██████████| 4000/4000 [00:00<00:00, 1998953.41it/s]"
     ]
    },
    {
     "name": "stdout",
     "output_type": "stream",
     "text": [
      "Testing testing set accuracy\n"
     ]
    },
    {
     "name": "stderr",
     "output_type": "stream",
     "text": [
      "\n"
     ]
    },
    {
     "name": "stdout",
     "output_type": "stream",
     "text": [
      "Testing reconstruction accuracy\n",
      "\n",
      "####################\n",
      "cur_time()='3:15:58'\n",
      "k=32\n",
      "s=4000\n",
      "p=0.9\n",
      "reduction=41\n",
      "reconstruction_acc=78.48\n",
      "test_acc=47.4\n",
      "####################\n",
      "\n",
      "Creating matrix graph\n"
     ]
    },
    {
     "name": "stderr",
     "output_type": "stream",
     "text": [
      "100%|██████████| 41/41 [00:00<00:00, 81771.98it/s]\n"
     ]
    },
    {
     "name": "stdout",
     "output_type": "stream",
     "text": [
      "Creating oht label graph\n"
     ]
    },
    {
     "name": "stderr",
     "output_type": "stream",
     "text": [
      "100%|██████████| 4000/4000 [00:00<00:00, 2666436.11it/s]\n"
     ]
    },
    {
     "name": "stdout",
     "output_type": "stream",
     "text": [
      "Choosing the most present label\n",
      "Propagation labels\n"
     ]
    },
    {
     "name": "stderr",
     "output_type": "stream",
     "text": [
      "100%|██████████| 20/20 [00:00<00:00, 3077.48it/s]\n"
     ]
    },
    {
     "name": "stdout",
     "output_type": "stream",
     "text": [
      "Converting to csr\n",
      "Remaping labels\n"
     ]
    },
    {
     "name": "stderr",
     "output_type": "stream",
     "text": [
      "100%|██████████| 4000/4000 [00:00<00:00, 4002198.47it/s]"
     ]
    },
    {
     "name": "stdout",
     "output_type": "stream",
     "text": [
      "Testing testing set accuracy\n"
     ]
    },
    {
     "name": "stderr",
     "output_type": "stream",
     "text": [
      "\n"
     ]
    },
    {
     "name": "stdout",
     "output_type": "stream",
     "text": [
      "Testing reconstruction accuracy\n",
      "\n",
      "####################\n",
      "cur_time()='3:15:59'\n",
      "k=32\n",
      "s=4000\n",
      "p=0.99\n",
      "reduction=41\n",
      "reconstruction_acc=72.37\n",
      "test_acc=47.4\n",
      "####################\n",
      "\n",
      "Creating matrix graph\n"
     ]
    },
    {
     "name": "stderr",
     "output_type": "stream",
     "text": [
      "100%|██████████| 41/41 [00:00<00:00, 41051.91it/s]\n"
     ]
    },
    {
     "name": "stdout",
     "output_type": "stream",
     "text": [
      "Creating oht label graph\n"
     ]
    },
    {
     "name": "stderr",
     "output_type": "stream",
     "text": [
      "100%|██████████| 4000/4000 [00:00<00:00, 2675792.03it/s]\n"
     ]
    },
    {
     "name": "stdout",
     "output_type": "stream",
     "text": [
      "Choosing the most present label\n",
      "Propagation labels\n"
     ]
    },
    {
     "name": "stderr",
     "output_type": "stream",
     "text": [
      "100%|██████████| 20/20 [00:00<00:00, 1818.16it/s]\n"
     ]
    },
    {
     "name": "stdout",
     "output_type": "stream",
     "text": [
      "Converting to csr\n",
      "Remaping labels\n"
     ]
    },
    {
     "name": "stderr",
     "output_type": "stream",
     "text": [
      "100%|██████████| 4000/4000 [00:00<00:00, 2000860.58it/s]"
     ]
    },
    {
     "name": "stdout",
     "output_type": "stream",
     "text": [
      "Testing testing set accuracy\n"
     ]
    },
    {
     "name": "stderr",
     "output_type": "stream",
     "text": [
      "\n"
     ]
    },
    {
     "name": "stdout",
     "output_type": "stream",
     "text": [
      "Testing reconstruction accuracy\n",
      "\n",
      "####################\n",
      "cur_time()='3:15:59'\n",
      "k=32\n",
      "s=4000\n",
      "p=0.999\n",
      "reduction=41\n",
      "reconstruction_acc=37.65\n",
      "test_acc=47.4\n",
      "####################\n",
      "\n",
      "Creating matrix graph\n"
     ]
    },
    {
     "name": "stderr",
     "output_type": "stream",
     "text": [
      "100%|██████████| 41/41 [00:00<00:00, 41012.75it/s]\n"
     ]
    },
    {
     "name": "stdout",
     "output_type": "stream",
     "text": [
      "Creating oht label graph\n"
     ]
    },
    {
     "name": "stderr",
     "output_type": "stream",
     "text": [
      "100%|██████████| 4000/4000 [00:00<00:00, 2667283.94it/s]\n"
     ]
    },
    {
     "name": "stdout",
     "output_type": "stream",
     "text": [
      "Choosing the most present label\n",
      "Propagation labels\n"
     ]
    },
    {
     "name": "stderr",
     "output_type": "stream",
     "text": [
      "100%|██████████| 20/20 [00:00<00:00, 3076.92it/s]\n"
     ]
    },
    {
     "name": "stdout",
     "output_type": "stream",
     "text": [
      "Converting to csr\n",
      "Remaping labels\n"
     ]
    },
    {
     "name": "stderr",
     "output_type": "stream",
     "text": [
      "100%|██████████| 4000/4000 [00:00<00:00, 1999668.18it/s]"
     ]
    },
    {
     "name": "stdout",
     "output_type": "stream",
     "text": [
      "Testing testing set accuracy\n"
     ]
    },
    {
     "name": "stderr",
     "output_type": "stream",
     "text": [
      "\n"
     ]
    },
    {
     "name": "stdout",
     "output_type": "stream",
     "text": [
      "Testing reconstruction accuracy\n",
      "\n",
      "####################\n",
      "cur_time()='3:16:0'\n",
      "k=32\n",
      "s=4000\n",
      "p=0.9999\n",
      "reduction=41\n",
      "reconstruction_acc=19.28\n",
      "test_acc=47.4\n",
      "####################\n",
      "\n",
      "\n",
      "#Calculating distances#\n",
      "\n",
      "Constructing knn graph\n"
     ]
    },
    {
     "name": "stderr",
     "output_type": "stream",
     "text": [
      "100%|██████████| 8000/8000 [00:00<00:00, 35397.88it/s]\n"
     ]
    },
    {
     "name": "stdout",
     "output_type": "stream",
     "text": [
      "Converting to csr\n",
      "Converting matrix to pygel using precomputed embedding\n",
      "Creating nodes\n"
     ]
    },
    {
     "name": "stderr",
     "output_type": "stream",
     "text": [
      "8000it [00:00, 242455.83it/s]\n"
     ]
    },
    {
     "name": "stdout",
     "output_type": "stream",
     "text": [
      "Connecting Nodes\n"
     ]
    },
    {
     "name": "stderr",
     "output_type": "stream",
     "text": [
      "100%|██████████| 32456/32456 [00:00<00:00, 1202044.44it/s]\n"
     ]
    },
    {
     "name": "stdout",
     "output_type": "stream",
     "text": [
      "Skeletonization has yielded 8000 -> 6039 nodes\n",
      "Creating matrix graph\n"
     ]
    },
    {
     "name": "stderr",
     "output_type": "stream",
     "text": [
      "100%|██████████| 6039/6039 [00:00<00:00, 75019.40it/s]\n"
     ]
    },
    {
     "name": "stdout",
     "output_type": "stream",
     "text": [
      "Creating oht label graph\n"
     ]
    },
    {
     "name": "stderr",
     "output_type": "stream",
     "text": [
      "100%|██████████| 8000/8000 [00:00<00:00, 1454461.73it/s]"
     ]
    },
    {
     "name": "stdout",
     "output_type": "stream",
     "text": [
      "Choosing the most present label\n"
     ]
    },
    {
     "name": "stderr",
     "output_type": "stream",
     "text": [
      "\n"
     ]
    },
    {
     "name": "stdout",
     "output_type": "stream",
     "text": [
      "Propagation labels\n"
     ]
    },
    {
     "name": "stderr",
     "output_type": "stream",
     "text": [
      "100%|██████████| 20/20 [00:00<00:00, 78.74it/s]\n"
     ]
    },
    {
     "name": "stdout",
     "output_type": "stream",
     "text": [
      "Converting to csr\n",
      "Remaping labels\n"
     ]
    },
    {
     "name": "stderr",
     "output_type": "stream",
     "text": [
      "100%|██████████| 8000/8000 [00:00<00:00, 2667071.93it/s]\n"
     ]
    },
    {
     "name": "stdout",
     "output_type": "stream",
     "text": [
      "Testing testing set accuracy\n",
      "Testing reconstruction accuracy\n",
      "\n",
      "####################\n",
      "cur_time()='3:16:31'\n",
      "k=4\n",
      "s=8000\n",
      "p=0.9\n",
      "reduction=6039\n",
      "reconstruction_acc=90.56\n",
      "test_acc=47.4\n",
      "####################\n",
      "\n",
      "Creating matrix graph\n"
     ]
    },
    {
     "name": "stderr",
     "output_type": "stream",
     "text": [
      "100%|██████████| 6039/6039 [00:00<00:00, 74098.54it/s]\n"
     ]
    },
    {
     "name": "stdout",
     "output_type": "stream",
     "text": [
      "Creating oht label graph\n"
     ]
    },
    {
     "name": "stderr",
     "output_type": "stream",
     "text": [
      "100%|██████████| 8000/8000 [00:00<00:00, 2284323.78it/s]"
     ]
    },
    {
     "name": "stdout",
     "output_type": "stream",
     "text": [
      "Choosing the most present label\n"
     ]
    },
    {
     "name": "stderr",
     "output_type": "stream",
     "text": [
      "\n"
     ]
    },
    {
     "name": "stdout",
     "output_type": "stream",
     "text": [
      "Propagation labels\n"
     ]
    },
    {
     "name": "stderr",
     "output_type": "stream",
     "text": [
      "100%|██████████| 20/20 [00:00<00:00, 99.01it/s] \n"
     ]
    },
    {
     "name": "stdout",
     "output_type": "stream",
     "text": [
      "Converting to csr\n",
      "Remaping labels\n"
     ]
    },
    {
     "name": "stderr",
     "output_type": "stream",
     "text": [
      "100%|██████████| 8000/8000 [00:00<00:00, 2667283.94it/s]\n"
     ]
    },
    {
     "name": "stdout",
     "output_type": "stream",
     "text": [
      "Testing testing set accuracy\n",
      "Testing reconstruction accuracy\n",
      "\n",
      "####################\n",
      "cur_time()='3:16:33'\n",
      "k=4\n",
      "s=8000\n",
      "p=0.99\n",
      "reduction=6039\n",
      "reconstruction_acc=75.92999999999999\n",
      "test_acc=47.4\n",
      "####################\n",
      "\n",
      "Creating matrix graph\n"
     ]
    },
    {
     "name": "stderr",
     "output_type": "stream",
     "text": [
      "100%|██████████| 6039/6039 [00:00<00:00, 74558.11it/s]\n"
     ]
    },
    {
     "name": "stdout",
     "output_type": "stream",
     "text": [
      "Creating oht label graph\n"
     ]
    },
    {
     "name": "stderr",
     "output_type": "stream",
     "text": [
      "100%|██████████| 8000/8000 [00:00<00:00, 2286658.85it/s]"
     ]
    },
    {
     "name": "stdout",
     "output_type": "stream",
     "text": [
      "Choosing the most present label\n"
     ]
    },
    {
     "name": "stderr",
     "output_type": "stream",
     "text": [
      "\n"
     ]
    },
    {
     "name": "stdout",
     "output_type": "stream",
     "text": [
      "Propagation labels\n"
     ]
    },
    {
     "name": "stderr",
     "output_type": "stream",
     "text": [
      "100%|██████████| 20/20 [00:00<00:00, 92.38it/s]\n"
     ]
    },
    {
     "name": "stdout",
     "output_type": "stream",
     "text": [
      "Converting to csr\n",
      "Remaping labels\n"
     ]
    },
    {
     "name": "stderr",
     "output_type": "stream",
     "text": [
      "100%|██████████| 8000/8000 [00:00<00:00, 2667495.99it/s]\n"
     ]
    },
    {
     "name": "stdout",
     "output_type": "stream",
     "text": [
      "Testing testing set accuracy\n",
      "Testing reconstruction accuracy\n",
      "\n",
      "####################\n",
      "cur_time()='3:16:34'\n",
      "k=4\n",
      "s=8000\n",
      "p=0.999\n",
      "reduction=6039\n",
      "reconstruction_acc=33.160000000000004\n",
      "test_acc=47.4\n",
      "####################\n",
      "\n",
      "Creating matrix graph\n"
     ]
    },
    {
     "name": "stderr",
     "output_type": "stream",
     "text": [
      "100%|██████████| 6039/6039 [00:00<00:00, 75961.85it/s]\n"
     ]
    },
    {
     "name": "stdout",
     "output_type": "stream",
     "text": [
      "Creating oht label graph\n"
     ]
    },
    {
     "name": "stderr",
     "output_type": "stream",
     "text": [
      "100%|██████████| 8000/8000 [00:00<00:00, 2671105.87it/s]"
     ]
    },
    {
     "name": "stdout",
     "output_type": "stream",
     "text": [
      "Choosing the most present label\n"
     ]
    },
    {
     "name": "stderr",
     "output_type": "stream",
     "text": [
      "\n"
     ]
    },
    {
     "name": "stdout",
     "output_type": "stream",
     "text": [
      "Propagation labels\n"
     ]
    },
    {
     "name": "stderr",
     "output_type": "stream",
     "text": [
      "100%|██████████| 20/20 [00:00<00:00, 107.24it/s]\n"
     ]
    },
    {
     "name": "stdout",
     "output_type": "stream",
     "text": [
      "Converting to csr\n",
      "Remaping labels\n"
     ]
    },
    {
     "name": "stderr",
     "output_type": "stream",
     "text": [
      "100%|██████████| 8000/8000 [00:00<00:00, 3199926.76it/s]\n"
     ]
    },
    {
     "name": "stdout",
     "output_type": "stream",
     "text": [
      "Testing testing set accuracy\n",
      "Testing reconstruction accuracy\n",
      "\n",
      "####################\n",
      "cur_time()='3:16:35'\n",
      "k=4\n",
      "s=8000\n",
      "p=0.9999\n",
      "reduction=6039\n",
      "reconstruction_acc=11.31\n",
      "test_acc=47.4\n",
      "####################\n",
      "\n",
      "Constructing knn graph\n"
     ]
    },
    {
     "name": "stderr",
     "output_type": "stream",
     "text": [
      "100%|██████████| 8000/8000 [00:00<00:00, 33264.20it/s]\n"
     ]
    },
    {
     "name": "stdout",
     "output_type": "stream",
     "text": [
      "Converting to csr\n",
      "Converting matrix to pygel using precomputed embedding\n",
      "Creating nodes\n"
     ]
    },
    {
     "name": "stderr",
     "output_type": "stream",
     "text": [
      "8000it [00:00, 242431.30it/s]\n"
     ]
    },
    {
     "name": "stdout",
     "output_type": "stream",
     "text": [
      "Connecting Nodes\n"
     ]
    },
    {
     "name": "stderr",
     "output_type": "stream",
     "text": [
      "100%|██████████| 152982/152982 [00:00<00:00, 1150257.99it/s]\n"
     ]
    },
    {
     "name": "stdout",
     "output_type": "stream",
     "text": [
      "Skeletonization has yielded 8000 -> 229 nodes\n",
      "Creating matrix graph\n"
     ]
    },
    {
     "name": "stderr",
     "output_type": "stream",
     "text": [
      "100%|██████████| 229/229 [00:00<00:00, 65442.23it/s]\n"
     ]
    },
    {
     "name": "stdout",
     "output_type": "stream",
     "text": [
      "Creating oht label graph\n"
     ]
    },
    {
     "name": "stderr",
     "output_type": "stream",
     "text": [
      "100%|██████████| 8000/8000 [00:00<00:00, 1454524.77it/s]\n"
     ]
    },
    {
     "name": "stdout",
     "output_type": "stream",
     "text": [
      "Choosing the most present label\n",
      "Propagation labels\n"
     ]
    },
    {
     "name": "stderr",
     "output_type": "stream",
     "text": [
      "100%|██████████| 20/20 [00:00<00:00, 1289.78it/s]\n"
     ]
    },
    {
     "name": "stdout",
     "output_type": "stream",
     "text": [
      "Converting to csr\n",
      "Remaping labels\n"
     ]
    },
    {
     "name": "stderr",
     "output_type": "stream",
     "text": [
      "100%|██████████| 8000/8000 [00:00<00:00, 2665165.37it/s]"
     ]
    },
    {
     "name": "stdout",
     "output_type": "stream",
     "text": [
      "Testing testing set accuracy\n"
     ]
    },
    {
     "name": "stderr",
     "output_type": "stream",
     "text": [
      "\n"
     ]
    },
    {
     "name": "stdout",
     "output_type": "stream",
     "text": [
      "Testing reconstruction accuracy\n",
      "\n",
      "####################\n",
      "cur_time()='3:16:41'\n",
      "k=16\n",
      "s=8000\n",
      "p=0.9\n",
      "reduction=229\n",
      "reconstruction_acc=89.60000000000001\n",
      "test_acc=47.4\n",
      "####################\n",
      "\n",
      "Creating matrix graph\n"
     ]
    },
    {
     "name": "stderr",
     "output_type": "stream",
     "text": [
      "100%|██████████| 229/229 [00:00<00:00, 57247.32it/s]\n"
     ]
    },
    {
     "name": "stdout",
     "output_type": "stream",
     "text": [
      "Creating oht label graph\n"
     ]
    },
    {
     "name": "stderr",
     "output_type": "stream",
     "text": [
      "100%|██████████| 8000/8000 [00:00<00:00, 2000741.28it/s]\n"
     ]
    },
    {
     "name": "stdout",
     "output_type": "stream",
     "text": [
      "Choosing the most present label\n",
      "Propagation labels\n"
     ]
    },
    {
     "name": "stderr",
     "output_type": "stream",
     "text": [
      "100%|██████████| 20/20 [00:00<00:00, 1905.51it/s]\n"
     ]
    },
    {
     "name": "stdout",
     "output_type": "stream",
     "text": [
      "Converting to csr\n",
      "Remaping labels\n"
     ]
    },
    {
     "name": "stderr",
     "output_type": "stream",
     "text": [
      "100%|██████████| 8000/8000 [00:00<00:00, 3199621.63it/s]"
     ]
    },
    {
     "name": "stdout",
     "output_type": "stream",
     "text": [
      "Testing testing set accuracy\n"
     ]
    },
    {
     "name": "stderr",
     "output_type": "stream",
     "text": [
      "\n"
     ]
    },
    {
     "name": "stdout",
     "output_type": "stream",
     "text": [
      "Testing reconstruction accuracy\n",
      "\n",
      "####################\n",
      "cur_time()='3:16:42'\n",
      "k=16\n",
      "s=8000\n",
      "p=0.99\n",
      "reduction=229\n",
      "reconstruction_acc=71.13000000000001\n",
      "test_acc=47.4\n",
      "####################\n",
      "\n",
      "Creating matrix graph\n"
     ]
    },
    {
     "name": "stderr",
     "output_type": "stream",
     "text": [
      "100%|██████████| 229/229 [00:00<00:00, 76320.67it/s]\n"
     ]
    },
    {
     "name": "stdout",
     "output_type": "stream",
     "text": [
      "Creating oht label graph\n"
     ]
    },
    {
     "name": "stderr",
     "output_type": "stream",
     "text": [
      "100%|██████████| 8000/8000 [00:00<00:00, 2668344.49it/s]\n"
     ]
    },
    {
     "name": "stdout",
     "output_type": "stream",
     "text": [
      "Choosing the most present label\n",
      "Propagation labels\n"
     ]
    },
    {
     "name": "stderr",
     "output_type": "stream",
     "text": [
      "100%|██████████| 20/20 [00:00<00:00, 1818.20it/s]\n"
     ]
    },
    {
     "name": "stdout",
     "output_type": "stream",
     "text": [
      "Converting to csr\n",
      "Remaping labels\n"
     ]
    },
    {
     "name": "stderr",
     "output_type": "stream",
     "text": [
      "100%|██████████| 8000/8000 [00:00<00:00, 2669618.27it/s]"
     ]
    },
    {
     "name": "stdout",
     "output_type": "stream",
     "text": [
      "Testing testing set accuracy\n"
     ]
    },
    {
     "name": "stderr",
     "output_type": "stream",
     "text": [
      "\n"
     ]
    },
    {
     "name": "stdout",
     "output_type": "stream",
     "text": [
      "Testing reconstruction accuracy\n",
      "\n",
      "####################\n",
      "cur_time()='3:16:43'\n",
      "k=16\n",
      "s=8000\n",
      "p=0.999\n",
      "reduction=229\n",
      "reconstruction_acc=46.46\n",
      "test_acc=47.4\n",
      "####################\n",
      "\n",
      "Creating matrix graph\n"
     ]
    },
    {
     "name": "stderr",
     "output_type": "stream",
     "text": [
      "100%|██████████| 229/229 [00:00<00:00, 65437.77it/s]\n"
     ]
    },
    {
     "name": "stdout",
     "output_type": "stream",
     "text": [
      "Creating oht label graph\n"
     ]
    },
    {
     "name": "stderr",
     "output_type": "stream",
     "text": [
      "100%|██████████| 8000/8000 [00:00<00:00, 2667920.17it/s]\n"
     ]
    },
    {
     "name": "stdout",
     "output_type": "stream",
     "text": [
      "Choosing the most present label\n",
      "Propagation labels\n"
     ]
    },
    {
     "name": "stderr",
     "output_type": "stream",
     "text": [
      "100%|██████████| 20/20 [00:00<00:00, 2105.10it/s]\n"
     ]
    },
    {
     "name": "stdout",
     "output_type": "stream",
     "text": [
      "Converting to csr\n",
      "Remaping labels\n"
     ]
    },
    {
     "name": "stderr",
     "output_type": "stream",
     "text": [
      "100%|██████████| 8000/8000 [00:00<00:00, 3199011.54it/s]"
     ]
    },
    {
     "name": "stdout",
     "output_type": "stream",
     "text": [
      "Testing testing set accuracy\n"
     ]
    },
    {
     "name": "stderr",
     "output_type": "stream",
     "text": [
      "\n"
     ]
    },
    {
     "name": "stdout",
     "output_type": "stream",
     "text": [
      "Testing reconstruction accuracy\n",
      "\n",
      "####################\n",
      "cur_time()='3:16:44'\n",
      "k=16\n",
      "s=8000\n",
      "p=0.9999\n",
      "reduction=229\n",
      "reconstruction_acc=19.39\n",
      "test_acc=47.4\n",
      "####################\n",
      "\n",
      "Constructing knn graph\n"
     ]
    },
    {
     "name": "stderr",
     "output_type": "stream",
     "text": [
      "100%|██████████| 8000/8000 [00:00<00:00, 32193.02it/s]\n"
     ]
    },
    {
     "name": "stdout",
     "output_type": "stream",
     "text": [
      "Converting to csr\n",
      "Converting matrix to pygel using precomputed embedding\n",
      "Creating nodes\n"
     ]
    },
    {
     "name": "stderr",
     "output_type": "stream",
     "text": [
      "8000it [00:00, 242436.56it/s]\n"
     ]
    },
    {
     "name": "stdout",
     "output_type": "stream",
     "text": [
      "Connecting Nodes\n"
     ]
    },
    {
     "name": "stderr",
     "output_type": "stream",
     "text": [
      "100%|██████████| 311180/311180 [00:00<00:00, 1131576.98it/s]\n"
     ]
    },
    {
     "name": "stdout",
     "output_type": "stream",
     "text": [
      "Skeletonization has yielded 8000 -> 40 nodes\n",
      "Creating matrix graph\n"
     ]
    },
    {
     "name": "stderr",
     "output_type": "stream",
     "text": [
      "100%|██████████| 40/40 [00:00<00:00, 39983.83it/s]\n"
     ]
    },
    {
     "name": "stdout",
     "output_type": "stream",
     "text": [
      "Creating oht label graph\n"
     ]
    },
    {
     "name": "stderr",
     "output_type": "stream",
     "text": [
      "100%|██████████| 8000/8000 [00:00<00:00, 1454966.26it/s]\n"
     ]
    },
    {
     "name": "stdout",
     "output_type": "stream",
     "text": [
      "Choosing the most present label\n",
      "Propagation labels\n"
     ]
    },
    {
     "name": "stderr",
     "output_type": "stream",
     "text": [
      "100%|██████████| 20/20 [00:00<00:00, 1333.22it/s]\n"
     ]
    },
    {
     "name": "stdout",
     "output_type": "stream",
     "text": [
      "Converting to csr\n",
      "Remaping labels\n"
     ]
    },
    {
     "name": "stderr",
     "output_type": "stream",
     "text": [
      "100%|██████████| 8000/8000 [00:00<00:00, 3199316.55it/s]"
     ]
    },
    {
     "name": "stdout",
     "output_type": "stream",
     "text": [
      "Testing testing set accuracy\n"
     ]
    },
    {
     "name": "stderr",
     "output_type": "stream",
     "text": [
      "\n"
     ]
    },
    {
     "name": "stdout",
     "output_type": "stream",
     "text": [
      "Testing reconstruction accuracy\n",
      "\n",
      "####################\n",
      "cur_time()='3:17:25'\n",
      "k=32\n",
      "s=8000\n",
      "p=0.9\n",
      "reduction=40\n",
      "reconstruction_acc=82.15\n",
      "test_acc=47.4\n",
      "####################\n",
      "\n",
      "Creating matrix graph\n"
     ]
    },
    {
     "name": "stderr",
     "output_type": "stream",
     "text": [
      "100%|██████████| 40/40 [00:00<00:00, 39983.83it/s]\n"
     ]
    },
    {
     "name": "stdout",
     "output_type": "stream",
     "text": [
      "Creating oht label graph\n"
     ]
    },
    {
     "name": "stderr",
     "output_type": "stream",
     "text": [
      "100%|██████████| 8000/8000 [00:00<00:00, 3200842.51it/s]\n"
     ]
    },
    {
     "name": "stdout",
     "output_type": "stream",
     "text": [
      "Choosing the most present label\n",
      "Propagation labels\n"
     ]
    },
    {
     "name": "stderr",
     "output_type": "stream",
     "text": [
      "100%|██████████| 20/20 [00:00<00:00, 2856.18it/s]\n"
     ]
    },
    {
     "name": "stdout",
     "output_type": "stream",
     "text": [
      "Converting to csr\n",
      "Remaping labels\n"
     ]
    },
    {
     "name": "stderr",
     "output_type": "stream",
     "text": [
      "100%|██████████| 8000/8000 [00:00<00:00, 2667920.17it/s]"
     ]
    },
    {
     "name": "stdout",
     "output_type": "stream",
     "text": [
      "Testing testing set accuracy\n"
     ]
    },
    {
     "name": "stderr",
     "output_type": "stream",
     "text": [
      "\n"
     ]
    },
    {
     "name": "stdout",
     "output_type": "stream",
     "text": [
      "Testing reconstruction accuracy\n",
      "\n",
      "####################\n",
      "cur_time()='3:17:26'\n",
      "k=32\n",
      "s=8000\n",
      "p=0.99\n",
      "reduction=40\n",
      "reconstruction_acc=80.28999999999999\n",
      "test_acc=47.4\n",
      "####################\n",
      "\n",
      "Creating matrix graph\n"
     ]
    },
    {
     "name": "stderr",
     "output_type": "stream",
     "text": [
      "100%|██████████| 40/40 [00:00<00:00, 39879.29it/s]\n"
     ]
    },
    {
     "name": "stdout",
     "output_type": "stream",
     "text": [
      "Creating oht label graph\n"
     ]
    },
    {
     "name": "stderr",
     "output_type": "stream",
     "text": [
      "100%|██████████| 8000/8000 [00:00<00:00, 3202064.32it/s]\n"
     ]
    },
    {
     "name": "stdout",
     "output_type": "stream",
     "text": [
      "Choosing the most present label\n",
      "Propagation labels\n"
     ]
    },
    {
     "name": "stderr",
     "output_type": "stream",
     "text": [
      "100%|██████████| 20/20 [00:00<00:00, 3076.13it/s]\n"
     ]
    },
    {
     "name": "stdout",
     "output_type": "stream",
     "text": [
      "Converting to csr\n",
      "Remaping labels\n"
     ]
    },
    {
     "name": "stderr",
     "output_type": "stream",
     "text": [
      "100%|██████████| 8000/8000 [00:00<00:00, 3197487.33it/s]"
     ]
    },
    {
     "name": "stdout",
     "output_type": "stream",
     "text": [
      "Testing testing set accuracy\n"
     ]
    },
    {
     "name": "stderr",
     "output_type": "stream",
     "text": [
      "\n"
     ]
    },
    {
     "name": "stdout",
     "output_type": "stream",
     "text": [
      "Testing reconstruction accuracy\n",
      "\n",
      "####################\n",
      "cur_time()='3:17:27'\n",
      "k=32\n",
      "s=8000\n",
      "p=0.999\n",
      "reduction=40\n",
      "reconstruction_acc=54.169999999999995\n",
      "test_acc=47.4\n",
      "####################\n",
      "\n",
      "Creating matrix graph\n"
     ]
    },
    {
     "name": "stderr",
     "output_type": "stream",
     "text": [
      "100%|██████████| 40/40 [00:00<00:00, 40098.51it/s]\n"
     ]
    },
    {
     "name": "stdout",
     "output_type": "stream",
     "text": [
      "Creating oht label graph\n"
     ]
    },
    {
     "name": "stderr",
     "output_type": "stream",
     "text": [
      "100%|██████████| 8000/8000 [00:00<00:00, 3200842.51it/s]\n"
     ]
    },
    {
     "name": "stdout",
     "output_type": "stream",
     "text": [
      "Choosing the most present label\n",
      "Propagation labels\n"
     ]
    },
    {
     "name": "stderr",
     "output_type": "stream",
     "text": [
      "100%|██████████| 20/20 [00:00<00:00, 3076.92it/s]\n"
     ]
    },
    {
     "name": "stdout",
     "output_type": "stream",
     "text": [
      "Converting to csr\n",
      "Remaping labels\n"
     ]
    },
    {
     "name": "stderr",
     "output_type": "stream",
     "text": [
      "100%|██████████| 8000/8000 [00:00<00:00, 1776588.76it/s]"
     ]
    },
    {
     "name": "stdout",
     "output_type": "stream",
     "text": [
      "Testing testing set accuracy\n"
     ]
    },
    {
     "name": "stderr",
     "output_type": "stream",
     "text": [
      "\n"
     ]
    },
    {
     "name": "stdout",
     "output_type": "stream",
     "text": [
      "Testing reconstruction accuracy\n",
      "\n",
      "####################\n",
      "cur_time()='3:17:28'\n",
      "k=32\n",
      "s=8000\n",
      "p=0.9999\n",
      "reduction=40\n",
      "reconstruction_acc=19.38\n",
      "test_acc=47.4\n",
      "####################\n",
      "\n",
      "\n",
      "#Calculating distances#\n",
      "\n",
      "Constructing knn graph\n"
     ]
    },
    {
     "name": "stderr",
     "output_type": "stream",
     "text": [
      "100%|██████████| 16000/16000 [00:00<00:00, 35634.62it/s]\n"
     ]
    },
    {
     "name": "stdout",
     "output_type": "stream",
     "text": [
      "Converting to csr\n",
      "Converting matrix to pygel using precomputed embedding\n",
      "Creating nodes\n"
     ]
    },
    {
     "name": "stderr",
     "output_type": "stream",
     "text": [
      "16000it [00:00, 246151.82it/s]\n"
     ]
    },
    {
     "name": "stdout",
     "output_type": "stream",
     "text": [
      "Connecting Nodes\n"
     ]
    },
    {
     "name": "stderr",
     "output_type": "stream",
     "text": [
      "100%|██████████| 64306/64306 [00:00<00:00, 1202014.86it/s]\n"
     ]
    },
    {
     "name": "stdout",
     "output_type": "stream",
     "text": [
      "Skeletonization has yielded 16000 -> 12569 nodes\n",
      "Creating matrix graph\n"
     ]
    },
    {
     "name": "stderr",
     "output_type": "stream",
     "text": [
      "100%|██████████| 12569/12569 [00:00<00:00, 73934.54it/s]\n"
     ]
    },
    {
     "name": "stdout",
     "output_type": "stream",
     "text": [
      "Creating oht label graph\n"
     ]
    },
    {
     "name": "stderr",
     "output_type": "stream",
     "text": [
      "100%|██████████| 16000/16000 [00:00<00:00, 1600573.94it/s]\n"
     ]
    },
    {
     "name": "stdout",
     "output_type": "stream",
     "text": [
      "Choosing the most present label\n",
      "Propagation labels\n"
     ]
    },
    {
     "name": "stderr",
     "output_type": "stream",
     "text": [
      "100%|██████████| 20/20 [00:00<00:00, 44.15it/s]\n"
     ]
    },
    {
     "name": "stdout",
     "output_type": "stream",
     "text": [
      "Converting to csr\n",
      "Remaping labels\n"
     ]
    },
    {
     "name": "stderr",
     "output_type": "stream",
     "text": [
      "100%|██████████| 16000/16000 [00:00<00:00, 3200995.18it/s]\n"
     ]
    },
    {
     "name": "stdout",
     "output_type": "stream",
     "text": [
      "Testing testing set accuracy\n",
      "Testing reconstruction accuracy\n",
      "\n",
      "####################\n",
      "cur_time()='3:18:36'\n",
      "k=4\n",
      "s=16000\n",
      "p=0.9\n",
      "reduction=12569\n",
      "reconstruction_acc=93.24\n",
      "test_acc=47.4\n",
      "####################\n",
      "\n",
      "Creating matrix graph\n"
     ]
    },
    {
     "name": "stderr",
     "output_type": "stream",
     "text": [
      "100%|██████████| 12569/12569 [00:00<00:00, 73935.78it/s]\n"
     ]
    },
    {
     "name": "stdout",
     "output_type": "stream",
     "text": [
      "Creating oht label graph\n"
     ]
    },
    {
     "name": "stderr",
     "output_type": "stream",
     "text": [
      "100%|██████████| 16000/16000 [00:00<00:00, 2285879.96it/s]\n"
     ]
    },
    {
     "name": "stdout",
     "output_type": "stream",
     "text": [
      "Choosing the most present label\n",
      "Propagation labels\n"
     ]
    },
    {
     "name": "stderr",
     "output_type": "stream",
     "text": [
      "100%|██████████| 20/20 [00:00<00:00, 45.40it/s]\n"
     ]
    },
    {
     "name": "stdout",
     "output_type": "stream",
     "text": [
      "Converting to csr\n",
      "Remaping labels\n"
     ]
    },
    {
     "name": "stderr",
     "output_type": "stream",
     "text": [
      "100%|██████████| 16000/16000 [00:00<00:00, 2462710.61it/s]\n"
     ]
    },
    {
     "name": "stdout",
     "output_type": "stream",
     "text": [
      "Testing testing set accuracy\n",
      "Testing reconstruction accuracy\n",
      "\n",
      "####################\n",
      "cur_time()='3:18:39'\n",
      "k=4\n",
      "s=16000\n",
      "p=0.99\n",
      "reduction=12569\n",
      "reconstruction_acc=80.81\n",
      "test_acc=47.4\n",
      "####################\n",
      "\n",
      "Creating matrix graph\n"
     ]
    },
    {
     "name": "stderr",
     "output_type": "stream",
     "text": [
      "100%|██████████| 12569/12569 [00:00<00:00, 72654.04it/s]\n"
     ]
    },
    {
     "name": "stdout",
     "output_type": "stream",
     "text": [
      "Creating oht label graph\n"
     ]
    },
    {
     "name": "stderr",
     "output_type": "stream",
     "text": [
      "100%|██████████| 16000/16000 [00:00<00:00, 2666965.94it/s]\n"
     ]
    },
    {
     "name": "stdout",
     "output_type": "stream",
     "text": [
      "Choosing the most present label\n",
      "Propagation labels\n"
     ]
    },
    {
     "name": "stderr",
     "output_type": "stream",
     "text": [
      "100%|██████████| 20/20 [00:00<00:00, 49.94it/s]\n"
     ]
    },
    {
     "name": "stdout",
     "output_type": "stream",
     "text": [
      "Converting to csr\n",
      "Remaping labels\n"
     ]
    },
    {
     "name": "stderr",
     "output_type": "stream",
     "text": [
      "100%|██████████| 16000/16000 [00:00<00:00, 3200689.85it/s]\n"
     ]
    },
    {
     "name": "stdout",
     "output_type": "stream",
     "text": [
      "Testing testing set accuracy\n",
      "Testing reconstruction accuracy\n",
      "\n",
      "####################\n",
      "cur_time()='3:18:42'\n",
      "k=4\n",
      "s=16000\n",
      "p=0.999\n",
      "reduction=12569\n",
      "reconstruction_acc=36.05\n",
      "test_acc=47.4\n",
      "####################\n",
      "\n",
      "Creating matrix graph\n"
     ]
    },
    {
     "name": "stderr",
     "output_type": "stream",
     "text": [
      "100%|██████████| 12569/12569 [00:00<00:00, 72863.71it/s]\n"
     ]
    },
    {
     "name": "stdout",
     "output_type": "stream",
     "text": [
      "Creating oht label graph\n"
     ]
    },
    {
     "name": "stderr",
     "output_type": "stream",
     "text": [
      "100%|██████████| 16000/16000 [00:00<00:00, 2909175.65it/s]\n"
     ]
    },
    {
     "name": "stdout",
     "output_type": "stream",
     "text": [
      "Choosing the most present label\n",
      "Propagation labels\n"
     ]
    },
    {
     "name": "stderr",
     "output_type": "stream",
     "text": [
      "100%|██████████| 20/20 [00:00<00:00, 51.02it/s]\n"
     ]
    },
    {
     "name": "stdout",
     "output_type": "stream",
     "text": [
      "Converting to csr\n",
      "Remaping labels\n"
     ]
    },
    {
     "name": "stderr",
     "output_type": "stream",
     "text": [
      "100%|██████████| 16000/16000 [00:00<00:00, 2667708.06it/s]\n"
     ]
    },
    {
     "name": "stdout",
     "output_type": "stream",
     "text": [
      "Testing testing set accuracy\n",
      "Testing reconstruction accuracy\n",
      "\n",
      "####################\n",
      "cur_time()='3:18:44'\n",
      "k=4\n",
      "s=16000\n",
      "p=0.9999\n",
      "reduction=12569\n",
      "reconstruction_acc=13.930000000000001\n",
      "test_acc=47.4\n",
      "####################\n",
      "\n",
      "Constructing knn graph\n"
     ]
    },
    {
     "name": "stderr",
     "output_type": "stream",
     "text": [
      "100%|██████████| 16000/16000 [00:00<00:00, 31777.59it/s]\n"
     ]
    },
    {
     "name": "stdout",
     "output_type": "stream",
     "text": [
      "Converting to csr\n",
      "Converting matrix to pygel using precomputed embedding\n",
      "Creating nodes\n"
     ]
    },
    {
     "name": "stderr",
     "output_type": "stream",
     "text": [
      "16000it [00:00, 240610.32it/s]\n"
     ]
    },
    {
     "name": "stdout",
     "output_type": "stream",
     "text": [
      "Connecting Nodes\n"
     ]
    },
    {
     "name": "stderr",
     "output_type": "stream",
     "text": [
      "100%|██████████| 302452/302452 [00:00<00:00, 1141321.69it/s]\n"
     ]
    },
    {
     "name": "stdout",
     "output_type": "stream",
     "text": [
      "Skeletonization has yielded 16000 -> 342 nodes\n",
      "Creating matrix graph\n"
     ]
    },
    {
     "name": "stderr",
     "output_type": "stream",
     "text": [
      "100%|██████████| 342/342 [00:00<00:00, 85490.91it/s]\n"
     ]
    },
    {
     "name": "stdout",
     "output_type": "stream",
     "text": [
      "Creating oht label graph\n"
     ]
    },
    {
     "name": "stderr",
     "output_type": "stream",
     "text": [
      "100%|██████████| 16000/16000 [00:00<00:00, 1777671.16it/s]\n"
     ]
    },
    {
     "name": "stdout",
     "output_type": "stream",
     "text": [
      "Choosing the most present label\n",
      "Propagation labels\n"
     ]
    },
    {
     "name": "stderr",
     "output_type": "stream",
     "text": [
      "100%|██████████| 20/20 [00:00<00:00, 1290.46it/s]\n"
     ]
    },
    {
     "name": "stdout",
     "output_type": "stream",
     "text": [
      "Converting to csr\n",
      "Remaping labels\n"
     ]
    },
    {
     "name": "stderr",
     "output_type": "stream",
     "text": [
      "100%|██████████| 16000/16000 [00:00<00:00, 3201147.87it/s]"
     ]
    },
    {
     "name": "stdout",
     "output_type": "stream",
     "text": [
      "Testing testing set accuracy\n"
     ]
    },
    {
     "name": "stderr",
     "output_type": "stream",
     "text": [
      "\n"
     ]
    },
    {
     "name": "stdout",
     "output_type": "stream",
     "text": [
      "Testing reconstruction accuracy\n",
      "\n",
      "####################\n",
      "cur_time()='3:19:5'\n",
      "k=16\n",
      "s=16000\n",
      "p=0.9\n",
      "reduction=342\n",
      "reconstruction_acc=92.25\n",
      "test_acc=47.4\n",
      "####################\n",
      "\n",
      "Creating matrix graph\n"
     ]
    },
    {
     "name": "stderr",
     "output_type": "stream",
     "text": [
      "100%|██████████| 342/342 [00:00<00:00, 68408.22it/s]\n"
     ]
    },
    {
     "name": "stdout",
     "output_type": "stream",
     "text": [
      "Creating oht label graph\n"
     ]
    },
    {
     "name": "stderr",
     "output_type": "stream",
     "text": [
      "100%|██████████| 16000/16000 [00:00<00:00, 2461265.46it/s]\n"
     ]
    },
    {
     "name": "stdout",
     "output_type": "stream",
     "text": [
      "Choosing the most present label\n",
      "Propagation labels\n"
     ]
    },
    {
     "name": "stderr",
     "output_type": "stream",
     "text": [
      "100%|██████████| 20/20 [00:00<00:00, 1379.43it/s]\n"
     ]
    },
    {
     "name": "stdout",
     "output_type": "stream",
     "text": [
      "Converting to csr\n",
      "Remaping labels\n"
     ]
    },
    {
     "name": "stderr",
     "output_type": "stream",
     "text": [
      "100%|██████████| 16000/16000 [00:00<00:00, 2461446.01it/s]"
     ]
    },
    {
     "name": "stdout",
     "output_type": "stream",
     "text": [
      "Testing testing set accuracy\n"
     ]
    },
    {
     "name": "stderr",
     "output_type": "stream",
     "text": [
      "\n"
     ]
    },
    {
     "name": "stdout",
     "output_type": "stream",
     "text": [
      "Testing reconstruction accuracy\n",
      "\n",
      "####################\n",
      "cur_time()='3:19:6'\n",
      "k=16\n",
      "s=16000\n",
      "p=0.99\n",
      "reduction=342\n",
      "reconstruction_acc=84.11999999999999\n",
      "test_acc=47.4\n",
      "####################\n",
      "\n",
      "Creating matrix graph\n"
     ]
    },
    {
     "name": "stderr",
     "output_type": "stream",
     "text": [
      "100%|██████████| 342/342 [00:00<00:00, 85485.81it/s]\n"
     ]
    },
    {
     "name": "stdout",
     "output_type": "stream",
     "text": [
      "Creating oht label graph\n"
     ]
    },
    {
     "name": "stderr",
     "output_type": "stream",
     "text": [
      "100%|██████████| 16000/16000 [00:00<00:00, 2667283.94it/s]\n"
     ]
    },
    {
     "name": "stdout",
     "output_type": "stream",
     "text": [
      "Choosing the most present label\n",
      "Propagation labels\n"
     ]
    },
    {
     "name": "stderr",
     "output_type": "stream",
     "text": [
      "100%|██████████| 20/20 [00:00<00:00, 1739.26it/s]\n"
     ]
    },
    {
     "name": "stdout",
     "output_type": "stream",
     "text": [
      "Converting to csr\n",
      "Remaping labels\n"
     ]
    },
    {
     "name": "stderr",
     "output_type": "stream",
     "text": [
      "100%|██████████| 16000/16000 [00:00<00:00, 2667071.93it/s]"
     ]
    },
    {
     "name": "stdout",
     "output_type": "stream",
     "text": [
      "Testing testing set accuracy\n"
     ]
    },
    {
     "name": "stderr",
     "output_type": "stream",
     "text": [
      "\n"
     ]
    },
    {
     "name": "stdout",
     "output_type": "stream",
     "text": [
      "Testing reconstruction accuracy\n",
      "\n",
      "####################\n",
      "cur_time()='3:19:8'\n",
      "k=16\n",
      "s=16000\n",
      "p=0.999\n",
      "reduction=342\n",
      "reconstruction_acc=39.739999999999995\n",
      "test_acc=47.4\n",
      "####################\n",
      "\n",
      "Creating matrix graph\n"
     ]
    },
    {
     "name": "stderr",
     "output_type": "stream",
     "text": [
      "100%|██████████| 342/342 [00:00<00:00, 76041.77it/s]\n"
     ]
    },
    {
     "name": "stdout",
     "output_type": "stream",
     "text": [
      "Creating oht label graph\n"
     ]
    },
    {
     "name": "stderr",
     "output_type": "stream",
     "text": [
      "100%|██████████| 16000/16000 [00:00<00:00, 2133487.97it/s]\n"
     ]
    },
    {
     "name": "stdout",
     "output_type": "stream",
     "text": [
      "Choosing the most present label\n",
      "Propagation labels\n"
     ]
    },
    {
     "name": "stderr",
     "output_type": "stream",
     "text": [
      "100%|██████████| 20/20 [00:00<00:00, 1600.05it/s]\n"
     ]
    },
    {
     "name": "stdout",
     "output_type": "stream",
     "text": [
      "Converting to csr\n",
      "Remaping labels\n"
     ]
    },
    {
     "name": "stderr",
     "output_type": "stream",
     "text": [
      "100%|██████████| 16000/16000 [00:00<00:00, 2908671.29it/s]"
     ]
    },
    {
     "name": "stdout",
     "output_type": "stream",
     "text": [
      "Testing testing set accuracy\n"
     ]
    },
    {
     "name": "stderr",
     "output_type": "stream",
     "text": [
      "\n"
     ]
    },
    {
     "name": "stdout",
     "output_type": "stream",
     "text": [
      "Testing reconstruction accuracy\n",
      "\n",
      "####################\n",
      "cur_time()='3:19:10'\n",
      "k=16\n",
      "s=16000\n",
      "p=0.9999\n",
      "reduction=342\n",
      "reconstruction_acc=20.19\n",
      "test_acc=47.4\n",
      "####################\n",
      "\n",
      "Constructing knn graph\n"
     ]
    },
    {
     "name": "stderr",
     "output_type": "stream",
     "text": [
      "100%|██████████| 16000/16000 [00:00<00:00, 29439.03it/s]\n"
     ]
    },
    {
     "name": "stdout",
     "output_type": "stream",
     "text": [
      "Converting to csr\n",
      "Converting matrix to pygel using precomputed embedding\n",
      "Creating nodes\n"
     ]
    },
    {
     "name": "stderr",
     "output_type": "stream",
     "text": [
      "16000it [00:00, 235295.50it/s]\n"
     ]
    },
    {
     "name": "stdout",
     "output_type": "stream",
     "text": [
      "Connecting Nodes\n"
     ]
    },
    {
     "name": "stderr",
     "output_type": "stream",
     "text": [
      "100%|██████████| 614602/614602 [00:00<00:00, 1076359.24it/s]\n"
     ]
    },
    {
     "name": "stdout",
     "output_type": "stream",
     "text": [
      "Skeletonization has yielded 16000 -> 56 nodes\n",
      "Creating matrix graph\n"
     ]
    },
    {
     "name": "stderr",
     "output_type": "stream",
     "text": [
      "100%|██████████| 56/56 [00:00<00:00, 56044.15it/s]\n"
     ]
    },
    {
     "name": "stdout",
     "output_type": "stream",
     "text": [
      "Creating oht label graph\n"
     ]
    },
    {
     "name": "stderr",
     "output_type": "stream",
     "text": [
      "100%|██████████| 16000/16000 [00:00<00:00, 1777906.64it/s]\n"
     ]
    },
    {
     "name": "stdout",
     "output_type": "stream",
     "text": [
      "Choosing the most present label\n",
      "Propagation labels\n"
     ]
    },
    {
     "name": "stderr",
     "output_type": "stream",
     "text": [
      "100%|██████████| 20/20 [00:00<00:00, 2856.77it/s]\n"
     ]
    },
    {
     "name": "stdout",
     "output_type": "stream",
     "text": [
      "Converting to csr\n",
      "Remaping labels\n"
     ]
    },
    {
     "name": "stderr",
     "output_type": "stream",
     "text": [
      "100%|██████████| 16000/16000 [00:00<00:00, 3199469.08it/s]"
     ]
    },
    {
     "name": "stdout",
     "output_type": "stream",
     "text": [
      "Testing testing set accuracy\n"
     ]
    },
    {
     "name": "stderr",
     "output_type": "stream",
     "text": [
      "\n"
     ]
    },
    {
     "name": "stdout",
     "output_type": "stream",
     "text": [
      "Testing reconstruction accuracy\n",
      "\n",
      "####################\n",
      "cur_time()='3:21:49'\n",
      "k=32\n",
      "s=16000\n",
      "p=0.9\n",
      "reduction=56\n",
      "reconstruction_acc=85.94000000000001\n",
      "test_acc=47.4\n",
      "####################\n",
      "\n",
      "Creating matrix graph\n"
     ]
    },
    {
     "name": "stderr",
     "output_type": "stream",
     "text": [
      "100%|██████████| 56/56 [00:00<00:00, 55897.44it/s]\n"
     ]
    },
    {
     "name": "stdout",
     "output_type": "stream",
     "text": [
      "Creating oht label graph\n"
     ]
    },
    {
     "name": "stderr",
     "output_type": "stream",
     "text": [
      "100%|██████████| 16000/16000 [00:00<00:00, 2462078.15it/s]\n"
     ]
    },
    {
     "name": "stdout",
     "output_type": "stream",
     "text": [
      "Choosing the most present label\n",
      "Propagation labels\n"
     ]
    },
    {
     "name": "stderr",
     "output_type": "stream",
     "text": [
      "100%|██████████| 20/20 [00:00<00:00, 869.64it/s]\n"
     ]
    },
    {
     "name": "stdout",
     "output_type": "stream",
     "text": [
      "Converting to csr\n",
      "Remaping labels\n"
     ]
    },
    {
     "name": "stderr",
     "output_type": "stream",
     "text": [
      "100%|██████████| 16000/16000 [00:00<00:00, 2909049.55it/s]"
     ]
    },
    {
     "name": "stdout",
     "output_type": "stream",
     "text": [
      "Testing testing set accuracy\n"
     ]
    },
    {
     "name": "stderr",
     "output_type": "stream",
     "text": [
      "\n"
     ]
    },
    {
     "name": "stdout",
     "output_type": "stream",
     "text": [
      "Testing reconstruction accuracy\n",
      "\n",
      "####################\n",
      "cur_time()='3:21:51'\n",
      "k=32\n",
      "s=16000\n",
      "p=0.99\n",
      "reduction=56\n",
      "reconstruction_acc=83.99\n",
      "test_acc=47.4\n",
      "####################\n",
      "\n",
      "Creating matrix graph\n"
     ]
    },
    {
     "name": "stderr",
     "output_type": "stream",
     "text": [
      "100%|██████████| 56/56 [00:00<00:00, 27955.37it/s]\n"
     ]
    },
    {
     "name": "stdout",
     "output_type": "stream",
     "text": [
      "Creating oht label graph\n"
     ]
    },
    {
     "name": "stderr",
     "output_type": "stream",
     "text": [
      "100%|██████████| 16000/16000 [00:00<00:00, 1882119.81it/s]\n"
     ]
    },
    {
     "name": "stdout",
     "output_type": "stream",
     "text": [
      "Choosing the most present label\n",
      "Propagation labels\n"
     ]
    },
    {
     "name": "stderr",
     "output_type": "stream",
     "text": [
      "100%|██████████| 20/20 [00:00<00:00, 2105.42it/s]\n"
     ]
    },
    {
     "name": "stdout",
     "output_type": "stream",
     "text": [
      "Converting to csr\n",
      "Remaping labels\n"
     ]
    },
    {
     "name": "stderr",
     "output_type": "stream",
     "text": [
      "100%|██████████| 16000/16000 [00:00<00:00, 2285879.96it/s]"
     ]
    },
    {
     "name": "stdout",
     "output_type": "stream",
     "text": [
      "Testing testing set accuracy\n"
     ]
    },
    {
     "name": "stderr",
     "output_type": "stream",
     "text": [
      "\n"
     ]
    },
    {
     "name": "stdout",
     "output_type": "stream",
     "text": [
      "Testing reconstruction accuracy\n",
      "\n",
      "####################\n",
      "cur_time()='3:21:52'\n",
      "k=32\n",
      "s=16000\n",
      "p=0.999\n",
      "reduction=56\n",
      "reconstruction_acc=42.26\n",
      "test_acc=47.4\n",
      "####################\n",
      "\n",
      "Creating matrix graph\n"
     ]
    },
    {
     "name": "stderr",
     "output_type": "stream",
     "text": [
      "100%|██████████| 56/56 [00:00<00:00, 37324.17it/s]\n"
     ]
    },
    {
     "name": "stdout",
     "output_type": "stream",
     "text": [
      "Creating oht label graph\n"
     ]
    },
    {
     "name": "stderr",
     "output_type": "stream",
     "text": [
      "100%|██████████| 16000/16000 [00:00<00:00, 2463433.82it/s]\n"
     ]
    },
    {
     "name": "stdout",
     "output_type": "stream",
     "text": [
      "Choosing the most present label\n",
      "Propagation labels\n"
     ]
    },
    {
     "name": "stderr",
     "output_type": "stream",
     "text": [
      "100%|██████████| 20/20 [00:00<00:00, 2352.78it/s]\n"
     ]
    },
    {
     "name": "stdout",
     "output_type": "stream",
     "text": [
      "Converting to csr\n",
      "Remaping labels\n"
     ]
    },
    {
     "name": "stderr",
     "output_type": "stream",
     "text": [
      "100%|██████████| 16000/16000 [00:00<00:00, 2462168.48it/s]"
     ]
    },
    {
     "name": "stdout",
     "output_type": "stream",
     "text": [
      "Testing testing set accuracy\n"
     ]
    },
    {
     "name": "stderr",
     "output_type": "stream",
     "text": [
      "\n"
     ]
    },
    {
     "name": "stdout",
     "output_type": "stream",
     "text": [
      "Testing reconstruction accuracy\n",
      "\n",
      "####################\n",
      "cur_time()='3:21:54'\n",
      "k=32\n",
      "s=16000\n",
      "p=0.9999\n",
      "reduction=56\n",
      "reconstruction_acc=19.73\n",
      "test_acc=47.4\n",
      "####################\n",
      "\n",
      "\n",
      "#Calculating distances#\n",
      "\n",
      "Constructing knn graph\n"
     ]
    },
    {
     "name": "stderr",
     "output_type": "stream",
     "text": [
      "100%|██████████| 32000/32000 [00:00<00:00, 33525.37it/s]\n"
     ]
    },
    {
     "name": "stdout",
     "output_type": "stream",
     "text": [
      "Converting to csr\n",
      "Converting matrix to pygel using precomputed embedding\n",
      "Creating nodes\n"
     ]
    },
    {
     "name": "stderr",
     "output_type": "stream",
     "text": [
      "32000it [00:00, 249027.27it/s]\n"
     ]
    },
    {
     "name": "stdout",
     "output_type": "stream",
     "text": [
      "Connecting Nodes\n"
     ]
    },
    {
     "name": "stderr",
     "output_type": "stream",
     "text": [
      "100%|██████████| 128008/128008 [00:00<00:00, 1158467.41it/s]\n"
     ]
    },
    {
     "name": "stdout",
     "output_type": "stream",
     "text": [
      "Skeletonization has yielded 32000 -> 25898 nodes\n",
      "Creating matrix graph\n"
     ]
    },
    {
     "name": "stderr",
     "output_type": "stream",
     "text": [
      "100%|██████████| 25898/25898 [00:00<00:00, 70470.83it/s]\n"
     ]
    },
    {
     "name": "stdout",
     "output_type": "stream",
     "text": [
      "Creating oht label graph\n"
     ]
    },
    {
     "name": "stderr",
     "output_type": "stream",
     "text": [
      "100%|██████████| 32000/32000 [00:00<00:00, 1882462.98it/s]\n"
     ]
    },
    {
     "name": "stdout",
     "output_type": "stream",
     "text": [
      "Choosing the most present label\n",
      "Propagation labels\n"
     ]
    },
    {
     "name": "stderr",
     "output_type": "stream",
     "text": [
      "100%|██████████| 20/20 [00:01<00:00, 19.18it/s]\n"
     ]
    },
    {
     "name": "stdout",
     "output_type": "stream",
     "text": [
      "Converting to csr\n",
      "Remaping labels\n"
     ]
    },
    {
     "name": "stderr",
     "output_type": "stream",
     "text": [
      "100%|██████████| 32000/32000 [00:00<00:00, 2782695.00it/s]\n"
     ]
    },
    {
     "name": "stdout",
     "output_type": "stream",
     "text": [
      "Testing testing set accuracy\n",
      "Testing reconstruction accuracy\n",
      "\n",
      "####################\n",
      "cur_time()='3:24:23'\n",
      "k=4\n",
      "s=32000\n",
      "p=0.9\n",
      "reduction=25898\n",
      "reconstruction_acc=95.25\n",
      "test_acc=47.4\n",
      "####################\n",
      "\n",
      "Creating matrix graph\n"
     ]
    },
    {
     "name": "stderr",
     "output_type": "stream",
     "text": [
      "100%|██████████| 25898/25898 [00:00<00:00, 71640.24it/s]\n"
     ]
    },
    {
     "name": "stdout",
     "output_type": "stream",
     "text": [
      "Creating oht label graph\n"
     ]
    },
    {
     "name": "stderr",
     "output_type": "stream",
     "text": [
      "100%|██████████| 32000/32000 [00:00<00:00, 2462620.23it/s]\n"
     ]
    },
    {
     "name": "stdout",
     "output_type": "stream",
     "text": [
      "Choosing the most present label\n",
      "Propagation labels\n"
     ]
    },
    {
     "name": "stderr",
     "output_type": "stream",
     "text": [
      "100%|██████████| 20/20 [00:00<00:00, 21.54it/s]\n"
     ]
    },
    {
     "name": "stdout",
     "output_type": "stream",
     "text": [
      "Converting to csr\n",
      "Remaping labels\n"
     ]
    },
    {
     "name": "stderr",
     "output_type": "stream",
     "text": [
      "100%|██████████| 32000/32000 [00:00<00:00, 3200384.57it/s]\n"
     ]
    },
    {
     "name": "stdout",
     "output_type": "stream",
     "text": [
      "Testing testing set accuracy\n",
      "Testing reconstruction accuracy\n",
      "\n",
      "####################\n",
      "cur_time()='3:24:30'\n",
      "k=4\n",
      "s=32000\n",
      "p=0.99\n",
      "reduction=25898\n",
      "reconstruction_acc=89.97\n",
      "test_acc=47.4\n",
      "####################\n",
      "\n",
      "Creating matrix graph\n"
     ]
    },
    {
     "name": "stderr",
     "output_type": "stream",
     "text": [
      "100%|██████████| 25898/25898 [00:00<00:00, 72039.15it/s]\n"
     ]
    },
    {
     "name": "stdout",
     "output_type": "stream",
     "text": [
      "Creating oht label graph\n"
     ]
    },
    {
     "name": "stderr",
     "output_type": "stream",
     "text": [
      "100%|██████████| 32000/32000 [00:00<00:00, 2909364.84it/s]\n"
     ]
    },
    {
     "name": "stdout",
     "output_type": "stream",
     "text": [
      "Choosing the most present label\n",
      "Propagation labels\n"
     ]
    },
    {
     "name": "stderr",
     "output_type": "stream",
     "text": [
      "100%|██████████| 20/20 [00:00<00:00, 22.05it/s]\n"
     ]
    },
    {
     "name": "stdout",
     "output_type": "stream",
     "text": [
      "Converting to csr\n",
      "Remaping labels\n"
     ]
    },
    {
     "name": "stderr",
     "output_type": "stream",
     "text": [
      "100%|██████████| 32000/32000 [00:00<00:00, 3047632.33it/s]\n"
     ]
    },
    {
     "name": "stdout",
     "output_type": "stream",
     "text": [
      "Testing testing set accuracy\n",
      "Testing reconstruction accuracy\n",
      "\n",
      "####################\n",
      "cur_time()='3:24:37'\n",
      "k=4\n",
      "s=32000\n",
      "p=0.999\n",
      "reduction=25898\n",
      "reconstruction_acc=49.08\n",
      "test_acc=47.4\n",
      "####################\n",
      "\n",
      "Creating matrix graph\n"
     ]
    },
    {
     "name": "stderr",
     "output_type": "stream",
     "text": [
      "100%|██████████| 25898/25898 [00:00<00:00, 70953.52it/s]\n"
     ]
    },
    {
     "name": "stdout",
     "output_type": "stream",
     "text": [
      "Creating oht label graph\n"
     ]
    },
    {
     "name": "stderr",
     "output_type": "stream",
     "text": [
      "100%|██████████| 32000/32000 [00:00<00:00, 2910374.22it/s]\n"
     ]
    },
    {
     "name": "stdout",
     "output_type": "stream",
     "text": [
      "Choosing the most present label\n",
      "Propagation labels\n"
     ]
    },
    {
     "name": "stderr",
     "output_type": "stream",
     "text": [
      "100%|██████████| 20/20 [00:00<00:00, 22.55it/s]\n"
     ]
    },
    {
     "name": "stdout",
     "output_type": "stream",
     "text": [
      "Converting to csr\n",
      "Remaping labels\n"
     ]
    },
    {
     "name": "stderr",
     "output_type": "stream",
     "text": [
      "100%|██████████| 32000/32000 [00:00<00:00, 3200460.88it/s]\n"
     ]
    },
    {
     "name": "stdout",
     "output_type": "stream",
     "text": [
      "Testing testing set accuracy\n",
      "Testing reconstruction accuracy\n",
      "\n",
      "####################\n",
      "cur_time()='3:24:44'\n",
      "k=4\n",
      "s=32000\n",
      "p=0.9999\n",
      "reduction=25898\n",
      "reconstruction_acc=16.36\n",
      "test_acc=47.4\n",
      "####################\n",
      "\n",
      "Constructing knn graph\n"
     ]
    },
    {
     "name": "stderr",
     "output_type": "stream",
     "text": [
      "100%|██████████| 32000/32000 [00:01<00:00, 28972.38it/s]\n"
     ]
    },
    {
     "name": "stdout",
     "output_type": "stream",
     "text": [
      "Converting to csr\n",
      "Converting matrix to pygel using precomputed embedding\n",
      "Creating nodes\n"
     ]
    },
    {
     "name": "stderr",
     "output_type": "stream",
     "text": [
      "32000it [00:00, 246153.63it/s]\n"
     ]
    },
    {
     "name": "stdout",
     "output_type": "stream",
     "text": [
      "Connecting Nodes\n"
     ]
    },
    {
     "name": "stderr",
     "output_type": "stream",
     "text": [
      "100%|██████████| 601934/601934 [00:00<00:00, 1120931.00it/s]\n"
     ]
    },
    {
     "name": "stdout",
     "output_type": "stream",
     "text": [
      "Skeletonization has yielded 32000 -> 476 nodes\n",
      "Creating matrix graph\n"
     ]
    },
    {
     "name": "stderr",
     "output_type": "stream",
     "text": [
      "100%|██████████| 476/476 [00:00<00:00, 67997.98it/s]\n"
     ]
    },
    {
     "name": "stdout",
     "output_type": "stream",
     "text": [
      "Creating oht label graph\n"
     ]
    },
    {
     "name": "stderr",
     "output_type": "stream",
     "text": [
      "100%|██████████| 32000/32000 [00:00<00:00, 1777741.80it/s]\n"
     ]
    },
    {
     "name": "stdout",
     "output_type": "stream",
     "text": [
      "Choosing the most present label\n",
      "Propagation labels\n"
     ]
    },
    {
     "name": "stderr",
     "output_type": "stream",
     "text": [
      "100%|██████████| 20/20 [00:00<00:00, 596.98it/s]\n"
     ]
    },
    {
     "name": "stdout",
     "output_type": "stream",
     "text": [
      "Converting to csr\n",
      "Remaping labels\n"
     ]
    },
    {
     "name": "stderr",
     "output_type": "stream",
     "text": [
      "100%|██████████| 32000/32000 [00:00<00:00, 3198782.81it/s]"
     ]
    },
    {
     "name": "stdout",
     "output_type": "stream",
     "text": [
      "Testing testing set accuracy\n"
     ]
    },
    {
     "name": "stderr",
     "output_type": "stream",
     "text": [
      "\n"
     ]
    },
    {
     "name": "stdout",
     "output_type": "stream",
     "text": [
      "Testing reconstruction accuracy\n",
      "\n",
      "####################\n",
      "cur_time()='3:26:54'\n",
      "k=16\n",
      "s=32000\n",
      "p=0.9\n",
      "reduction=476\n",
      "reconstruction_acc=95.05\n",
      "test_acc=47.4\n",
      "####################\n",
      "\n",
      "Creating matrix graph\n"
     ]
    },
    {
     "name": "stderr",
     "output_type": "stream",
     "text": [
      "100%|██████████| 476/476 [00:00<00:00, 67981.77it/s]\n"
     ]
    },
    {
     "name": "stdout",
     "output_type": "stream",
     "text": [
      "Creating oht label graph\n"
     ]
    },
    {
     "name": "stderr",
     "output_type": "stream",
     "text": [
      "100%|██████████| 32000/32000 [00:00<00:00, 2666383.14it/s]\n"
     ]
    },
    {
     "name": "stdout",
     "output_type": "stream",
     "text": [
      "Choosing the most present label\n",
      "Propagation labels\n"
     ]
    },
    {
     "name": "stderr",
     "output_type": "stream",
     "text": [
      "100%|██████████| 20/20 [00:00<00:00, 1081.02it/s]\n"
     ]
    },
    {
     "name": "stdout",
     "output_type": "stream",
     "text": [
      "Converting to csr\n",
      "Remaping labels\n"
     ]
    },
    {
     "name": "stderr",
     "output_type": "stream",
     "text": [
      "100%|██████████| 32000/32000 [00:00<00:00, 2782695.00it/s]\n"
     ]
    },
    {
     "name": "stdout",
     "output_type": "stream",
     "text": [
      "Testing testing set accuracy\n",
      "Testing reconstruction accuracy\n",
      "\n",
      "####################\n",
      "cur_time()='3:26:57'\n",
      "k=16\n",
      "s=32000\n",
      "p=0.99\n",
      "reduction=476\n",
      "reconstruction_acc=89.81\n",
      "test_acc=47.4\n",
      "####################\n",
      "\n",
      "Creating matrix graph\n"
     ]
    },
    {
     "name": "stderr",
     "output_type": "stream",
     "text": [
      "100%|██████████| 476/476 [00:00<00:00, 73236.08it/s]\n"
     ]
    },
    {
     "name": "stdout",
     "output_type": "stream",
     "text": [
      "Creating oht label graph\n"
     ]
    },
    {
     "name": "stderr",
     "output_type": "stream",
     "text": [
      "100%|██████████| 32000/32000 [00:00<00:00, 2461581.44it/s]\n"
     ]
    },
    {
     "name": "stdout",
     "output_type": "stream",
     "text": [
      "Choosing the most present label\n",
      "Propagation labels\n"
     ]
    },
    {
     "name": "stderr",
     "output_type": "stream",
     "text": [
      "100%|██████████| 20/20 [00:00<00:00, 1212.10it/s]"
     ]
    },
    {
     "name": "stdout",
     "output_type": "stream",
     "text": [
      "Converting to csr\n",
      "Remaping labels\n"
     ]
    },
    {
     "name": "stderr",
     "output_type": "stream",
     "text": [
      "\n",
      "100%|██████████| 32000/32000 [00:00<00:00, 2782810.39it/s]\n"
     ]
    },
    {
     "name": "stdout",
     "output_type": "stream",
     "text": [
      "Testing testing set accuracy\n",
      "Testing reconstruction accuracy\n",
      "\n",
      "####################\n",
      "cur_time()='3:27:0'\n",
      "k=16\n",
      "s=32000\n",
      "p=0.999\n",
      "reduction=476\n",
      "reconstruction_acc=68.28\n",
      "test_acc=47.4\n",
      "####################\n",
      "\n",
      "Creating matrix graph\n"
     ]
    },
    {
     "name": "stderr",
     "output_type": "stream",
     "text": [
      "100%|██████████| 476/476 [00:00<00:00, 68014.20it/s]\n"
     ]
    },
    {
     "name": "stdout",
     "output_type": "stream",
     "text": [
      "Creating oht label graph\n"
     ]
    },
    {
     "name": "stderr",
     "output_type": "stream",
     "text": [
      "100%|██████████| 32000/32000 [00:00<00:00, 2909680.19it/s]\n"
     ]
    },
    {
     "name": "stdout",
     "output_type": "stream",
     "text": [
      "Choosing the most present label\n",
      "Propagation labels\n"
     ]
    },
    {
     "name": "stderr",
     "output_type": "stream",
     "text": [
      "100%|██████████| 20/20 [00:00<00:00, 1481.54it/s]\n"
     ]
    },
    {
     "name": "stdout",
     "output_type": "stream",
     "text": [
      "Converting to csr\n",
      "Remaping labels\n"
     ]
    },
    {
     "name": "stderr",
     "output_type": "stream",
     "text": [
      "100%|██████████| 32000/32000 [00:00<00:00, 3200766.17it/s]"
     ]
    },
    {
     "name": "stdout",
     "output_type": "stream",
     "text": [
      "Testing testing set accuracy\n"
     ]
    },
    {
     "name": "stderr",
     "output_type": "stream",
     "text": [
      "\n"
     ]
    },
    {
     "name": "stdout",
     "output_type": "stream",
     "text": [
      "Testing reconstruction accuracy\n",
      "\n",
      "####################\n",
      "cur_time()='3:27:3'\n",
      "k=16\n",
      "s=32000\n",
      "p=0.9999\n",
      "reduction=476\n",
      "reconstruction_acc=28.060000000000002\n",
      "test_acc=47.4\n",
      "####################\n",
      "\n",
      "Constructing knn graph\n"
     ]
    },
    {
     "name": "stderr",
     "output_type": "stream",
     "text": [
      "100%|██████████| 32000/32000 [00:01<00:00, 26755.90it/s]\n"
     ]
    },
    {
     "name": "stdout",
     "output_type": "stream",
     "text": [
      "Converting to csr\n",
      "Converting matrix to pygel using precomputed embedding\n",
      "Creating nodes\n"
     ]
    },
    {
     "name": "stderr",
     "output_type": "stream",
     "text": [
      "32000it [00:00, 242421.23it/s]\n"
     ]
    },
    {
     "name": "stdout",
     "output_type": "stream",
     "text": [
      "Connecting Nodes\n"
     ]
    },
    {
     "name": "stderr",
     "output_type": "stream",
     "text": [
      "100%|██████████| 1223256/1223256 [00:01<00:00, 1037536.35it/s]\n"
     ]
    },
    {
     "name": "stdout",
     "output_type": "stream",
     "text": [
      "Skeletonization has yielded 32000 -> 76 nodes\n",
      "Creating matrix graph\n"
     ]
    },
    {
     "name": "stderr",
     "output_type": "stream",
     "text": [
      "100%|██████████| 76/76 [00:00<00:00, 76059.92it/s]\n"
     ]
    },
    {
     "name": "stdout",
     "output_type": "stream",
     "text": [
      "Creating oht label graph\n"
     ]
    },
    {
     "name": "stderr",
     "output_type": "stream",
     "text": [
      "100%|██████████| 32000/32000 [00:00<00:00, 1828654.14it/s]\n"
     ]
    },
    {
     "name": "stdout",
     "output_type": "stream",
     "text": [
      "Choosing the most present label\n",
      "Propagation labels\n"
     ]
    },
    {
     "name": "stderr",
     "output_type": "stream",
     "text": [
      "100%|██████████| 20/20 [00:00<00:00, 547.99it/s]\n"
     ]
    },
    {
     "name": "stdout",
     "output_type": "stream",
     "text": [
      "Converting to csr\n",
      "Remaping labels\n"
     ]
    },
    {
     "name": "stderr",
     "output_type": "stream",
     "text": [
      "100%|██████████| 32000/32000 [00:00<00:00, 3199697.90it/s]"
     ]
    },
    {
     "name": "stdout",
     "output_type": "stream",
     "text": [
      "Testing testing set accuracy\n"
     ]
    },
    {
     "name": "stderr",
     "output_type": "stream",
     "text": [
      "\n"
     ]
    },
    {
     "name": "stdout",
     "output_type": "stream",
     "text": [
      "Testing reconstruction accuracy\n",
      "\n",
      "####################\n",
      "cur_time()='3:37:24'\n",
      "k=32\n",
      "s=32000\n",
      "p=0.9\n",
      "reduction=76\n",
      "reconstruction_acc=89.03\n",
      "test_acc=47.4\n",
      "####################\n",
      "\n",
      "Creating matrix graph\n"
     ]
    },
    {
     "name": "stderr",
     "output_type": "stream",
     "text": [
      "100%|██████████| 76/76 [00:00<00:00, 50605.99it/s]\n"
     ]
    },
    {
     "name": "stdout",
     "output_type": "stream",
     "text": [
      "Creating oht label graph\n"
     ]
    },
    {
     "name": "stderr",
     "output_type": "stream",
     "text": [
      "100%|██████████| 32000/32000 [00:00<00:00, 2559648.49it/s]\n"
     ]
    },
    {
     "name": "stdout",
     "output_type": "stream",
     "text": [
      "Choosing the most present label\n",
      "Propagation labels\n"
     ]
    },
    {
     "name": "stderr",
     "output_type": "stream",
     "text": [
      "100%|██████████| 20/20 [00:00<00:00, 2667.45it/s]\n"
     ]
    },
    {
     "name": "stdout",
     "output_type": "stream",
     "text": [
      "Converting to csr\n",
      "Remaping labels\n"
     ]
    },
    {
     "name": "stderr",
     "output_type": "stream",
     "text": [
      "100%|██████████| 32000/32000 [00:00<00:00, 3200308.26it/s]\n"
     ]
    },
    {
     "name": "stdout",
     "output_type": "stream",
     "text": [
      "Testing testing set accuracy\n",
      "Testing reconstruction accuracy\n",
      "\n",
      "####################\n",
      "cur_time()='3:37:27'\n",
      "k=32\n",
      "s=32000\n",
      "p=0.99\n",
      "reduction=76\n",
      "reconstruction_acc=87.64999999999999\n",
      "test_acc=47.4\n",
      "####################\n",
      "\n",
      "Creating matrix graph\n"
     ]
    },
    {
     "name": "stderr",
     "output_type": "stream",
     "text": [
      "100%|██████████| 76/76 [00:00<00:00, 76059.92it/s]\n"
     ]
    },
    {
     "name": "stdout",
     "output_type": "stream",
     "text": [
      "Creating oht label graph\n"
     ]
    },
    {
     "name": "stderr",
     "output_type": "stream",
     "text": [
      "100%|██████████| 32000/32000 [00:00<00:00, 2908608.26it/s]\n"
     ]
    },
    {
     "name": "stdout",
     "output_type": "stream",
     "text": [
      "Choosing the most present label\n",
      "Propagation labels\n"
     ]
    },
    {
     "name": "stderr",
     "output_type": "stream",
     "text": [
      "100%|██████████| 20/20 [00:00<00:00, 2857.64it/s]\n"
     ]
    },
    {
     "name": "stdout",
     "output_type": "stream",
     "text": [
      "Converting to csr\n",
      "Remaping labels\n"
     ]
    },
    {
     "name": "stderr",
     "output_type": "stream",
     "text": [
      "100%|██████████| 32000/32000 [00:00<00:00, 3047701.54it/s]"
     ]
    },
    {
     "name": "stdout",
     "output_type": "stream",
     "text": [
      "Testing testing set accuracy\n"
     ]
    },
    {
     "name": "stderr",
     "output_type": "stream",
     "text": [
      "\n"
     ]
    },
    {
     "name": "stdout",
     "output_type": "stream",
     "text": [
      "Testing reconstruction accuracy\n",
      "\n",
      "####################\n",
      "cur_time()='3:37:30'\n",
      "k=32\n",
      "s=32000\n",
      "p=0.999\n",
      "reduction=76\n",
      "reconstruction_acc=74.89\n",
      "test_acc=47.4\n",
      "####################\n",
      "\n",
      "Creating matrix graph\n"
     ]
    },
    {
     "name": "stderr",
     "output_type": "stream",
     "text": [
      "100%|██████████| 76/76 [00:00<00:00, 50686.45it/s]\n"
     ]
    },
    {
     "name": "stdout",
     "output_type": "stream",
     "text": [
      "Creating oht label graph\n"
     ]
    },
    {
     "name": "stderr",
     "output_type": "stream",
     "text": [
      "100%|██████████| 32000/32000 [00:00<00:00, 2783560.66it/s]\n"
     ]
    },
    {
     "name": "stdout",
     "output_type": "stream",
     "text": [
      "Choosing the most present label\n",
      "Propagation labels\n"
     ]
    },
    {
     "name": "stderr",
     "output_type": "stream",
     "text": [
      "100%|██████████| 20/20 [00:00<00:00, 2856.96it/s]\n"
     ]
    },
    {
     "name": "stdout",
     "output_type": "stream",
     "text": [
      "Converting to csr\n",
      "Remaping labels\n"
     ]
    },
    {
     "name": "stderr",
     "output_type": "stream",
     "text": [
      "100%|██████████| 32000/32000 [00:00<00:00, 3200231.95it/s]"
     ]
    },
    {
     "name": "stdout",
     "output_type": "stream",
     "text": [
      "Testing testing set accuracy\n"
     ]
    },
    {
     "name": "stderr",
     "output_type": "stream",
     "text": [
      "\n"
     ]
    },
    {
     "name": "stdout",
     "output_type": "stream",
     "text": [
      "Testing reconstruction accuracy\n",
      "\n",
      "####################\n",
      "cur_time()='3:37:33'\n",
      "k=32\n",
      "s=32000\n",
      "p=0.9999\n",
      "reduction=76\n",
      "reconstruction_acc=25.929999999999996\n",
      "test_acc=47.4\n",
      "####################\n",
      "\n",
      "\n",
      "#Calculating distances#\n",
      "\n",
      "Constructing knn graph\n"
     ]
    },
    {
     "name": "stderr",
     "output_type": "stream",
     "text": [
      "100%|██████████| 60000/60000 [00:01<00:00, 33426.18it/s]\n"
     ]
    },
    {
     "name": "stdout",
     "output_type": "stream",
     "text": [
      "Converting to csr\n",
      "Converting matrix to pygel using precomputed embedding\n",
      "Creating nodes\n"
     ]
    },
    {
     "name": "stderr",
     "output_type": "stream",
     "text": [
      "60000it [00:00, 249480.52it/s]\n"
     ]
    },
    {
     "name": "stdout",
     "output_type": "stream",
     "text": [
      "Connecting Nodes\n"
     ]
    },
    {
     "name": "stderr",
     "output_type": "stream",
     "text": [
      "100%|██████████| 237808/237808 [00:00<00:00, 1124393.15it/s]\n"
     ]
    },
    {
     "name": "stdout",
     "output_type": "stream",
     "text": [
      "Skeletonization has yielded 60000 -> 50046 nodes\n",
      "Creating matrix graph\n"
     ]
    },
    {
     "name": "stderr",
     "output_type": "stream",
     "text": [
      "100%|██████████| 50046/50046 [00:00<00:00, 70886.77it/s]\n"
     ]
    },
    {
     "name": "stdout",
     "output_type": "stream",
     "text": [
      "Creating oht label graph\n"
     ]
    },
    {
     "name": "stderr",
     "output_type": "stream",
     "text": [
      "100%|██████████| 60000/60000 [00:00<00:00, 1875066.05it/s]\n"
     ]
    },
    {
     "name": "stdout",
     "output_type": "stream",
     "text": [
      "Choosing the most present label\n",
      "Propagation labels\n"
     ]
    },
    {
     "name": "stderr",
     "output_type": "stream",
     "text": [
      "100%|██████████| 20/20 [00:02<00:00,  9.78it/s]\n"
     ]
    },
    {
     "name": "stdout",
     "output_type": "stream",
     "text": [
      "Converting to csr\n",
      "Remaping labels\n"
     ]
    },
    {
     "name": "stderr",
     "output_type": "stream",
     "text": [
      "100%|██████████| 60000/60000 [00:00<00:00, 3158004.74it/s]"
     ]
    },
    {
     "name": "stdout",
     "output_type": "stream",
     "text": [
      "Testing testing set accuracy\n"
     ]
    },
    {
     "name": "stderr",
     "output_type": "stream",
     "text": [
      "\n"
     ]
    },
    {
     "name": "stdout",
     "output_type": "stream",
     "text": [
      "Testing reconstruction accuracy\n",
      "\n",
      "####################\n",
      "cur_time()='3:42:59'\n",
      "k=4\n",
      "s=60000\n",
      "p=0.9\n",
      "reduction=50046\n",
      "reconstruction_acc=96.17999999999999\n",
      "test_acc=47.4\n",
      "####################\n",
      "\n",
      "Creating matrix graph\n"
     ]
    },
    {
     "name": "stderr",
     "output_type": "stream",
     "text": [
      "100%|██████████| 50046/50046 [00:00<00:00, 69172.28it/s]\n"
     ]
    },
    {
     "name": "stdout",
     "output_type": "stream",
     "text": [
      "Creating oht label graph\n"
     ]
    },
    {
     "name": "stderr",
     "output_type": "stream",
     "text": [
      "100%|██████████| 60000/60000 [00:00<00:00, 2790992.81it/s]\n"
     ]
    },
    {
     "name": "stdout",
     "output_type": "stream",
     "text": [
      "Choosing the most present label\n",
      "Propagation labels\n"
     ]
    },
    {
     "name": "stderr",
     "output_type": "stream",
     "text": [
      "100%|██████████| 20/20 [00:01<00:00, 10.58it/s]\n"
     ]
    },
    {
     "name": "stdout",
     "output_type": "stream",
     "text": [
      "Converting to csr\n",
      "Remaping labels\n"
     ]
    },
    {
     "name": "stderr",
     "output_type": "stream",
     "text": [
      "100%|██████████| 60000/60000 [00:00<00:00, 3158084.00it/s]\n"
     ]
    },
    {
     "name": "stdout",
     "output_type": "stream",
     "text": [
      "Testing testing set accuracy\n",
      "Testing reconstruction accuracy\n",
      "\n",
      "####################\n",
      "cur_time()='3:43:17'\n",
      "k=4\n",
      "s=60000\n",
      "p=0.99\n",
      "reduction=50046\n",
      "reconstruction_acc=94.01\n",
      "test_acc=47.4\n",
      "####################\n",
      "\n",
      "Creating matrix graph\n"
     ]
    },
    {
     "name": "stderr",
     "output_type": "stream",
     "text": [
      "100%|██████████| 50046/50046 [00:00<00:00, 69556.61it/s]\n"
     ]
    },
    {
     "name": "stdout",
     "output_type": "stream",
     "text": [
      "Creating oht label graph\n"
     ]
    },
    {
     "name": "stderr",
     "output_type": "stream",
     "text": [
      "100%|██████████| 60000/60000 [00:00<00:00, 2857122.88it/s]\n"
     ]
    },
    {
     "name": "stdout",
     "output_type": "stream",
     "text": [
      "Choosing the most present label\n",
      "Propagation labels\n"
     ]
    },
    {
     "name": "stderr",
     "output_type": "stream",
     "text": [
      "100%|██████████| 20/20 [00:01<00:00, 11.49it/s]\n"
     ]
    },
    {
     "name": "stdout",
     "output_type": "stream",
     "text": [
      "Converting to csr\n",
      "Remaping labels\n"
     ]
    },
    {
     "name": "stderr",
     "output_type": "stream",
     "text": [
      "100%|██████████| 60000/60000 [00:00<00:00, 3333177.57it/s]\n"
     ]
    },
    {
     "name": "stdout",
     "output_type": "stream",
     "text": [
      "Testing testing set accuracy\n",
      "Testing reconstruction accuracy\n",
      "\n",
      "####################\n",
      "cur_time()='3:43:34'\n",
      "k=4\n",
      "s=60000\n",
      "p=0.999\n",
      "reduction=50046\n",
      "reconstruction_acc=52.32\n",
      "test_acc=47.4\n",
      "####################\n",
      "\n",
      "Creating matrix graph\n"
     ]
    },
    {
     "name": "stderr",
     "output_type": "stream",
     "text": [
      "100%|██████████| 50046/50046 [00:00<00:00, 69653.64it/s]\n"
     ]
    },
    {
     "name": "stdout",
     "output_type": "stream",
     "text": [
      "Creating oht label graph\n"
     ]
    },
    {
     "name": "stderr",
     "output_type": "stream",
     "text": [
      "100%|██████████| 60000/60000 [00:00<00:00, 2927211.65it/s]\n"
     ]
    },
    {
     "name": "stdout",
     "output_type": "stream",
     "text": [
      "Choosing the most present label\n",
      "Propagation labels\n"
     ]
    },
    {
     "name": "stderr",
     "output_type": "stream",
     "text": [
      "100%|██████████| 20/20 [00:01<00:00, 11.79it/s]\n"
     ]
    },
    {
     "name": "stdout",
     "output_type": "stream",
     "text": [
      "Converting to csr\n",
      "Remaping labels\n"
     ]
    },
    {
     "name": "stderr",
     "output_type": "stream",
     "text": [
      "100%|██████████| 60000/60000 [00:00<00:00, 3157925.49it/s]\n"
     ]
    },
    {
     "name": "stdout",
     "output_type": "stream",
     "text": [
      "Testing testing set accuracy\n",
      "Testing reconstruction accuracy\n",
      "\n",
      "####################\n",
      "cur_time()='3:43:51'\n",
      "k=4\n",
      "s=60000\n",
      "p=0.9999\n",
      "reduction=50046\n",
      "reconstruction_acc=17.44\n",
      "test_acc=47.4\n",
      "####################\n",
      "\n",
      "Constructing knn graph\n"
     ]
    },
    {
     "name": "stderr",
     "output_type": "stream",
     "text": [
      "100%|██████████| 60000/60000 [00:02<00:00, 26642.99it/s]\n"
     ]
    },
    {
     "name": "stdout",
     "output_type": "stream",
     "text": [
      "Converting to csr\n",
      "Converting matrix to pygel using precomputed embedding\n",
      "Creating nodes\n"
     ]
    },
    {
     "name": "stderr",
     "output_type": "stream",
     "text": [
      "60000it [00:00, 250002.47it/s]\n"
     ]
    },
    {
     "name": "stdout",
     "output_type": "stream",
     "text": [
      "Connecting Nodes\n"
     ]
    },
    {
     "name": "stderr",
     "output_type": "stream",
     "text": [
      "100%|██████████| 1111258/1111258 [00:01<00:00, 1066465.13it/s]\n"
     ]
    },
    {
     "name": "stdout",
     "output_type": "stream",
     "text": [
      "Skeletonization has yielded 60000 -> 715 nodes\n",
      "Creating matrix graph\n"
     ]
    },
    {
     "name": "stderr",
     "output_type": "stream",
     "text": [
      "100%|██████████| 715/715 [00:00<00:00, 79433.37it/s]\n"
     ]
    },
    {
     "name": "stdout",
     "output_type": "stream",
     "text": [
      "Creating oht label graph\n"
     ]
    },
    {
     "name": "stderr",
     "output_type": "stream",
     "text": [
      "100%|██████████| 60000/60000 [00:00<00:00, 1874842.55it/s]\n"
     ]
    },
    {
     "name": "stdout",
     "output_type": "stream",
     "text": [
      "Choosing the most present label\n",
      "Propagation labels\n"
     ]
    },
    {
     "name": "stderr",
     "output_type": "stream",
     "text": [
      "100%|██████████| 20/20 [00:00<00:00, 754.73it/s]\n"
     ]
    },
    {
     "name": "stdout",
     "output_type": "stream",
     "text": [
      "Converting to csr\n",
      "Remaping labels\n"
     ]
    },
    {
     "name": "stderr",
     "output_type": "stream",
     "text": [
      "100%|██████████| 60000/60000 [00:00<00:00, 3243311.12it/s]"
     ]
    },
    {
     "name": "stdout",
     "output_type": "stream",
     "text": [
      "Testing testing set accuracy\n"
     ]
    },
    {
     "name": "stderr",
     "output_type": "stream",
     "text": [
      "\n"
     ]
    },
    {
     "name": "stdout",
     "output_type": "stream",
     "text": [
      "Testing reconstruction accuracy\n",
      "\n",
      "####################\n",
      "cur_time()='3:52:39'\n",
      "k=16\n",
      "s=60000\n",
      "p=0.9\n",
      "reduction=715\n",
      "reconstruction_acc=95.8\n",
      "test_acc=47.4\n",
      "####################\n",
      "\n",
      "Creating matrix graph\n"
     ]
    },
    {
     "name": "stderr",
     "output_type": "stream",
     "text": [
      "100%|██████████| 715/715 [00:00<00:00, 79462.83it/s]\n"
     ]
    },
    {
     "name": "stdout",
     "output_type": "stream",
     "text": [
      "Creating oht label graph\n"
     ]
    },
    {
     "name": "stderr",
     "output_type": "stream",
     "text": [
      "100%|██████████| 60000/60000 [00:00<00:00, 2727588.66it/s]\n"
     ]
    },
    {
     "name": "stdout",
     "output_type": "stream",
     "text": [
      "Choosing the most present label\n",
      "Propagation labels\n"
     ]
    },
    {
     "name": "stderr",
     "output_type": "stream",
     "text": [
      "100%|██████████| 20/20 [00:00<00:00, 888.99it/s]\n"
     ]
    },
    {
     "name": "stdout",
     "output_type": "stream",
     "text": [
      "Converting to csr\n",
      "Remaping labels\n"
     ]
    },
    {
     "name": "stderr",
     "output_type": "stream",
     "text": [
      "100%|██████████| 60000/60000 [00:00<00:00, 3243311.12it/s]"
     ]
    },
    {
     "name": "stdout",
     "output_type": "stream",
     "text": [
      "Testing testing set accuracy\n"
     ]
    },
    {
     "name": "stderr",
     "output_type": "stream",
     "text": [
      "\n"
     ]
    },
    {
     "name": "stdout",
     "output_type": "stream",
     "text": [
      "Testing reconstruction accuracy\n",
      "\n",
      "####################\n",
      "cur_time()='3:52:44'\n",
      "k=16\n",
      "s=60000\n",
      "p=0.99\n",
      "reduction=715\n",
      "reconstruction_acc=91.29\n",
      "test_acc=47.4\n",
      "####################\n",
      "\n",
      "Creating matrix graph\n"
     ]
    },
    {
     "name": "stderr",
     "output_type": "stream",
     "text": [
      "100%|██████████| 715/715 [00:00<00:00, 65021.62it/s]\n"
     ]
    },
    {
     "name": "stdout",
     "output_type": "stream",
     "text": [
      "Creating oht label graph\n"
     ]
    },
    {
     "name": "stderr",
     "output_type": "stream",
     "text": [
      "100%|██████████| 60000/60000 [00:00<00:00, 2999752.54it/s]\n"
     ]
    },
    {
     "name": "stdout",
     "output_type": "stream",
     "text": [
      "Choosing the most present label\n",
      "Propagation labels\n"
     ]
    },
    {
     "name": "stderr",
     "output_type": "stream",
     "text": [
      "100%|██████████| 20/20 [00:00<00:00, 952.41it/s]\n"
     ]
    },
    {
     "name": "stdout",
     "output_type": "stream",
     "text": [
      "Converting to csr\n",
      "Remaping labels\n"
     ]
    },
    {
     "name": "stderr",
     "output_type": "stream",
     "text": [
      "100%|██████████| 60000/60000 [00:00<00:00, 3243311.12it/s]"
     ]
    },
    {
     "name": "stdout",
     "output_type": "stream",
     "text": [
      "Testing testing set accuracy\n"
     ]
    },
    {
     "name": "stderr",
     "output_type": "stream",
     "text": [
      "\n"
     ]
    },
    {
     "name": "stdout",
     "output_type": "stream",
     "text": [
      "Testing reconstruction accuracy\n",
      "\n",
      "####################\n",
      "cur_time()='3:52:50'\n",
      "k=16\n",
      "s=60000\n",
      "p=0.999\n",
      "reduction=715\n",
      "reconstruction_acc=67.58999999999999\n",
      "test_acc=47.4\n",
      "####################\n",
      "\n",
      "Creating matrix graph\n"
     ]
    },
    {
     "name": "stderr",
     "output_type": "stream",
     "text": [
      "100%|██████████| 715/715 [00:00<00:00, 84102.51it/s]\n"
     ]
    },
    {
     "name": "stdout",
     "output_type": "stream",
     "text": [
      "Creating oht label graph\n"
     ]
    },
    {
     "name": "stderr",
     "output_type": "stream",
     "text": [
      "100%|██████████| 60000/60000 [00:00<00:00, 2857382.40it/s]\n"
     ]
    },
    {
     "name": "stdout",
     "output_type": "stream",
     "text": [
      "Choosing the most present label\n",
      "Propagation labels\n"
     ]
    },
    {
     "name": "stderr",
     "output_type": "stream",
     "text": [
      "100%|██████████| 20/20 [00:00<00:00, 1111.12it/s]\n"
     ]
    },
    {
     "name": "stdout",
     "output_type": "stream",
     "text": [
      "Converting to csr\n",
      "Remaping labels\n"
     ]
    },
    {
     "name": "stderr",
     "output_type": "stream",
     "text": [
      "100%|██████████| 60000/60000 [00:00<00:00, 3157965.11it/s]"
     ]
    },
    {
     "name": "stdout",
     "output_type": "stream",
     "text": [
      "Testing testing set accuracy\n"
     ]
    },
    {
     "name": "stderr",
     "output_type": "stream",
     "text": [
      "\n"
     ]
    },
    {
     "name": "stdout",
     "output_type": "stream",
     "text": [
      "Testing reconstruction accuracy\n",
      "\n",
      "####################\n",
      "cur_time()='3:52:56'\n",
      "k=16\n",
      "s=60000\n",
      "p=0.9999\n",
      "reduction=715\n",
      "reconstruction_acc=40.42\n",
      "test_acc=47.4\n",
      "####################\n",
      "\n",
      "Constructing knn graph\n"
     ]
    },
    {
     "name": "stderr",
     "output_type": "stream",
     "text": [
      "100%|██████████| 60000/60000 [00:02<00:00, 23192.88it/s]\n"
     ]
    },
    {
     "name": "stdout",
     "output_type": "stream",
     "text": [
      "Converting to csr\n",
      "Converting matrix to pygel using precomputed embedding\n",
      "Creating nodes\n"
     ]
    },
    {
     "name": "stderr",
     "output_type": "stream",
     "text": [
      "60000it [00:00, 243902.15it/s]\n"
     ]
    },
    {
     "name": "stdout",
     "output_type": "stream",
     "text": [
      "Connecting Nodes\n"
     ]
    },
    {
     "name": "stderr",
     "output_type": "stream",
     "text": [
      "100%|██████████| 2264710/2264710 [00:02<00:00, 1027778.74it/s]\n"
     ]
    },
    {
     "name": "stdout",
     "output_type": "stream",
     "text": [
      "Skeletonization has yielded 60000 -> 90 nodes\n",
      "Creating matrix graph\n"
     ]
    },
    {
     "name": "stderr",
     "output_type": "stream",
     "text": [
      "100%|██████████| 90/90 [00:00<00:00, 60109.45it/s]\n"
     ]
    },
    {
     "name": "stdout",
     "output_type": "stream",
     "text": [
      "Creating oht label graph\n"
     ]
    },
    {
     "name": "stderr",
     "output_type": "stream",
     "text": [
      "100%|██████████| 60000/60000 [00:00<00:00, 1875121.94it/s]\n"
     ]
    },
    {
     "name": "stdout",
     "output_type": "stream",
     "text": [
      "Choosing the most present label\n",
      "Propagation labels\n"
     ]
    },
    {
     "name": "stderr",
     "output_type": "stream",
     "text": [
      "100%|██████████| 20/20 [00:00<00:00, 2499.59it/s]\n"
     ]
    },
    {
     "name": "stdout",
     "output_type": "stream",
     "text": [
      "Converting to csr\n",
      "Remaping labels\n"
     ]
    },
    {
     "name": "stderr",
     "output_type": "stream",
     "text": [
      "100%|██████████| 60000/60000 [00:00<00:00, 3243729.17it/s]"
     ]
    },
    {
     "name": "stdout",
     "output_type": "stream",
     "text": [
      "Testing testing set accuracy\n"
     ]
    },
    {
     "name": "stderr",
     "output_type": "stream",
     "text": [
      "\n"
     ]
    },
    {
     "name": "stdout",
     "output_type": "stream",
     "text": [
      "Testing reconstruction accuracy\n",
      "\n",
      "####################\n",
      "cur_time()='5:6:8'\n",
      "k=32\n",
      "s=60000\n",
      "p=0.9\n",
      "reduction=90\n",
      "reconstruction_acc=94.05\n",
      "test_acc=47.4\n",
      "####################\n",
      "\n",
      "Creating matrix graph\n"
     ]
    },
    {
     "name": "stderr",
     "output_type": "stream",
     "text": [
      "100%|██████████| 90/90 [00:00<00:00, 89749.73it/s]\n"
     ]
    },
    {
     "name": "stdout",
     "output_type": "stream",
     "text": [
      "Creating oht label graph\n"
     ]
    },
    {
     "name": "stderr",
     "output_type": "stream",
     "text": [
      "100%|██████████| 60000/60000 [00:00<00:00, 2666973.01it/s]\n"
     ]
    },
    {
     "name": "stdout",
     "output_type": "stream",
     "text": [
      "Choosing the most present label\n",
      "Propagation labels\n"
     ]
    },
    {
     "name": "stderr",
     "output_type": "stream",
     "text": [
      "100%|██████████| 20/20 [00:00<00:00, 350.87it/s]\n"
     ]
    },
    {
     "name": "stdout",
     "output_type": "stream",
     "text": [
      "Converting to csr\n",
      "Remaping labels\n"
     ]
    },
    {
     "name": "stderr",
     "output_type": "stream",
     "text": [
      "100%|██████████| 60000/60000 [00:00<00:00, 3242809.61it/s]"
     ]
    },
    {
     "name": "stdout",
     "output_type": "stream",
     "text": [
      "Testing testing set accuracy\n"
     ]
    },
    {
     "name": "stderr",
     "output_type": "stream",
     "text": [
      "\n"
     ]
    },
    {
     "name": "stdout",
     "output_type": "stream",
     "text": [
      "Testing reconstruction accuracy\n",
      "\n",
      "####################\n",
      "cur_time()='5:6:14'\n",
      "k=32\n",
      "s=60000\n",
      "p=0.99\n",
      "reduction=90\n",
      "reconstruction_acc=94.02000000000001\n",
      "test_acc=47.4\n",
      "####################\n",
      "\n",
      "Creating matrix graph\n"
     ]
    },
    {
     "name": "stderr",
     "output_type": "stream",
     "text": [
      "100%|██████████| 90/90 [00:00<00:00, 59947.17it/s]\n"
     ]
    },
    {
     "name": "stdout",
     "output_type": "stream",
     "text": [
      "Creating oht label graph\n"
     ]
    },
    {
     "name": "stderr",
     "output_type": "stream",
     "text": [
      "100%|██████████| 60000/60000 [00:00<00:00, 2857122.88it/s]\n"
     ]
    },
    {
     "name": "stdout",
     "output_type": "stream",
     "text": [
      "Choosing the most present label\n",
      "Propagation labels\n"
     ]
    },
    {
     "name": "stderr",
     "output_type": "stream",
     "text": [
      "100%|██████████| 20/20 [00:00<00:00, 2499.21it/s]\n"
     ]
    },
    {
     "name": "stdout",
     "output_type": "stream",
     "text": [
      "Converting to csr\n",
      "Remaping labels\n"
     ]
    },
    {
     "name": "stderr",
     "output_type": "stream",
     "text": [
      "100%|██████████| 60000/60000 [00:00<00:00, 3333354.17it/s]"
     ]
    },
    {
     "name": "stdout",
     "output_type": "stream",
     "text": [
      "Testing testing set accuracy\n"
     ]
    },
    {
     "name": "stderr",
     "output_type": "stream",
     "text": [
      "\n"
     ]
    },
    {
     "name": "stdout",
     "output_type": "stream",
     "text": [
      "Testing reconstruction accuracy\n",
      "\n",
      "####################\n",
      "cur_time()='5:6:20'\n",
      "k=32\n",
      "s=60000\n",
      "p=0.999\n",
      "reduction=90\n",
      "reconstruction_acc=86.42999999999999\n",
      "test_acc=47.4\n",
      "####################\n",
      "\n",
      "Creating matrix graph\n"
     ]
    },
    {
     "name": "stderr",
     "output_type": "stream",
     "text": [
      "100%|██████████| 90/90 [00:00<00:00, 59985.28it/s]\n"
     ]
    },
    {
     "name": "stdout",
     "output_type": "stream",
     "text": [
      "Creating oht label graph\n"
     ]
    },
    {
     "name": "stderr",
     "output_type": "stream",
     "text": [
      "100%|██████████| 60000/60000 [00:00<00:00, 2927041.42it/s]\n"
     ]
    },
    {
     "name": "stdout",
     "output_type": "stream",
     "text": [
      "Choosing the most present label\n",
      "Propagation labels\n"
     ]
    },
    {
     "name": "stderr",
     "output_type": "stream",
     "text": [
      "100%|██████████| 20/20 [00:00<00:00, 2667.28it/s]\n"
     ]
    },
    {
     "name": "stdout",
     "output_type": "stream",
     "text": [
      "Converting to csr\n",
      "Remaping labels\n"
     ]
    },
    {
     "name": "stderr",
     "output_type": "stream",
     "text": [
      "100%|██████████| 60000/60000 [00:00<00:00, 3243603.74it/s]"
     ]
    },
    {
     "name": "stdout",
     "output_type": "stream",
     "text": [
      "Testing testing set accuracy\n"
     ]
    },
    {
     "name": "stderr",
     "output_type": "stream",
     "text": [
      "\n"
     ]
    },
    {
     "name": "stdout",
     "output_type": "stream",
     "text": [
      "Testing reconstruction accuracy\n",
      "\n",
      "####################\n",
      "cur_time()='5:6:26'\n",
      "k=32\n",
      "s=60000\n",
      "p=0.9999\n",
      "reduction=90\n",
      "reconstruction_acc=48.83\n",
      "test_acc=47.4\n",
      "####################\n",
      "\n"
     ]
    }
   ],
   "source": [
    "test_x, test_Y = MNIST.load_pymde_testset()\r\n",
    "true_test_Y = np.copy(test_Y)\r\n",
    "lp_test_result = []\r\n",
    "for s in sizes:\r\n",
    "    train_x, train_Y, embedding = Graph.load_embedding(s)\r\n",
    "    print(\"\\n#Calculating distances#\\n\")\r\n",
    "    dist = cdist(test_x, train_x, metric=\"euclidean\")\r\n",
    "    for k in Ks:\r\n",
    "        g = Graph.construct_knn_graph_3(embedding, k=k)\r\n",
    "        pg = Skeletonize.from_matrix_embedding_to_pygel(g, embedding)\r\n",
    "        spg, smap, reduction = Skeletonize.local_skeletonize_pg(pg)\r\n",
    "        for p in forget_percentage:\r\n",
    "            oht = Graph.one_hot_encode_labels(train_Y)\r\n",
    "            oht, forg_indices = Graph.forget_oht_labels(oht, forget_percentage=p)\r\n",
    "\r\n",
    "            forg_labels = np.copy(train_Y)\r\n",
    "            forg_labels[forg_indices] = -1\r\n",
    "\r\n",
    "            sparse_oht = csr_matrix(oht)\r\n",
    "\r\n",
    "            smg, slbls = Skeletonize.from_pygel_to_matrix(spg, forg_labels, smap)\r\n",
    "            prop_labels = Graph.propagate_labels(smg, slbls)\r\n",
    "            relbls = Skeletonize.remap_labels(prop_labels, smap)\r\n",
    "\r\n",
    "            true_lbls = train_Y[forg_indices]\r\n",
    "            pred_lbls = relbls[forg_indices]\r\n",
    "\r\n",
    "            reconstruction_acc = Graph.test_nums_accuracy(train_x, test_x, relbls, test_Y, k=k, dist=dist)\r\n",
    "\r\n",
    "            print(f\"\\n####################\\n{cur_time()=}\\n{k=}\\n{s=}\\n{p=}\\n{reduction=}\\n{reconstruction_acc=}\\n{test_acc=}\\n####################\\n\")\r\n",
    "\r\n",
    "            srg_test_result.append([s, k, p, reconstruction_acc, test_acc, reduction])"
   ]
  },
  {
   "cell_type": "code",
   "execution_count": 90,
   "metadata": {},
   "outputs": [],
   "source": [
    "num_of_tries = len([x for x in os.listdir(SAVE_PATH) if \"srg_lp_\" in x])\r\n",
    "np.savetxt(os.path.join(SAVE_PATH, f\"srg_lp_{num_of_tries}.csv\"), lp_test_result, delimiter=\",\", fmt=\"%f\", header=\"Size, Num neighbors, forgot_percentage, reconstruction, test, reduction\")"
   ]
  }
 ],
 "metadata": {
  "interpreter": {
   "hash": "27fe2b2542c299aa4a581cc94931f279d393b4ec0f58ed6d304ccf002828e2f8"
  },
  "kernelspec": {
   "display_name": "Python 3.9.1 64-bit ('venv': venv)",
   "name": "python3"
  },
  "language_info": {
   "name": "python",
   "version": ""
  },
  "orig_nbformat": 4
 },
 "nbformat": 4,
 "nbformat_minor": 2
}