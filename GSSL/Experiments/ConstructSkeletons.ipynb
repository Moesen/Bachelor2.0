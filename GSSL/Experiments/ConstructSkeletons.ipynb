{
 "cells": [
  {
   "cell_type": "code",
   "execution_count": 2,
   "metadata": {},
   "outputs": [],
   "source": [
    "import sys\r\n",
    "sys.path.append(\"..\")"
   ]
  },
  {
   "cell_type": "code",
   "execution_count": 3,
   "metadata": {},
   "outputs": [
    {
     "data": {
      "text/plain": [
       "<module 'MNIST' from '..\\\\MNIST.py'>"
      ]
     },
     "execution_count": 3,
     "metadata": {},
     "output_type": "execute_result"
    }
   ],
   "source": [
    "import Graph\r\n",
    "import pygel3d\r\n",
    "import MNIST\r\n",
    "from importlib import reload\r\n",
    "from scipy.sparse import csr_matrix\r\n",
    "import numpy as np\r\n",
    "import os\r\n",
    "import time\r\n",
    "import Skeletonize\r\n",
    "from scipy.spatial.distance import cdist\r\n",
    "from tqdm import tqdm\r\n",
    "\r\n",
    "reload(Graph)\r\n",
    "reload(Skeletonize)\r\n",
    "reload(MNIST)"
   ]
  },
  {
   "cell_type": "code",
   "execution_count": 4,
   "metadata": {},
   "outputs": [],
   "source": [
    "def cur_time():\r\n",
    "    t = time.localtime()\r\n",
    "    return f\"{t.tm_hour}:{t.tm_min}:{t.tm_sec}\""
   ]
  },
  {
   "cell_type": "code",
   "execution_count": 5,
   "metadata": {},
   "outputs": [
    {
     "name": "stdout",
     "output_type": "stream",
     "text": [
      "Aug 18 12:31:42 AM: Loading cached dataset.\n"
     ]
    }
   ],
   "source": [
    "size = 60000\r\n",
    "train_x, train_Y, embedding = Graph.load_embedding(size)\r\n",
    "test_x, test_Y = MNIST.load_pymde_testset()\r\n",
    "SAVE_PATH = r\"F:\\Git\\Bachelor2.0\\Data\\Skeletons\""
   ]
  },
  {
   "cell_type": "code",
   "execution_count": 6,
   "metadata": {},
   "outputs": [
    {
     "name": "stdout",
     "output_type": "stream",
     "text": [
      "Constructing knn graph\n"
     ]
    },
    {
     "name": "stderr",
     "output_type": "stream",
     "text": [
      "100%|██████████| 60000/60000 [00:02<00:00, 23800.07it/s]\n"
     ]
    },
    {
     "name": "stdout",
     "output_type": "stream",
     "text": [
      "Converting to csr\n",
      "Converting matrix to pygel using precomputed embedding\n",
      "Creating nodes\n"
     ]
    },
    {
     "name": "stderr",
     "output_type": "stream",
     "text": [
      "60000it [00:00, 252628.59it/s]\n"
     ]
    },
    {
     "name": "stdout",
     "output_type": "stream",
     "text": [
      "Connecting Nodes\n"
     ]
    },
    {
     "name": "stderr",
     "output_type": "stream",
     "text": [
      "100%|██████████| 1543912/1543912 [00:01<00:00, 1009091.73it/s]\n"
     ]
    },
    {
     "name": "stdout",
     "output_type": "stream",
     "text": [
      "Skeletonization has yielded 60000 -> 203 nodes\n",
      "k=22 computed\n",
      "Constructing knn graph\n"
     ]
    },
    {
     "name": "stderr",
     "output_type": "stream",
     "text": [
      "100%|██████████| 60000/60000 [00:02<00:00, 24217.96it/s]\n"
     ]
    },
    {
     "name": "stdout",
     "output_type": "stream",
     "text": [
      "Converting to csr\n",
      "Converting matrix to pygel using precomputed embedding\n",
      "Creating nodes\n"
     ]
    },
    {
     "name": "stderr",
     "output_type": "stream",
     "text": [
      "60000it [00:00, 254775.93it/s]\n"
     ]
    },
    {
     "name": "stdout",
     "output_type": "stream",
     "text": [
      "Connecting Nodes\n"
     ]
    },
    {
     "name": "stderr",
     "output_type": "stream",
     "text": [
      "100%|██████████| 1688226/1688226 [00:01<00:00, 1035404.27it/s]\n"
     ]
    },
    {
     "name": "stdout",
     "output_type": "stream",
     "text": [
      "Skeletonization has yielded 60000 -> 163 nodes\n",
      "k=24 computed\n",
      "Constructing knn graph\n"
     ]
    },
    {
     "name": "stderr",
     "output_type": "stream",
     "text": [
      "100%|██████████| 60000/60000 [00:02<00:00, 24922.12it/s]\n"
     ]
    },
    {
     "name": "stdout",
     "output_type": "stream",
     "text": [
      "Converting to csr\n",
      "Converting matrix to pygel using precomputed embedding\n",
      "Creating nodes\n"
     ]
    },
    {
     "name": "stderr",
     "output_type": "stream",
     "text": [
      "60000it [00:00, 251045.69it/s]\n"
     ]
    },
    {
     "name": "stdout",
     "output_type": "stream",
     "text": [
      "Connecting Nodes\n"
     ]
    },
    {
     "name": "stderr",
     "output_type": "stream",
     "text": [
      "100%|██████████| 1832848/1832848 [00:01<00:00, 984607.47it/s] \n"
     ]
    },
    {
     "name": "stdout",
     "output_type": "stream",
     "text": [
      "Skeletonization has yielded 60000 -> 130 nodes\n",
      "k=26 computed\n",
      "Constructing knn graph\n"
     ]
    },
    {
     "name": "stderr",
     "output_type": "stream",
     "text": [
      "100%|██████████| 60000/60000 [00:02<00:00, 24149.73it/s]\n"
     ]
    },
    {
     "name": "stdout",
     "output_type": "stream",
     "text": [
      "Converting to csr\n",
      "Converting matrix to pygel using precomputed embedding\n",
      "Creating nodes\n"
     ]
    },
    {
     "name": "stderr",
     "output_type": "stream",
     "text": [
      "60000it [00:00, 248962.97it/s]\n"
     ]
    },
    {
     "name": "stdout",
     "output_type": "stream",
     "text": [
      "Connecting Nodes\n"
     ]
    },
    {
     "name": "stderr",
     "output_type": "stream",
     "text": [
      "100%|██████████| 1976844/1976844 [00:02<00:00, 982281.90it/s] \n"
     ]
    },
    {
     "name": "stdout",
     "output_type": "stream",
     "text": [
      "Skeletonization has yielded 60000 -> 112 nodes\n",
      "k=28 computed\n",
      "Constructing knn graph\n"
     ]
    },
    {
     "name": "stderr",
     "output_type": "stream",
     "text": [
      "100%|██████████| 60000/60000 [00:02<00:00, 22226.33it/s]\n"
     ]
    },
    {
     "name": "stdout",
     "output_type": "stream",
     "text": [
      "Converting to csr\n",
      "Converting matrix to pygel using precomputed embedding\n",
      "Creating nodes\n"
     ]
    },
    {
     "name": "stderr",
     "output_type": "stream",
     "text": [
      "60000it [00:00, 243902.39it/s]\n"
     ]
    },
    {
     "name": "stdout",
     "output_type": "stream",
     "text": [
      "Connecting Nodes\n"
     ]
    },
    {
     "name": "stderr",
     "output_type": "stream",
     "text": [
      "100%|██████████| 2120834/2120834 [00:02<00:00, 954684.58it/s] \n"
     ]
    },
    {
     "name": "stdout",
     "output_type": "stream",
     "text": [
      "Skeletonization has yielded 60000 -> 95 nodes\n",
      "k=30 computed\n",
      "Constructing knn graph\n"
     ]
    },
    {
     "name": "stderr",
     "output_type": "stream",
     "text": [
      "100%|██████████| 60000/60000 [00:02<00:00, 24019.21it/s]\n"
     ]
    },
    {
     "name": "stdout",
     "output_type": "stream",
     "text": [
      "Converting to csr\n",
      "Converting matrix to pygel using precomputed embedding\n",
      "Creating nodes\n"
     ]
    },
    {
     "name": "stderr",
     "output_type": "stream",
     "text": [
      "60000it [00:00, 251045.94it/s]\n"
     ]
    },
    {
     "name": "stdout",
     "output_type": "stream",
     "text": [
      "Connecting Nodes\n"
     ]
    },
    {
     "name": "stderr",
     "output_type": "stream",
     "text": [
      "100%|██████████| 2264710/2264710 [00:02<00:00, 946784.28it/s] \n"
     ]
    },
    {
     "name": "stdout",
     "output_type": "stream",
     "text": [
      "Skeletonization has yielded 60000 -> 90 nodes\n",
      "k=32 computed\n",
      "Constructing knn graph\n"
     ]
    },
    {
     "name": "stderr",
     "output_type": "stream",
     "text": [
      "100%|██████████| 60000/60000 [00:02<00:00, 23310.04it/s]\n"
     ]
    },
    {
     "name": "stdout",
     "output_type": "stream",
     "text": [
      "Converting to csr\n",
      "Converting matrix to pygel using precomputed embedding\n",
      "Creating nodes\n"
     ]
    },
    {
     "name": "stderr",
     "output_type": "stream",
     "text": [
      "60000it [00:00, 248419.35it/s]\n"
     ]
    },
    {
     "name": "stdout",
     "output_type": "stream",
     "text": [
      "Connecting Nodes\n"
     ]
    },
    {
     "name": "stderr",
     "output_type": "stream",
     "text": [
      "100%|██████████| 2408200/2408200 [00:02<00:00, 940163.08it/s] \n"
     ]
    },
    {
     "name": "stdout",
     "output_type": "stream",
     "text": [
      "Skeletonization has yielded 60000 -> 84 nodes\n",
      "k=34 computed\n",
      "Constructing knn graph\n"
     ]
    },
    {
     "name": "stderr",
     "output_type": "stream",
     "text": [
      "100%|██████████| 60000/60000 [00:02<00:00, 23364.48it/s]\n"
     ]
    },
    {
     "name": "stdout",
     "output_type": "stream",
     "text": [
      "Converting to csr\n",
      "Converting matrix to pygel using precomputed embedding\n",
      "Creating nodes\n"
     ]
    },
    {
     "name": "stderr",
     "output_type": "stream",
     "text": [
      "60000it [00:00, 250521.37it/s]\n"
     ]
    },
    {
     "name": "stdout",
     "output_type": "stream",
     "text": [
      "Connecting Nodes\n"
     ]
    },
    {
     "name": "stderr",
     "output_type": "stream",
     "text": [
      "100%|██████████| 2552238/2552238 [00:02<00:00, 947378.20it/s] \n"
     ]
    },
    {
     "name": "stdout",
     "output_type": "stream",
     "text": [
      "Skeletonization has yielded 60000 -> 82 nodes\n",
      "k=36 computed\n",
      "Constructing knn graph\n"
     ]
    },
    {
     "name": "stderr",
     "output_type": "stream",
     "text": [
      "100%|██████████| 60000/60000 [00:02<00:00, 22753.16it/s]\n"
     ]
    },
    {
     "name": "stdout",
     "output_type": "stream",
     "text": [
      "Converting to csr\n",
      "Converting matrix to pygel using precomputed embedding\n",
      "Creating nodes\n"
     ]
    },
    {
     "name": "stderr",
     "output_type": "stream",
     "text": [
      "60000it [00:00, 250000.74it/s]\n"
     ]
    },
    {
     "name": "stdout",
     "output_type": "stream",
     "text": [
      "Connecting Nodes\n"
     ]
    },
    {
     "name": "stderr",
     "output_type": "stream",
     "text": [
      "100%|██████████| 2695556/2695556 [00:02<00:00, 955192.83it/s] \n"
     ]
    },
    {
     "name": "stdout",
     "output_type": "stream",
     "text": [
      "Skeletonization has yielded 60000 -> 76 nodes\n",
      "k=38 computed\n",
      "Constructing knn graph\n"
     ]
    },
    {
     "name": "stderr",
     "output_type": "stream",
     "text": [
      "100%|██████████| 60000/60000 [00:02<00:00, 22417.33it/s]\n"
     ]
    },
    {
     "name": "stdout",
     "output_type": "stream",
     "text": [
      "Converting to csr\n",
      "Converting matrix to pygel using precomputed embedding\n",
      "Creating nodes\n"
     ]
    },
    {
     "name": "stderr",
     "output_type": "stream",
     "text": [
      "60000it [00:00, 249482.50it/s]\n"
     ]
    },
    {
     "name": "stdout",
     "output_type": "stream",
     "text": [
      "Connecting Nodes\n"
     ]
    },
    {
     "name": "stderr",
     "output_type": "stream",
     "text": [
      "100%|██████████| 2839026/2839026 [00:03<00:00, 925217.15it/s] \n"
     ]
    },
    {
     "name": "stdout",
     "output_type": "stream",
     "text": [
      "Skeletonization has yielded 60000 -> 72 nodes\n",
      "k=40 computed\n",
      "Constructing knn graph\n"
     ]
    },
    {
     "name": "stderr",
     "output_type": "stream",
     "text": [
      "100%|██████████| 60000/60000 [00:02<00:00, 22296.55it/s]\n"
     ]
    },
    {
     "name": "stdout",
     "output_type": "stream",
     "text": [
      "Converting to csr\n",
      "Converting matrix to pygel using precomputed embedding\n",
      "Creating nodes\n"
     ]
    },
    {
     "name": "stderr",
     "output_type": "stream",
     "text": [
      "60000it [00:00, 251046.44it/s]\n"
     ]
    },
    {
     "name": "stdout",
     "output_type": "stream",
     "text": [
      "Connecting Nodes\n"
     ]
    },
    {
     "name": "stderr",
     "output_type": "stream",
     "text": [
      "100%|██████████| 2982736/2982736 [00:03<00:00, 957539.86it/s] \n"
     ]
    }
   ],
   "source": [
    "for k in range(22, 101, 2):\r\n",
    "    g = Graph.construct_knn_graph_3(embedding, k=k)\r\n",
    "    pg = Skeletonize.from_matrix_embedding_to_pygel(g, embedding)\r\n",
    "    s, smap, reduction = Skeletonize.local_skeletonize_pg(pg)\r\n",
    "\r\n",
    "    pygel3d.graph.save(os.path.join(SAVE_PATH, f\"skel_{k}.g\"), s)\r\n",
    "    np.save(os.path.join(SAVE_PATH, f\"smap_{k}\"), smap)\r\n",
    "    print(f\"{k=} computed\")"
   ]
  }
 ],
 "metadata": {
  "interpreter": {
   "hash": "27fe2b2542c299aa4a581cc94931f279d393b4ec0f58ed6d304ccf002828e2f8"
  },
  "kernelspec": {
   "display_name": "Python 3.9.1 64-bit ('venv': venv)",
   "name": "python3"
  },
  "language_info": {
   "name": "python",
   "version": ""
  },
  "orig_nbformat": 4
 },
 "nbformat": 4,
 "nbformat_minor": 2
}