{
 "cells": [
  {
   "cell_type": "code",
   "execution_count": null,
   "metadata": {},
   "outputs": [],
   "source": []
  }
 ],
 "metadata": {
  "kernelspec": {
   "display_name": "Python 3.9.1  ('venv': venv)",
   "name": "pythonjvsc74a57bd058aa04b103fd36fc9df9a10149a01a97ade5c9d7d74c8ec61d42dda78da5f273"
  },
  "language_info": {
   "name": "python",
   "version": ""
  },
  "metadata": {
   "interpreter": {
    "hash": "58aa04b103fd36fc9df9a10149a01a97ade5c9d7d74c8ec61d42dda78da5f273"
   }
  },
  "orig_nbformat": 2
 },
 "nbformat": 4,
 "nbformat_minor": 2
}