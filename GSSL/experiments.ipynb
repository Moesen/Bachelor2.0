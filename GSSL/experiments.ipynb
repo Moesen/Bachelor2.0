{
 "cells": [
  {
   "cell_type": "code",
   "execution_count": 2,
   "metadata": {},
   "outputs": [],
   "source": [
    "import numpy as np"
   ]
  },
  {
   "cell_type": "code",
   "execution_count": 39,
   "metadata": {},
   "outputs": [
    {
     "name": "stdout",
     "output_type": "stream",
     "text": [
      "7200000000\n"
     ]
    }
   ],
   "source": [
    "a = np.zeros((60000, 60000), dtype=np.float16)\r\n",
    "print(a.size * a.itemsize)"
   ]
  },
  {
   "cell_type": "code",
   "execution_count": 26,
   "metadata": {},
   "outputs": [],
   "source": [
    "a = np.zeros((28, 28)).flatten()\r\n",
    "b = (np.ones((28, 28)) * 255).flatten()"
   ]
  },
  {
   "cell_type": "code",
   "execution_count": 28,
   "metadata": {},
   "outputs": [
    {
     "name": "stdout",
     "output_type": "stream",
     "text": [
      "7140.0\n"
     ]
    }
   ],
   "source": [
    "from scipy.spatial.distance import euclidean\r\n",
    "print(euclidean(a, b))"
   ]
  },
  {
   "cell_type": "code",
   "execution_count": 40,
   "metadata": {},
   "outputs": [
    {
     "name": "stdout",
     "output_type": "stream",
     "text": [
      "65500.0\n",
      "255\n"
     ]
    }
   ],
   "source": [
    "# Max size of float and ints\r\n",
    "print(np.finfo(np.float16).max)\r\n",
    "print(np.iinfo(np.uint8).max)"
   ]
  },
  {
   "cell_type": "code",
   "execution_count": 143,
   "metadata": {},
   "outputs": [
    {
     "name": "stdout",
     "output_type": "stream",
     "text": [
      "[[   0. 2388. 2774. 2554.]\n",
      " [2388.    0. 2898. 2766.]\n",
      " [2774. 2898.    0. 2572.]\n",
      " [2554. 2766. 2572.    0.]]\n"
     ]
    }
   ],
   "source": [
    "import DistMatrix\r\n",
    "dm = DistMatrix.load_dist_matrix(10)\r\n",
    "dm = dm[:4, :4]\r\n",
    "print(dm)"
   ]
  },
  {
   "cell_type": "code",
   "execution_count": 147,
   "metadata": {},
   "outputs": [
    {
     "name": "stderr",
     "output_type": "stream",
     "text": [
      "100%|██████████| 4/4 [00:00<00:00, 8008.22it/s]"
     ]
    },
    {
     "name": "stdout",
     "output_type": "stream",
     "text": [
      "[[   0. 2388. 2774. 2554.]\n",
      " [2388.    0. 2898. 2766.]\n",
      " [2774. 2898.    0. 2572.]\n",
      " [2554. 2766. 2572.    0.]]\n",
      "#\n",
      "#\n",
      " [[0 1 0 1]\n",
      " [1 0 0 0]\n",
      " [0 0 0 1]\n",
      " [1 0 1 0]]\n"
     ]
    },
    {
     "name": "stderr",
     "output_type": "stream",
     "text": [
      "\n"
     ]
    }
   ],
   "source": [
    "import Graph\r\n",
    "import importlib\r\n",
    "importlib.reload(Graph)\r\n",
    "G = Graph.construct_knn_graph(dm, k=1)\r\n",
    "print(dm)\r\n",
    "print(\"#\\n#\\n\", G.toarray())"
   ]
  },
  {
   "cell_type": "code",
   "execution_count": null,
   "metadata": {},
   "outputs": [],
   "source": []
  },
  {
   "cell_type": "code",
   "execution_count": null,
   "metadata": {},
   "outputs": [],
   "source": []
  },
  {
   "cell_type": "code",
   "execution_count": null,
   "metadata": {},
   "outputs": [],
   "source": []
  },
  {
   "cell_type": "code",
   "execution_count": 60,
   "metadata": {},
   "outputs": [
    {
     "name": "stdout",
     "output_type": "stream",
     "text": [
      "[1 1 1]\n",
      "[1 1 1]\n"
     ]
    }
   ],
   "source": [
    "a = np.array([1,1,1])\r\n",
    "print(a)\r\n",
    "print(a[:3])"
   ]
  }
 ],
 "metadata": {
  "kernelspec": {
   "display_name": "Python 3.9.1  ('venv': venv)",
   "name": "pythonjvsc74a57bd058aa04b103fd36fc9df9a10149a01a97ade5c9d7d74c8ec61d42dda78da5f273"
  },
  "language_info": {
   "codemirror_mode": {
    "name": "ipython",
    "version": 3
   },
   "file_extension": ".py",
   "mimetype": "text/x-python",
   "name": "python",
   "nbconvert_exporter": "python",
   "pygments_lexer": "ipython3",
   "version": "3.9.1"
  },
  "metadata": {
   "interpreter": {
    "hash": "58aa04b103fd36fc9df9a10149a01a97ade5c9d7d74c8ec61d42dda78da5f273"
   }
  },
  "orig_nbformat": 2
 },
 "nbformat": 4,
 "nbformat_minor": 2
}