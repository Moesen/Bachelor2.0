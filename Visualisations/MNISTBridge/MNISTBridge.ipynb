{
 "cells": [
  {
   "cell_type": "code",
   "execution_count": 6,
   "metadata": {},
   "outputs": [],
   "source": [
    "import matplotlib.pyplot as plt\r\n",
    "import pymde\r\n",
    "import numpy as np"
   ]
  },
  {
   "cell_type": "code",
   "execution_count": 2,
   "metadata": {},
   "outputs": [],
   "source": [
    "PYMDE_PATH = r\"F:\\Git\\Bachelor2.0\\Data\\MNIST\\PYMDE\""
   ]
  },
  {
   "cell_type": "code",
   "execution_count": 3,
   "metadata": {},
   "outputs": [
    {
     "name": "stdout",
     "output_type": "stream",
     "text": [
      "Aug 14 11:51:55 PM: Loading cached dataset.\n"
     ]
    }
   ],
   "source": [
    "mnist = pymde.datasets.MNIST(PYMDE_PATH)"
   ]
  },
  {
   "cell_type": "code",
   "execution_count": 4,
   "metadata": {},
   "outputs": [],
   "source": [
    "x, Y = mnist.data.numpy(), mnist.attributes[\"digits\"].numpy()"
   ]
  },
  {
   "cell_type": "code",
   "execution_count": 5,
   "metadata": {},
   "outputs": [],
   "source": [
    "from scipy.spatial.distance import cdist"
   ]
  },
  {
   "cell_type": "code",
   "execution_count": 15,
   "metadata": {},
   "outputs": [],
   "source": [
    "ones_x = x[np.where(Y==1)]\r\n",
    "distance = cdist(ones_x, ones_x, metric=\"euclidean\")"
   ]
  },
  {
   "cell_type": "code",
   "execution_count": 33,
   "metadata": {},
   "outputs": [],
   "source": [
    "max_dist_pair = np.where(distance==np.amax(distance))\r\n",
    "n1, n2 = max_dist_pair[0]\r\n",
    "\r\n",
    "\r\n",
    "min_val = float(\"inf\")\r\n",
    "min_idx = None\r\n",
    "\r\n",
    "for i, (c1, c2) in enumerate(zip(distance[n1], distance[n2])):\r\n",
    "    if np.abs(c1 - c2) < min_val:\r\n",
    "        min_val = np.abs(c1-c2)\r\n",
    "        min_idx = i\r\n"
   ]
  },
  {
   "cell_type": "code",
   "execution_count": 46,
   "metadata": {},
   "outputs": [],
   "source": [
    "from matplotlib.patches import ConnectionPatch"
   ]
  },
  {
   "cell_type": "code",
   "execution_count": 51,
   "metadata": {},
   "outputs": [
    {
     "data": {
      "image/png": "[encoded data removed]",
      "text/plain": [
       "<Figure size 432x144 with 3 Axes>"
      ]
     },
     "metadata": {
      "needs_background": "light"
     },
     "output_type": "display_data"
    }
   ],
   "source": [
    "fig, (ax1, ax2, ax3) = plt.subplots(1, 3, figsize=(6, 2))\r\n",
    "ax1.imshow(ones_x[n1].reshape(28, 28), cmap=\"gray\")\r\n",
    "ax1.set_axis_off()\r\n",
    "ax2.imshow(ones_x[min_idx].reshape(28, 28), cmap=\"gray\")\r\n",
    "ax2.set_axis_off()\r\n",
    "ax3.imshow(ones_x[n2].reshape(28, 28), cmap=\"gray\")\r\n",
    "ax3.set_axis_off()\r\n",
    "plt.tight_layout()\r\n",
    "plt.savefig(\"mnistbridge\")\r\n"
   ]
  }
 ],
 "metadata": {
  "interpreter": {
   "hash": "27fe2b2542c299aa4a581cc94931f279d393b4ec0f58ed6d304ccf002828e2f8"
  },
  "kernelspec": {
   "display_name": "Python 3.9.1 64-bit ('venv': venv)",
   "name": "python3"
  },
  "language_info": {
   "codemirror_mode": {
    "name": "ipython",
    "version": 3
   },
   "file_extension": ".py",
   "mimetype": "text/x-python",
   "name": "python",
   "nbconvert_exporter": "python",
   "pygments_lexer": "ipython3",
   "version": "3.9.1"
  },
  "orig_nbformat": 4
 },
 "nbformat": 4,
 "nbformat_minor": 2
}