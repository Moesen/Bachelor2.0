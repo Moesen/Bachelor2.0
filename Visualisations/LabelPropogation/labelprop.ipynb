{
 "cells": [
  {
   "cell_type": "code",
   "execution_count": 23,
   "metadata": {},
   "outputs": [],
   "source": [
    "import numpy as np\r\n",
    "import networkx as nx\r\n",
    "import array_to_latex as a2l\r\n",
    "import matplotlib.pyplot as plt"
   ]
  },
  {
   "cell_type": "code",
   "execution_count": 24,
   "metadata": {},
   "outputs": [
    {
     "name": "stdout",
     "output_type": "stream",
     "text": [
      "[(0, 1), (1, 0), (1, 4), (2, 4), (3, 4), (4, 1), (4, 2), (4, 3)]\n"
     ]
    }
   ],
   "source": [
    "nodes = 5\r\n",
    "node_colors = np.array([\r\n",
    "    \"grey\",\r\n",
    "    \"red\",\r\n",
    "    \"green\",\r\n",
    "    \"blue\",\r\n",
    "])\r\n",
    "labels = np.array([-1, 0, 1, 1, -1])\r\n",
    "\r\n",
    "arr_edges = np.array([\r\n",
    "    [0, 1, 0, 0, 0],\r\n",
    "    [1, 0, 0, 0, 1],\r\n",
    "    [0, 0, 0, 0, 1],\r\n",
    "    [0, 0, 0, 0, 1],\r\n",
    "    [0, 1, 1, 1, 0]\r\n",
    "])\r\n",
    "\r\n",
    "edges = []\r\n",
    "for i, row in enumerate(arr_edges):\r\n",
    "    indices = list(np.where(row==1))\r\n",
    "    for j in indices[0]:\r\n",
    "        edges.append((i, j))\r\n",
    "print(edges)"
   ]
  },
  {
   "cell_type": "code",
   "execution_count": 25,
   "metadata": {},
   "outputs": [
    {
     "data": {
      "image/png": "[encoded data removed]",
      "text/plain": "<Figure size 720x720 with 1 Axes>"
     },
     "metadata": {},
     "output_type": "display_data"
    }
   ],
   "source": [
    "np.random.seed(33)\r\n",
    "plt.subplots(1, 1, figsize=(10, 10))\r\n",
    "G = nx.Graph()\r\n",
    "\r\n",
    "G.add_nodes_from([x for x in range(5)])\r\n",
    "G.add_edges_from(edges)\r\n",
    "pos = nx.spring_layout(G)\r\n",
    "\r\n",
    "colors = node_colors[(labels+1)]\r\n",
    "labs = {x: f\"label: {l}\\nindex: {x}\" for x, l in enumerate(labels)}\r\n",
    "\r\n",
    "nx.draw_networkx_nodes(G, pos, node_size=2000, node_color=colors)\r\n",
    "nx.draw_networkx_labels(G, pos, labels=labs, font_size=10)\r\n",
    "nx.draw_networkx_edges(G, pos, width=2)\r\n",
    "\r\n",
    "plt.savefig(\"graphexample.png\")"
   ]
  },
  {
   "cell_type": "code",
   "execution_count": 26,
   "metadata": {},
   "outputs": [],
   "source": [
    "a2l.to_clp(arr_edges, frmt='{:1.0f}')"
   ]
  },
  {
   "cell_type": "code",
   "execution_count": 27,
   "metadata": {},
   "outputs": [],
   "source": [
    "oht = np.eye(2, dtype=np.int8)[labels.reshape(-1)]\r\n",
    "a2l.to_clp(oht, frmt='{:1.0f}')"
   ]
  },
  {
   "cell_type": "code",
   "execution_count": 28,
   "metadata": {},
   "outputs": [],
   "source": [
    "a2l.to_clp(labels)"
   ]
  },
  {
   "cell_type": "code",
   "execution_count": 29,
   "metadata": {},
   "outputs": [
    {
     "name": "stdout",
     "output_type": "stream",
     "text": [
      "[[0 0 0 0 0 0 0 0 0 0]\n",
      " [1 0 0 0 0 0 0 0 0 0]\n",
      " [0 1 0 0 0 0 0 0 0 0]\n",
      " [0 1 0 0 0 0 0 0 0 0]\n",
      " [0 0 0 0 0 0 0 0 0 0]]\n"
     ]
    }
   ],
   "source": [
    "oht_labels = np.eye(10, dtype=np.int8)[np.array(labels, dtype=int).reshape(-1)]\r\n",
    "oht = np.array(oht_labels, dtype=int)\r\n",
    "oht[[0, 4], :] = 0\r\n",
    "a2l.to_clp(oht, frmt=\"{:1.0f}\")\r\n",
    "print(oht)"
   ]
  },
  {
   "cell_type": "code",
   "execution_count": 36,
   "metadata": {},
   "outputs": [],
   "source": [
    "from scipy.sparse import csr_matrix\r\n",
    "from sklearn.preprocessing import normalize"
   ]
  },
  {
   "cell_type": "code",
   "execution_count": 34,
   "metadata": {},
   "outputs": [],
   "source": [
    "sparse_oht = csr_matrix(oht)\r\n",
    "sparse_g = csr_matrix(arr_edges)\r\n"
   ]
  },
  {
   "cell_type": "code",
   "execution_count": 40,
   "metadata": {},
   "outputs": [
    {
     "name": "stdout",
     "output_type": "stream",
     "text": [
      "[[1 0 0 0 0 0 0 0 0 0]\n",
      " [0 0 0 0 0 0 0 0 0 0]\n",
      " [0 0 0 0 0 0 0 0 0 0]\n",
      " [0 0 0 0 0 0 0 0 0 0]\n",
      " [1 2 0 0 0 0 0 0 0 0]]\n"
     ]
    }
   ],
   "source": [
    "p = sparse_g.dot(sparse_oht)\r\n",
    "a2l.to_clp(p.toarray(), frmt=\"{:1.0f}\")\r\n",
    "print(p.toarray())"
   ]
  },
  {
   "cell_type": "code",
   "execution_count": 43,
   "metadata": {},
   "outputs": [
    {
     "name": "stdout",
     "output_type": "stream",
     "text": [
      "[[1.         0.         0.         0.         0.         0.\n",
      "  0.         0.         0.         0.        ]\n",
      " [0.         0.         0.         0.         0.         0.\n",
      "  0.         0.         0.         0.        ]\n",
      " [0.         0.         0.         0.         0.         0.\n",
      "  0.         0.         0.         0.        ]\n",
      " [0.         0.         0.         0.         0.         0.\n",
      "  0.         0.         0.         0.        ]\n",
      " [0.33333333 0.66666667 0.         0.         0.         0.\n",
      "  0.         0.         0.         0.        ]]\n"
     ]
    }
   ],
   "source": [
    "n = normalize(p, norm=\"l1\", axis=1)\r\n",
    "print(n.toarray())\r\n",
    "a2l.to_clp(n.toarray(), frmt=\"{:1.1f}\")"
   ]
  }
 ],
 "metadata": {
  "kernelspec": {
   "display_name": "Python 3.9.1  ('venv': venv)",
   "name": "pythonjvsc74a57bd058aa04b103fd36fc9df9a10149a01a97ade5c9d7d74c8ec61d42dda78da5f273"
  },
  "language_info": {
   "codemirror_mode": {
    "name": "ipython",
    "version": 3
   },
   "file_extension": ".py",
   "mimetype": "text/x-python",
   "name": "python",
   "nbconvert_exporter": "python",
   "pygments_lexer": "ipython3",
   "version": "3.9.1"
  },
  "metadata": {
   "interpreter": {
    "hash": "58aa04b103fd36fc9df9a10149a01a97ade5c9d7d74c8ec61d42dda78da5f273"
   }
  },
  "orig_nbformat": 2
 },
 "nbformat": 4,
 "nbformat_minor": 2
}