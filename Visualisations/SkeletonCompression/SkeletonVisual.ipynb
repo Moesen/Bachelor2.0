{
 "cells": [
  {
   "cell_type": "code",
   "execution_count": 1,
   "metadata": {},
   "outputs": [],
   "source": [
    "from pygel3d import graph, jupyter_display as jd"
   ]
  },
  {
   "cell_type": "code",
   "execution_count": 2,
   "metadata": {},
   "outputs": [],
   "source": [
    "s1path = r\"F:\\Git\\Bachelor2.0\\Data\\Skeletons\\skel_12.g\"\r\n",
    "s2path = r\"F:\\Git\\Bachelor2.0\\Data\\Skeletons\\skel_22.g\""
   ]
  },
  {
   "cell_type": "code",
   "execution_count": 3,
   "metadata": {},
   "outputs": [],
   "source": [
    "s1 = graph.load(s1path)\r\n",
    "s2 = graph.load(s2path)"
   ]
  },
  {
   "cell_type": "code",
   "execution_count": 8,
   "metadata": {},
   "outputs": [
    {
     "data": {
      "application/vnd.jupyter.widget-view+json": {
       "model_id": "fc7c832b8aa047039deca677fd055b7e",
       "version_major": 2,
       "version_minor": 0
      },
      "text/plain": [
       "FigureWidget({\n",
       "    'data': [{'hoverinfo': 'none',\n",
       "              'line': {'color': 'rgb(0,0,0)', 'width': 1},\n",
       " …"
      ]
     },
     "metadata": {},
     "output_type": "display_data"
    }
   ],
   "source": [
    "a = [100.0, 255.0, 100.1]\r\n",
    "data = [a for x in range(len(s1.nodes()))]\r\n",
    "jd.display(s1, data=data)"
   ]
  },
  {
   "cell_type": "code",
   "execution_count": 5,
   "metadata": {},
   "outputs": [
    {
     "data": {
      "application/vnd.jupyter.widget-view+json": {
       "model_id": "7f622806a2ff4d9c86f2e1e5046e8124",
       "version_major": 2,
       "version_minor": 0
      },
      "text/plain": [
       "FigureWidget({\n",
       "    'data': [{'hoverinfo': 'none',\n",
       "              'line': {'color': 'rgb(0,0,0)', 'width': 1},\n",
       " …"
      ]
     },
     "metadata": {},
     "output_type": "display_data"
    }
   ],
   "source": [
    "jd.display(s2)"
   ]
  }
 ],
 "metadata": {
  "interpreter": {
   "hash": "27fe2b2542c299aa4a581cc94931f279d393b4ec0f58ed6d304ccf002828e2f8"
  },
  "kernelspec": {
   "display_name": "Python 3.9.1 64-bit ('venv': venv)",
   "name": "python3"
  },
  "language_info": {
   "codemirror_mode": {
    "name": "ipython",
    "version": 3
   },
   "file_extension": ".py",
   "mimetype": "text/x-python",
   "name": "python",
   "nbconvert_exporter": "python",
   "pygments_lexer": "ipython3",
   "version": "3.9.1"
  },
  "orig_nbformat": 4
 },
 "nbformat": 4,
 "nbformat_minor": 2
}