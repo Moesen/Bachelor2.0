{
 "metadata": {
  "language_info": {
   "codemirror_mode": {
    "name": "ipython",
    "version": 3
   },
   "file_extension": ".py",
   "mimetype": "text/x-python",
   "name": "python",
   "nbconvert_exporter": "python",
   "pygments_lexer": "ipython3",
   "version": "3.7.9"
  },
  "orig_nbformat": 2,
  "kernelspec": {
   "name": "pythonjvsc74a57bd06bcac8eee3f9f92f54ca12cf5290ea5fda99e4a1e7e519f59e1d4058e7c8ee51",
   "display_name": "Python 3.7.9  ('venv3.7': venv)"
  },
  "metadata": {
   "interpreter": {
    "hash": "6bcac8eee3f9f92f54ca12cf5290ea5fda99e4a1e7e519f59e1d4058e7c8ee51"
   }
  }
 },
 "nbformat": 4,
 "nbformat_minor": 2,
 "cells": [
  {
   "cell_type": "code",
   "execution_count": 1,
   "metadata": {},
   "outputs": [
    {
     "output_type": "error",
     "ename": "ModuleNotFoundError",
     "evalue": "No module named 'bpy_types'",
     "traceback": [
      "\u001b[1;31m---------------------------------------------------------------------------\u001b[0m",
      "\u001b[1;31mModuleNotFoundError\u001b[0m                       Traceback (most recent call last)",
      "\u001b[1;31mModuleNotFoundError\u001b[0m: No module named 'bpy_types'"
     ]
    }
   ],
   "source": [
    "import bpy"
   ]
  }
 ]
}