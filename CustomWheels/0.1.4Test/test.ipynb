{
 "metadata": {
  "language_info": {
   "codemirror_mode": {
    "name": "ipython",
    "version": 3
   },
   "file_extension": ".py",
   "mimetype": "text/x-python",
   "name": "python",
   "nbconvert_exporter": "python",
   "pygments_lexer": "ipython3",
   "version": "3.9.1"
  },
  "orig_nbformat": 2,
  "kernelspec": {
   "name": "pythonjvsc74a57bd058aa04b103fd36fc9df9a10149a01a97ade5c9d7d74c8ec61d42dda78da5f273",
   "display_name": "Python 3.9.1  ('venv': venv)"
  },
  "metadata": {
   "interpreter": {
    "hash": "58aa04b103fd36fc9df9a10149a01a97ade5c9d7d74c8ec61d42dda78da5f273"
   }
  }
 },
 "nbformat": 4,
 "nbformat_minor": 2,
 "cells": [
  {
   "cell_type": "code",
   "execution_count": 2,
   "metadata": {},
   "outputs": [],
   "source": [
    "from pygel3d import hmesh, graph, jupyter_display as jd"
   ]
  },
  {
   "cell_type": "code",
   "execution_count": 4,
   "metadata": {},
   "outputs": [],
   "source": [
    "m = hmesh.load(\"../../TestObjects/bunny.obj\")"
   ]
  },
  {
   "cell_type": "code",
   "execution_count": 6,
   "metadata": {},
   "outputs": [],
   "source": [
    "hmesh.close_holes(m)\n",
    "hmesh.triangulate(m)\n",
    "hmesh.quadric_simplify(m, .1)"
   ]
  },
  {
   "cell_type": "code",
   "execution_count": 10,
   "metadata": {},
   "outputs": [],
   "source": [
    "g = graph.from_mesh(m)\n",
    "# jd.display(g)"
   ]
  },
  {
   "cell_type": "code",
   "execution_count": 12,
   "metadata": {},
   "outputs": [],
   "source": [
    "pos = g.positions()\n",
    "col = [pos[:, 0], pos[:, 1], pos[:, 2]]"
   ]
  },
  {
   "cell_type": "code",
   "execution_count": 14,
   "metadata": {},
   "outputs": [],
   "source": [
    "skel, mapping = graph.front_skeleton_and_map(g, col)"
   ]
  },
  {
   "cell_type": "code",
   "execution_count": 18,
   "metadata": {},
   "outputs": [
    {
     "output_type": "display_data",
     "data": {
      "text/plain": "FigureWidget({\n    'data': [{'hoverinfo': 'none',\n              'line': {'color': 'rgb(0,0,0)', 'width': 1},\n …",
      "application/vnd.jupyter.widget-view+json": {
       "version_major": 2,
       "version_minor": 0,
       "model_id": "64e1469f57ff4b0184576eeedbf17884"
      }
     },
     "metadata": {}
    }
   ],
   "source": [
    "jd.display(skel)"
   ]
  }
 ]
}